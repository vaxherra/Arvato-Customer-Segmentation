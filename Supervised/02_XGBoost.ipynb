{
 "cells": [
  {
   "cell_type": "code",
   "execution_count": 4,
   "metadata": {},
   "outputs": [
    {
     "name": "stdout",
     "output_type": "stream",
     "text": [
      "Collecting xgboost\n",
      "  Using cached xgboost-1.1.1-py3-none-manylinux2010_x86_64.whl (127.6 MB)\n",
      "Requirement already satisfied: numpy in /home/ec2-user/anaconda3/envs/tensorflow2_p36/lib/python3.6/site-packages (from xgboost) (1.18.1)\n",
      "Requirement already satisfied: scipy in /home/ec2-user/anaconda3/envs/tensorflow2_p36/lib/python3.6/site-packages (from xgboost) (1.4.1)\n",
      "Installing collected packages: xgboost\n",
      "Successfully installed xgboost-1.1.1\n",
      "\u001b[33mWARNING: You are using pip version 20.0.2; however, version 20.1.1 is available.\n",
      "You should consider upgrading via the '/home/ec2-user/anaconda3/envs/tensorflow2_p36/bin/python -m pip install --upgrade pip' command.\u001b[0m\n"
     ]
    }
   ],
   "source": [
    "!pip3 install xgboost"
   ]
  },
  {
   "cell_type": "code",
   "execution_count": 5,
   "metadata": {},
   "outputs": [],
   "source": [
    "import numpy as np\n",
    "import pandas as pd\n",
    "import matplotlib.pyplot as plt\n",
    "import seaborn as sns\n",
    "from tqdm import tqdm\n",
    "  \n",
    "%matplotlib inline\n",
    "\n",
    "# my utils\n",
    "from supervised_utils import *\n",
    "\n",
    "# XGBOOST\n",
    "import xgboost as xgb\n",
    "\n",
    "# AWS boto/sagemaker\n",
    "import boto3\n",
    "import sagemaker\n",
    "from sagemaker import get_execution_role\n",
    "from sagemaker.amazon.amazon_estimator import get_image_uri\n",
    "\n",
    "# sagemaker session, role\n",
    "sagemaker_session = sagemaker.Session()\n",
    "role = sagemaker.get_execution_role()\n",
    "\n",
    "# S3 bucket name\n",
    "bucket = sagemaker_session.default_bucket()"
   ]
  },
  {
   "cell_type": "code",
   "execution_count": 6,
   "metadata": {},
   "outputs": [
    {
     "data": {
      "text/html": [
       "<div>\n",
       "<style scoped>\n",
       "    .dataframe tbody tr th:only-of-type {\n",
       "        vertical-align: middle;\n",
       "    }\n",
       "\n",
       "    .dataframe tbody tr th {\n",
       "        vertical-align: top;\n",
       "    }\n",
       "\n",
       "    .dataframe thead th {\n",
       "        text-align: right;\n",
       "    }\n",
       "</style>\n",
       "<table border=\"1\" class=\"dataframe\">\n",
       "  <thead>\n",
       "    <tr style=\"text-align: right;\">\n",
       "      <th></th>\n",
       "      <th>ANZ_HAUSHALTE_AKTIV</th>\n",
       "      <th>ANZ_HH_TITEL</th>\n",
       "      <th>ANZ_PERSONEN</th>\n",
       "      <th>ANZ_STATISTISCHE_HAUSHALTE</th>\n",
       "      <th>ANZ_TITEL</th>\n",
       "      <th>BALLRAUM</th>\n",
       "      <th>CAMEO_DEUG_2015</th>\n",
       "      <th>CAMEO_DEUINTL_2015</th>\n",
       "      <th>D19_BANKEN_DIREKT_RZ</th>\n",
       "      <th>D19_BANKEN_GROSS_RZ</th>\n",
       "      <th>...</th>\n",
       "      <th>ALTERSKATEGORIE_FEIN_16.0</th>\n",
       "      <th>ALTERSKATEGORIE_FEIN_17.0</th>\n",
       "      <th>ALTERSKATEGORIE_FEIN_18.0</th>\n",
       "      <th>ALTERSKATEGORIE_FEIN_19.0</th>\n",
       "      <th>ALTERSKATEGORIE_FEIN_20.0</th>\n",
       "      <th>ALTERSKATEGORIE_FEIN_21.0</th>\n",
       "      <th>ALTERSKATEGORIE_FEIN_22.0</th>\n",
       "      <th>ALTERSKATEGORIE_FEIN_23.0</th>\n",
       "      <th>ALTERSKATEGORIE_FEIN_24.0</th>\n",
       "      <th>ALTERSKATEGORIE_FEIN_25.0</th>\n",
       "    </tr>\n",
       "    <tr>\n",
       "      <th>LNR</th>\n",
       "      <th></th>\n",
       "      <th></th>\n",
       "      <th></th>\n",
       "      <th></th>\n",
       "      <th></th>\n",
       "      <th></th>\n",
       "      <th></th>\n",
       "      <th></th>\n",
       "      <th></th>\n",
       "      <th></th>\n",
       "      <th></th>\n",
       "      <th></th>\n",
       "      <th></th>\n",
       "      <th></th>\n",
       "      <th></th>\n",
       "      <th></th>\n",
       "      <th></th>\n",
       "      <th></th>\n",
       "      <th></th>\n",
       "      <th></th>\n",
       "      <th></th>\n",
       "    </tr>\n",
       "  </thead>\n",
       "  <tbody>\n",
       "    <tr>\n",
       "      <th>1763</th>\n",
       "      <td>0.038622</td>\n",
       "      <td>0.011397</td>\n",
       "      <td>0.048008</td>\n",
       "      <td>0.038811</td>\n",
       "      <td>0.009514</td>\n",
       "      <td>0.666667</td>\n",
       "      <td>0.444444</td>\n",
       "      <td>0.523810</td>\n",
       "      <td>0.000000</td>\n",
       "      <td>0.0</td>\n",
       "      <td>...</td>\n",
       "      <td>0.0</td>\n",
       "      <td>0.0</td>\n",
       "      <td>0.0</td>\n",
       "      <td>0.0</td>\n",
       "      <td>0.0</td>\n",
       "      <td>0.0</td>\n",
       "      <td>0.0</td>\n",
       "      <td>0.0</td>\n",
       "      <td>0.0</td>\n",
       "      <td>0.0</td>\n",
       "    </tr>\n",
       "    <tr>\n",
       "      <th>1771</th>\n",
       "      <td>0.006804</td>\n",
       "      <td>0.011397</td>\n",
       "      <td>0.089399</td>\n",
       "      <td>0.006949</td>\n",
       "      <td>0.009514</td>\n",
       "      <td>0.666667</td>\n",
       "      <td>0.444444</td>\n",
       "      <td>0.428571</td>\n",
       "      <td>0.000000</td>\n",
       "      <td>0.0</td>\n",
       "      <td>...</td>\n",
       "      <td>0.0</td>\n",
       "      <td>0.0</td>\n",
       "      <td>0.0</td>\n",
       "      <td>0.0</td>\n",
       "      <td>0.0</td>\n",
       "      <td>0.0</td>\n",
       "      <td>0.0</td>\n",
       "      <td>0.0</td>\n",
       "      <td>0.0</td>\n",
       "      <td>0.0</td>\n",
       "    </tr>\n",
       "    <tr>\n",
       "      <th>1776</th>\n",
       "      <td>0.004531</td>\n",
       "      <td>0.012199</td>\n",
       "      <td>0.006617</td>\n",
       "      <td>0.006949</td>\n",
       "      <td>0.009514</td>\n",
       "      <td>0.000000</td>\n",
       "      <td>0.111111</td>\n",
       "      <td>0.095238</td>\n",
       "      <td>0.000000</td>\n",
       "      <td>0.0</td>\n",
       "      <td>...</td>\n",
       "      <td>0.0</td>\n",
       "      <td>0.0</td>\n",
       "      <td>0.0</td>\n",
       "      <td>0.0</td>\n",
       "      <td>0.0</td>\n",
       "      <td>0.0</td>\n",
       "      <td>0.0</td>\n",
       "      <td>0.0</td>\n",
       "      <td>0.0</td>\n",
       "      <td>0.0</td>\n",
       "    </tr>\n",
       "    <tr>\n",
       "      <th>1460</th>\n",
       "      <td>0.013622</td>\n",
       "      <td>0.011397</td>\n",
       "      <td>0.089399</td>\n",
       "      <td>0.014914</td>\n",
       "      <td>0.009514</td>\n",
       "      <td>0.166667</td>\n",
       "      <td>0.111111</td>\n",
       "      <td>0.095238</td>\n",
       "      <td>0.000000</td>\n",
       "      <td>0.0</td>\n",
       "      <td>...</td>\n",
       "      <td>0.0</td>\n",
       "      <td>0.0</td>\n",
       "      <td>0.0</td>\n",
       "      <td>0.0</td>\n",
       "      <td>0.0</td>\n",
       "      <td>0.0</td>\n",
       "      <td>0.0</td>\n",
       "      <td>0.0</td>\n",
       "      <td>0.0</td>\n",
       "      <td>0.0</td>\n",
       "    </tr>\n",
       "    <tr>\n",
       "      <th>1783</th>\n",
       "      <td>0.124987</td>\n",
       "      <td>0.011397</td>\n",
       "      <td>0.048008</td>\n",
       "      <td>0.121123</td>\n",
       "      <td>0.009514</td>\n",
       "      <td>0.500000</td>\n",
       "      <td>0.666667</td>\n",
       "      <td>0.619048</td>\n",
       "      <td>0.000000</td>\n",
       "      <td>0.0</td>\n",
       "      <td>...</td>\n",
       "      <td>0.0</td>\n",
       "      <td>0.0</td>\n",
       "      <td>0.0</td>\n",
       "      <td>0.0</td>\n",
       "      <td>0.0</td>\n",
       "      <td>0.0</td>\n",
       "      <td>0.0</td>\n",
       "      <td>0.0</td>\n",
       "      <td>0.0</td>\n",
       "      <td>0.0</td>\n",
       "    </tr>\n",
       "    <tr>\n",
       "      <th>...</th>\n",
       "      <td>...</td>\n",
       "      <td>...</td>\n",
       "      <td>...</td>\n",
       "      <td>...</td>\n",
       "      <td>...</td>\n",
       "      <td>...</td>\n",
       "      <td>...</td>\n",
       "      <td>...</td>\n",
       "      <td>...</td>\n",
       "      <td>...</td>\n",
       "      <td>...</td>\n",
       "      <td>...</td>\n",
       "      <td>...</td>\n",
       "      <td>...</td>\n",
       "      <td>...</td>\n",
       "      <td>...</td>\n",
       "      <td>...</td>\n",
       "      <td>...</td>\n",
       "      <td>...</td>\n",
       "      <td>...</td>\n",
       "      <td>...</td>\n",
       "    </tr>\n",
       "    <tr>\n",
       "      <th>67615</th>\n",
       "      <td>0.010804</td>\n",
       "      <td>0.009730</td>\n",
       "      <td>0.034631</td>\n",
       "      <td>0.011001</td>\n",
       "      <td>0.009510</td>\n",
       "      <td>0.833333</td>\n",
       "      <td>0.444444</td>\n",
       "      <td>0.476190</td>\n",
       "      <td>0.000000</td>\n",
       "      <td>0.0</td>\n",
       "      <td>...</td>\n",
       "      <td>0.0</td>\n",
       "      <td>0.0</td>\n",
       "      <td>0.0</td>\n",
       "      <td>0.0</td>\n",
       "      <td>0.0</td>\n",
       "      <td>0.0</td>\n",
       "      <td>0.0</td>\n",
       "      <td>0.0</td>\n",
       "      <td>0.0</td>\n",
       "      <td>0.0</td>\n",
       "    </tr>\n",
       "    <tr>\n",
       "      <th>67938</th>\n",
       "      <td>0.009076</td>\n",
       "      <td>0.011397</td>\n",
       "      <td>0.048008</td>\n",
       "      <td>0.009604</td>\n",
       "      <td>0.009514</td>\n",
       "      <td>0.833333</td>\n",
       "      <td>0.555556</td>\n",
       "      <td>0.380952</td>\n",
       "      <td>0.000000</td>\n",
       "      <td>0.0</td>\n",
       "      <td>...</td>\n",
       "      <td>0.0</td>\n",
       "      <td>0.0</td>\n",
       "      <td>0.0</td>\n",
       "      <td>0.0</td>\n",
       "      <td>0.0</td>\n",
       "      <td>0.0</td>\n",
       "      <td>0.0</td>\n",
       "      <td>0.0</td>\n",
       "      <td>0.0</td>\n",
       "      <td>0.0</td>\n",
       "    </tr>\n",
       "    <tr>\n",
       "      <th>67942</th>\n",
       "      <td>0.006804</td>\n",
       "      <td>0.011397</td>\n",
       "      <td>0.130790</td>\n",
       "      <td>0.006949</td>\n",
       "      <td>0.009514</td>\n",
       "      <td>0.833333</td>\n",
       "      <td>0.333333</td>\n",
       "      <td>0.285714</td>\n",
       "      <td>0.857143</td>\n",
       "      <td>0.0</td>\n",
       "      <td>...</td>\n",
       "      <td>0.0</td>\n",
       "      <td>0.0</td>\n",
       "      <td>0.0</td>\n",
       "      <td>0.0</td>\n",
       "      <td>0.0</td>\n",
       "      <td>0.0</td>\n",
       "      <td>0.0</td>\n",
       "      <td>0.0</td>\n",
       "      <td>0.0</td>\n",
       "      <td>0.0</td>\n",
       "    </tr>\n",
       "    <tr>\n",
       "      <th>67949</th>\n",
       "      <td>0.006804</td>\n",
       "      <td>0.011397</td>\n",
       "      <td>0.048008</td>\n",
       "      <td>0.006949</td>\n",
       "      <td>0.009514</td>\n",
       "      <td>0.833333</td>\n",
       "      <td>0.000000</td>\n",
       "      <td>0.095238</td>\n",
       "      <td>0.000000</td>\n",
       "      <td>0.0</td>\n",
       "      <td>...</td>\n",
       "      <td>0.0</td>\n",
       "      <td>0.0</td>\n",
       "      <td>0.0</td>\n",
       "      <td>0.0</td>\n",
       "      <td>0.0</td>\n",
       "      <td>0.0</td>\n",
       "      <td>0.0</td>\n",
       "      <td>0.0</td>\n",
       "      <td>0.0</td>\n",
       "      <td>0.0</td>\n",
       "    </tr>\n",
       "    <tr>\n",
       "      <th>68898</th>\n",
       "      <td>0.006804</td>\n",
       "      <td>0.060827</td>\n",
       "      <td>0.089399</td>\n",
       "      <td>0.006949</td>\n",
       "      <td>0.339676</td>\n",
       "      <td>0.833333</td>\n",
       "      <td>0.777778</td>\n",
       "      <td>0.809524</td>\n",
       "      <td>0.000000</td>\n",
       "      <td>0.0</td>\n",
       "      <td>...</td>\n",
       "      <td>0.0</td>\n",
       "      <td>0.0</td>\n",
       "      <td>0.0</td>\n",
       "      <td>0.0</td>\n",
       "      <td>0.0</td>\n",
       "      <td>0.0</td>\n",
       "      <td>0.0</td>\n",
       "      <td>0.0</td>\n",
       "      <td>0.0</td>\n",
       "      <td>0.0</td>\n",
       "    </tr>\n",
       "  </tbody>\n",
       "</table>\n",
       "<p>77927 rows × 811 columns</p>\n",
       "</div>"
      ],
      "text/plain": [
       "       ANZ_HAUSHALTE_AKTIV  ANZ_HH_TITEL  ANZ_PERSONEN  \\\n",
       "LNR                                                      \n",
       "1763              0.038622      0.011397      0.048008   \n",
       "1771              0.006804      0.011397      0.089399   \n",
       "1776              0.004531      0.012199      0.006617   \n",
       "1460              0.013622      0.011397      0.089399   \n",
       "1783              0.124987      0.011397      0.048008   \n",
       "...                    ...           ...           ...   \n",
       "67615             0.010804      0.009730      0.034631   \n",
       "67938             0.009076      0.011397      0.048008   \n",
       "67942             0.006804      0.011397      0.130790   \n",
       "67949             0.006804      0.011397      0.048008   \n",
       "68898             0.006804      0.060827      0.089399   \n",
       "\n",
       "       ANZ_STATISTISCHE_HAUSHALTE  ANZ_TITEL  BALLRAUM  CAMEO_DEUG_2015  \\\n",
       "LNR                                                                       \n",
       "1763                     0.038811   0.009514  0.666667         0.444444   \n",
       "1771                     0.006949   0.009514  0.666667         0.444444   \n",
       "1776                     0.006949   0.009514  0.000000         0.111111   \n",
       "1460                     0.014914   0.009514  0.166667         0.111111   \n",
       "1783                     0.121123   0.009514  0.500000         0.666667   \n",
       "...                           ...        ...       ...              ...   \n",
       "67615                    0.011001   0.009510  0.833333         0.444444   \n",
       "67938                    0.009604   0.009514  0.833333         0.555556   \n",
       "67942                    0.006949   0.009514  0.833333         0.333333   \n",
       "67949                    0.006949   0.009514  0.833333         0.000000   \n",
       "68898                    0.006949   0.339676  0.833333         0.777778   \n",
       "\n",
       "       CAMEO_DEUINTL_2015  D19_BANKEN_DIREKT_RZ  D19_BANKEN_GROSS_RZ  ...  \\\n",
       "LNR                                                                   ...   \n",
       "1763             0.523810              0.000000                  0.0  ...   \n",
       "1771             0.428571              0.000000                  0.0  ...   \n",
       "1776             0.095238              0.000000                  0.0  ...   \n",
       "1460             0.095238              0.000000                  0.0  ...   \n",
       "1783             0.619048              0.000000                  0.0  ...   \n",
       "...                   ...                   ...                  ...  ...   \n",
       "67615            0.476190              0.000000                  0.0  ...   \n",
       "67938            0.380952              0.000000                  0.0  ...   \n",
       "67942            0.285714              0.857143                  0.0  ...   \n",
       "67949            0.095238              0.000000                  0.0  ...   \n",
       "68898            0.809524              0.000000                  0.0  ...   \n",
       "\n",
       "       ALTERSKATEGORIE_FEIN_16.0  ALTERSKATEGORIE_FEIN_17.0  \\\n",
       "LNR                                                           \n",
       "1763                         0.0                        0.0   \n",
       "1771                         0.0                        0.0   \n",
       "1776                         0.0                        0.0   \n",
       "1460                         0.0                        0.0   \n",
       "1783                         0.0                        0.0   \n",
       "...                          ...                        ...   \n",
       "67615                        0.0                        0.0   \n",
       "67938                        0.0                        0.0   \n",
       "67942                        0.0                        0.0   \n",
       "67949                        0.0                        0.0   \n",
       "68898                        0.0                        0.0   \n",
       "\n",
       "       ALTERSKATEGORIE_FEIN_18.0  ALTERSKATEGORIE_FEIN_19.0  \\\n",
       "LNR                                                           \n",
       "1763                         0.0                        0.0   \n",
       "1771                         0.0                        0.0   \n",
       "1776                         0.0                        0.0   \n",
       "1460                         0.0                        0.0   \n",
       "1783                         0.0                        0.0   \n",
       "...                          ...                        ...   \n",
       "67615                        0.0                        0.0   \n",
       "67938                        0.0                        0.0   \n",
       "67942                        0.0                        0.0   \n",
       "67949                        0.0                        0.0   \n",
       "68898                        0.0                        0.0   \n",
       "\n",
       "       ALTERSKATEGORIE_FEIN_20.0  ALTERSKATEGORIE_FEIN_21.0  \\\n",
       "LNR                                                           \n",
       "1763                         0.0                        0.0   \n",
       "1771                         0.0                        0.0   \n",
       "1776                         0.0                        0.0   \n",
       "1460                         0.0                        0.0   \n",
       "1783                         0.0                        0.0   \n",
       "...                          ...                        ...   \n",
       "67615                        0.0                        0.0   \n",
       "67938                        0.0                        0.0   \n",
       "67942                        0.0                        0.0   \n",
       "67949                        0.0                        0.0   \n",
       "68898                        0.0                        0.0   \n",
       "\n",
       "       ALTERSKATEGORIE_FEIN_22.0  ALTERSKATEGORIE_FEIN_23.0  \\\n",
       "LNR                                                           \n",
       "1763                         0.0                        0.0   \n",
       "1771                         0.0                        0.0   \n",
       "1776                         0.0                        0.0   \n",
       "1460                         0.0                        0.0   \n",
       "1783                         0.0                        0.0   \n",
       "...                          ...                        ...   \n",
       "67615                        0.0                        0.0   \n",
       "67938                        0.0                        0.0   \n",
       "67942                        0.0                        0.0   \n",
       "67949                        0.0                        0.0   \n",
       "68898                        0.0                        0.0   \n",
       "\n",
       "       ALTERSKATEGORIE_FEIN_24.0  ALTERSKATEGORIE_FEIN_25.0  \n",
       "LNR                                                          \n",
       "1763                         0.0                        0.0  \n",
       "1771                         0.0                        0.0  \n",
       "1776                         0.0                        0.0  \n",
       "1460                         0.0                        0.0  \n",
       "1783                         0.0                        0.0  \n",
       "...                          ...                        ...  \n",
       "67615                        0.0                        0.0  \n",
       "67938                        0.0                        0.0  \n",
       "67942                        0.0                        0.0  \n",
       "67949                        0.0                        0.0  \n",
       "68898                        0.0                        0.0  \n",
       "\n",
       "[77927 rows x 811 columns]"
      ]
     },
     "execution_count": 6,
     "metadata": {},
     "output_type": "execute_result"
    }
   ],
   "source": [
    "mailout_joint_dataset_imputed_df = pd.read_csv(\"../arvato_data_processed/MAILOUTimputed.csv\", index_col='LNR')\n",
    "\n",
    "from sklearn.preprocessing import MinMaxScaler\n",
    "\n",
    "MMS = MinMaxScaler()\n",
    "\n",
    "mailout_joint_dataset_imputed_df = pd.DataFrame(MMS.fit_transform(mailout_joint_dataset_imputed_df), index = mailout_joint_dataset_imputed_df.index, columns = mailout_joint_dataset_imputed_df.columns)\n",
    "mailout_joint_dataset_imputed_df"
   ]
  },
  {
   "cell_type": "code",
   "execution_count": 8,
   "metadata": {},
   "outputs": [],
   "source": [
    "train = mailout_joint_dataset_imputed_df[mailout_joint_dataset_imputed_df['dataset']==1]\n",
    "train_labels = train['RESPONSE']\n",
    "train = train.drop('dataset',axis='columns') \n",
    "train = train.drop('RESPONSE',axis='columns') "
   ]
  },
  {
   "cell_type": "markdown",
   "metadata": {},
   "source": [
    "# Model 1: XGBoost initial model\n"
   ]
  },
  {
   "cell_type": "code",
   "execution_count": null,
   "metadata": {},
   "outputs": [],
   "source": [
    "bayes_xgb = xgb.XGBClassifier(base_score=0.5, \n",
    "                              booster='gbtree', \n",
    "                              colsample_bylevel=1,\n",
    "                              colsample_bytree=0.7, \n",
    "                              eval_metric='auc', \n",
    "                              gamma=1.0,\n",
    "                              learning_rate=0.015, \n",
    "                              max_delta_step=0, \n",
    "                              max_depth=7,\n",
    "                              min_child_weight=1, \n",
    "                              missing=None, # I have imputed missing values\n",
    "                              n_estimators=236, \n",
    "                              n_jobs=-1,\n",
    "                              nthread=-1, \n",
    "                              objective='binary:logistic', \n",
    "                              random_state=0,\n",
    "                              reg_alpha=1e-09, \n",
    "                              reg_lambda=1, \n",
    "                              scale_pos_weight=1, \n",
    "                              seed=None,\n",
    "                              silent=1, \n",
    "                              subsample=0.5)"
   ]
  },
  {
   "cell_type": "code",
   "execution_count": 10,
   "metadata": {},
   "outputs": [
    {
     "name": "stdout",
     "output_type": "stream",
     "text": [
      "[17:57:41] WARNING: /workspace/src/learner.cc:480: \n",
      "Parameters: { silent } might not be used.\n",
      "\n",
      "  This may not be accurate due to some parameters are only used in language bindings but\n",
      "  passed down to XGBoost core.  Or some parameters are not used but slip through this\n",
      "  verification. Please open an issue if you find above cases.\n",
      "\n",
      "\n",
      "CPU times: user 3min 47s, sys: 286 ms, total: 3min 48s\n",
      "Wall time: 3min 48s\n"
     ]
    },
    {
     "data": {
      "text/plain": [
       "XGBClassifier(base_score=0.5, booster='gbtree', colsample_bylevel=1,\n",
       "              colsample_bynode=1, colsample_bytree=0.7, eval_metric='auc',\n",
       "              gamma=1.0, gpu_id=-1, importance_type='gain',\n",
       "              interaction_constraints='', learning_rate=0.015, max_delta_step=0,\n",
       "              max_depth=7, min_child_weight=1, missing=None,\n",
       "              monotone_constraints='()', n_estimators=236, n_jobs=-1,\n",
       "              nthread=-1, num_parallel_tree=1, objective='binary:logistic',\n",
       "              random_state=0, reg_alpha=1e-09, reg_lambda=1, scale_pos_weight=1,\n",
       "              seed=0, silent=1, subsample=0.5, tree_method='exact',\n",
       "              validate_parameters=1, ...)"
      ]
     },
     "execution_count": 10,
     "metadata": {},
     "output_type": "execute_result"
    }
   ],
   "source": [
    "%%time\n",
    "bayes_xgb.fit(train, train_labels)"
   ]
  },
  {
   "cell_type": "code",
   "execution_count": 52,
   "metadata": {},
   "outputs": [],
   "source": [
    "def xgb_important_features(model, feature_names,top=10,width=10,height=6):\n",
    "    \n",
    "    f_imp = pd.DataFrame(model.feature_importances_*100,index=feature_names)\n",
    "    f_imp.columns = ['Importance']\n",
    "    f_imp = f_imp.sort_values('Importance',ascending=False)\n",
    "    \n",
    "    f_imp_top = f_imp[:top]\n",
    "    f_imp_top = f_imp_top.sort_values('Importance',ascending=True)\n",
    "    \n",
    "    plt.figure(figsize=(width, height))\n",
    "    ax = plt.subplot( )\n",
    " \n",
    "    \n",
    "    ax.barh(y =f_imp_top.index, width =f_imp_top['Importance'])\n",
    "    \n",
    "    return(f_imp)\n",
    "\n"
   ]
  },
  {
   "cell_type": "code",
   "execution_count": 85,
   "metadata": {},
   "outputs": [
    {
     "data": {
      "text/html": [
       "<div>\n",
       "<style scoped>\n",
       "    .dataframe tbody tr th:only-of-type {\n",
       "        vertical-align: middle;\n",
       "    }\n",
       "\n",
       "    .dataframe tbody tr th {\n",
       "        vertical-align: top;\n",
       "    }\n",
       "\n",
       "    .dataframe thead th {\n",
       "        text-align: right;\n",
       "    }\n",
       "</style>\n",
       "<table border=\"1\" class=\"dataframe\">\n",
       "  <thead>\n",
       "    <tr style=\"text-align: right;\">\n",
       "      <th></th>\n",
       "      <th>Importance</th>\n",
       "    </tr>\n",
       "  </thead>\n",
       "  <tbody>\n",
       "    <tr>\n",
       "      <th>D19_SOZIALES_1.0</th>\n",
       "      <td>1.042657</td>\n",
       "    </tr>\n",
       "    <tr>\n",
       "      <th>D19_KONSUMTYP_MAX_2</th>\n",
       "      <td>0.388166</td>\n",
       "    </tr>\n",
       "    <tr>\n",
       "      <th>CJT_KATALOGNUTZER_4.0</th>\n",
       "      <td>0.383587</td>\n",
       "    </tr>\n",
       "    <tr>\n",
       "      <th>SHOPPER_TYP_0.0</th>\n",
       "      <td>0.355154</td>\n",
       "    </tr>\n",
       "    <tr>\n",
       "      <th>GFK_URLAUBERTYP_3.0</th>\n",
       "      <td>0.343839</td>\n",
       "    </tr>\n",
       "    <tr>\n",
       "      <th>...</th>\n",
       "      <td>...</td>\n",
       "    </tr>\n",
       "    <tr>\n",
       "      <th>PRAEGENDE_JUGENDJAHRE_15.0</th>\n",
       "      <td>0.000000</td>\n",
       "    </tr>\n",
       "    <tr>\n",
       "      <th>UMFELD_JUNG_1.0</th>\n",
       "      <td>0.000000</td>\n",
       "    </tr>\n",
       "    <tr>\n",
       "      <th>PRAEGENDE_JUGENDJAHRE_14.0</th>\n",
       "      <td>0.000000</td>\n",
       "    </tr>\n",
       "    <tr>\n",
       "      <th>PRAEGENDE_JUGENDJAHRE_13.0</th>\n",
       "      <td>0.000000</td>\n",
       "    </tr>\n",
       "    <tr>\n",
       "      <th>ALTERSKATEGORIE_FEIN_25.0</th>\n",
       "      <td>0.000000</td>\n",
       "    </tr>\n",
       "  </tbody>\n",
       "</table>\n",
       "<p>809 rows × 1 columns</p>\n",
       "</div>"
      ],
      "text/plain": [
       "                            Importance\n",
       "D19_SOZIALES_1.0              1.042657\n",
       "D19_KONSUMTYP_MAX_2           0.388166\n",
       "CJT_KATALOGNUTZER_4.0         0.383587\n",
       "SHOPPER_TYP_0.0               0.355154\n",
       "GFK_URLAUBERTYP_3.0           0.343839\n",
       "...                                ...\n",
       "PRAEGENDE_JUGENDJAHRE_15.0    0.000000\n",
       "UMFELD_JUNG_1.0               0.000000\n",
       "PRAEGENDE_JUGENDJAHRE_14.0    0.000000\n",
       "PRAEGENDE_JUGENDJAHRE_13.0    0.000000\n",
       "ALTERSKATEGORIE_FEIN_25.0     0.000000\n",
       "\n",
       "[809 rows x 1 columns]"
      ]
     },
     "execution_count": 85,
     "metadata": {},
     "output_type": "execute_result"
    },
    {
     "data": {
      "image/png": "[encoded data removed]",
      "text/plain": [
       "<Figure size 720x360 with 1 Axes>"
      ]
     },
     "metadata": {
      "needs_background": "light"
     },
     "output_type": "display_data"
    }
   ],
   "source": [
    "importance = xgb_important_features(bayes_xgb, train.columns,top =12, width=10, height=5 )\n",
    "importance"
   ]
  },
  {
   "cell_type": "markdown",
   "metadata": {},
   "source": [
    "## Predict test"
   ]
  },
  {
   "cell_type": "code",
   "execution_count": 82,
   "metadata": {},
   "outputs": [],
   "source": [
    "test = mailout_joint_dataset_imputed_df[mailout_joint_dataset_imputed_df['dataset']==0]\n",
    " \n",
    "test = test.drop('dataset',axis='columns') \n",
    "test = test.drop('RESPONSE',axis='columns')\n",
    "test_preds = bayes_xgb.predict_proba(test) \n",
    "# predict_proba - predict the probability of each data example being of a given class.\n"
   ]
  },
  {
   "cell_type": "code",
   "execution_count": 83,
   "metadata": {},
   "outputs": [
    {
     "data": {
      "image/png": "[encoded data removed]",
      "text/plain": [
       "<Figure size 1080x216 with 2 Axes>"
      ]
     },
     "metadata": {
      "needs_background": "light"
     },
     "output_type": "display_data"
    }
   ],
   "source": [
    "# Probability of being influences by marketing campaign.\n",
    "# Most of examples will have small probability\n",
    "fig, axs = plt.subplots(1,2,figsize=(15,3))\n",
    "axs[0].hist(test_preds[:,1],bins = 50, log = False)\n",
    "axs[1].hist(test_preds[:,1],bins = 50, log = True)\n",
    "plt.show()"
   ]
  },
  {
   "cell_type": "code",
   "execution_count": 84,
   "metadata": {},
   "outputs": [
    {
     "data": {
      "text/html": [
       "<div>\n",
       "<style scoped>\n",
       "    .dataframe tbody tr th:only-of-type {\n",
       "        vertical-align: middle;\n",
       "    }\n",
       "\n",
       "    .dataframe tbody tr th {\n",
       "        vertical-align: top;\n",
       "    }\n",
       "\n",
       "    .dataframe thead th {\n",
       "        text-align: right;\n",
       "    }\n",
       "</style>\n",
       "<table border=\"1\" class=\"dataframe\">\n",
       "  <thead>\n",
       "    <tr style=\"text-align: right;\">\n",
       "      <th></th>\n",
       "      <th>LNR</th>\n",
       "      <th>RESPONSE</th>\n",
       "    </tr>\n",
       "  </thead>\n",
       "  <tbody>\n",
       "    <tr>\n",
       "      <th>0</th>\n",
       "      <td>1754</td>\n",
       "      <td>0.042130</td>\n",
       "    </tr>\n",
       "    <tr>\n",
       "      <th>1</th>\n",
       "      <td>1770</td>\n",
       "      <td>0.037100</td>\n",
       "    </tr>\n",
       "    <tr>\n",
       "      <th>2</th>\n",
       "      <td>1465</td>\n",
       "      <td>0.016507</td>\n",
       "    </tr>\n",
       "    <tr>\n",
       "      <th>3</th>\n",
       "      <td>1470</td>\n",
       "      <td>0.016699</td>\n",
       "    </tr>\n",
       "    <tr>\n",
       "      <th>4</th>\n",
       "      <td>1478</td>\n",
       "      <td>0.019569</td>\n",
       "    </tr>\n",
       "    <tr>\n",
       "      <th>...</th>\n",
       "      <td>...</td>\n",
       "      <td>...</td>\n",
       "    </tr>\n",
       "    <tr>\n",
       "      <th>42828</th>\n",
       "      <td>67615</td>\n",
       "      <td>0.017513</td>\n",
       "    </tr>\n",
       "    <tr>\n",
       "      <th>42829</th>\n",
       "      <td>67938</td>\n",
       "      <td>0.017316</td>\n",
       "    </tr>\n",
       "    <tr>\n",
       "      <th>42830</th>\n",
       "      <td>67942</td>\n",
       "      <td>0.039059</td>\n",
       "    </tr>\n",
       "    <tr>\n",
       "      <th>42831</th>\n",
       "      <td>67949</td>\n",
       "      <td>0.047715</td>\n",
       "    </tr>\n",
       "    <tr>\n",
       "      <th>42832</th>\n",
       "      <td>68898</td>\n",
       "      <td>0.045332</td>\n",
       "    </tr>\n",
       "  </tbody>\n",
       "</table>\n",
       "<p>42833 rows × 2 columns</p>\n",
       "</div>"
      ],
      "text/plain": [
       "         LNR  RESPONSE\n",
       "0       1754  0.042130\n",
       "1       1770  0.037100\n",
       "2       1465  0.016507\n",
       "3       1470  0.016699\n",
       "4       1478  0.019569\n",
       "...      ...       ...\n",
       "42828  67615  0.017513\n",
       "42829  67938  0.017316\n",
       "42830  67942  0.039059\n",
       "42831  67949  0.047715\n",
       "42832  68898  0.045332\n",
       "\n",
       "[42833 rows x 2 columns]"
      ]
     },
     "execution_count": 84,
     "metadata": {},
     "output_type": "execute_result"
    }
   ],
   "source": [
    "test_preds = pd.DataFrame({'LNR':test.index ,'RESPONSE':  test_preds[:,1] })\n",
    "test_preds.to_csv(\"../submissions/xgboost_init.csv\",sep=\",\", index=False)\n",
    "test_preds"
   ]
  },
  {
   "cell_type": "markdown",
   "metadata": {},
   "source": [
    "## Model 1 test score: `0.77172`"
   ]
  },
  {
   "cell_type": "markdown",
   "metadata": {},
   "source": [
    "---\n",
    "# Hyperparameter tuning\n",
    "\n",
    "Initial \"guessed\" model is already doing better than linear learner (on `Kaggle`). Here I will"
   ]
  },
  {
   "cell_type": "markdown",
   "metadata": {},
   "source": [
    "## Train/validation split\n",
    "\n",
    "I am going to split my train dataset in order to address the target metric `validation:auc` of our xgboost model. "
   ]
  },
  {
   "cell_type": "code",
   "execution_count": 177,
   "metadata": {},
   "outputs": [],
   "source": [
    "from sklearn.model_selection import train_test_split\n",
    "X_train, X_test, Y_train, Y_test = train_test_split(train, train_labels, test_size=0.1)"
   ]
  },
  {
   "cell_type": "code",
   "execution_count": 178,
   "metadata": {},
   "outputs": [
    {
     "data": {
      "text/plain": [
       "(array([31191.,     0.,     0.,     0.,     0.,     0.,     0.,     0.,\n",
       "            0.,   393.]),\n",
       " array([0. , 0.1, 0.2, 0.3, 0.4, 0.5, 0.6, 0.7, 0.8, 0.9, 1. ]),\n",
       " <a list of 10 Patch objects>)"
      ]
     },
     "execution_count": 178,
     "metadata": {},
     "output_type": "execute_result"
    },
    {
     "data": {
      "image/png": "[encoded data removed]",
      "text/plain": [
       "<Figure size 432x288 with 1 Axes>"
      ]
     },
     "metadata": {
      "needs_background": "light"
     },
     "output_type": "display_data"
    }
   ],
   "source": [
    "plt.hist(Y_train)"
   ]
  },
  {
   "cell_type": "code",
   "execution_count": 179,
   "metadata": {},
   "outputs": [
    {
     "name": "stdout",
     "output_type": "stream",
     "text": [
      "(array([0., 1.]), array([3467,   43]))\n"
     ]
    },
    {
     "data": {
      "text/plain": [
       "(array([3467.,    0.,    0.,    0.,    0.,    0.,    0.,    0.,    0.,\n",
       "          43.]),\n",
       " array([0. , 0.1, 0.2, 0.3, 0.4, 0.5, 0.6, 0.7, 0.8, 0.9, 1. ]),\n",
       " <a list of 10 Patch objects>)"
      ]
     },
     "execution_count": 179,
     "metadata": {},
     "output_type": "execute_result"
    },
    {
     "data": {
      "image/png": "[encoded data removed]",
      "text/plain": [
       "<Figure size 432x288 with 1 Axes>"
      ]
     },
     "metadata": {
      "needs_background": "light"
     },
     "output_type": "display_data"
    }
   ],
   "source": [
    "print(np.unique(Y_test,return_counts=True))\n",
    "plt.hist(Y_test)"
   ]
  },
  {
   "cell_type": "markdown",
   "metadata": {},
   "source": [
    "## Upload to S3"
   ]
  },
  {
   "cell_type": "code",
   "execution_count": 180,
   "metadata": {},
   "outputs": [],
   "source": [
    "# Test - without true labels (which we don't have!)\n",
    "import os\n",
    "data_dir = \"../arvato_data_processed/xgboost\"\n",
    "\n",
    "test.to_csv( os.path.join(data_dir+ \"test.csv\"), header=False, index=False)\n",
    "# Train/validation\n",
    "pd.concat([Y_train, X_train], axis=1).to_csv(  os.path.join(data_dir+ \"train.csv\"), header=False, index=False)\n",
    "pd.concat([Y_test, X_test], axis=1).to_csv(  os.path.join(data_dir+ \"validation.csv\"), header=False, index=False)\n"
   ]
  },
  {
   "cell_type": "code",
   "execution_count": 181,
   "metadata": {},
   "outputs": [],
   "source": [
    "\n",
    "prefix = 'arvato-xgboost-tuning'\n",
    "\n",
    "test_location = sagemaker_session.upload_data(os.path.join(data_dir, 'test.csv'), key_prefix=prefix)\n",
    "val_location = sagemaker_session.upload_data(os.path.join(data_dir, 'validation.csv'), key_prefix=prefix)\n",
    "train_location = sagemaker_session.upload_data(os.path.join(data_dir, 'train.csv'), key_prefix=prefix)"
   ]
  },
  {
   "cell_type": "markdown",
   "metadata": {},
   "source": [
    "## Define an initial model"
   ]
  },
  {
   "cell_type": "code",
   "execution_count": 182,
   "metadata": {},
   "outputs": [
    {
     "name": "stderr",
     "output_type": "stream",
     "text": [
      "WARNING:sagemaker.amazon.amazon_estimator:'get_image_uri' method will be deprecated in favor of 'ImageURIProvider' class in SageMaker Python SDK v2.\n",
      "WARNING:root:There is a more up to date SageMaker XGBoost image. To use the newer image, please set 'repo_version'='1.0-1'. For example:\n",
      "\tget_image_uri(region, 'xgboost', '1.0-1').\n",
      "WARNING:root:Parameter image_name will be renamed to image_uri in SageMaker Python SDK v2.\n"
     ]
    }
   ],
   "source": [
    "# As stated above, we use this utility method to construct the image name for the training container.\n",
    "container = get_image_uri(sagemaker_session.boto_region_name, 'xgboost')\n",
    "\n",
    "# Now that we know which container to use, we can construct the estimator object.\n",
    "xgb = sagemaker.estimator.Estimator(container, # The name of the training container\n",
    "                                    role,      # The IAM role to use (our current role in this case)\n",
    "                                    train_instance_count=1, # The number of instances to use for training\n",
    "                                    train_instance_type='ml.m4.xlarge', # The type of instance ot use for training\n",
    "                                    output_path='s3://{}/{}/output'.format(sagemaker_session.default_bucket(), prefix),\n",
    "                                                                        # Where to save the output (the model artifacts)\n",
    "                                    sagemaker_session=sagemaker_session) # The current SageMaker session"
   ]
  },
  {
   "cell_type": "markdown",
   "metadata": {},
   "source": [
    "## Hyperparameter tuning"
   ]
  },
  {
   "cell_type": "code",
   "execution_count": 184,
   "metadata": {},
   "outputs": [],
   "source": [
    "xgb.set_hyperparameters(base_score=0.5,  # global bias\n",
    "                              booster='gbtree', \n",
    "                              colsample_bylevel=1, # Subsample ratio of columns for each level.\n",
    "                              colsample_bytree=0.9, # Subsample ratio of columns when constructing each tree.\n",
    "                              eval_metric='auc', \n",
    "                              gamma=1.0,\n",
    "                              eta=0.015, \n",
    "                              max_delta_step=0, \n",
    "                              max_depth=7,\n",
    "                              min_child_weight=1, \n",
    "                              missing=None, # I have imputed missing values\n",
    "                              n_estimators=250, \n",
    "                              n_jobs=-1,\n",
    "                              objective='binary:logistic', \n",
    "                              random_state=0,\n",
    "                              reg_alpha=1e-09, \n",
    "                              reg_lambda=1e-5, \n",
    "                              scale_pos_weight=1, \n",
    "                              seed=123,\n",
    "                              silent=1, \n",
    "                              subsample=0.95,\n",
    "                              num_round=250, # max number of rounds \n",
    "                         early_stopping_rounds=10, #  Activates early stopping. Validation metric needs to improve at least once in every early_stopping_rounds round(s) to continue training\n",
    ")"
   ]
  },
  {
   "cell_type": "code",
   "execution_count": 190,
   "metadata": {},
   "outputs": [],
   "source": [
    "from sagemaker.tuner import IntegerParameter, ContinuousParameter, HyperparameterTuner\n",
    "\n",
    "xgb_hyperparameter_tuner = HyperparameterTuner(estimator = xgb, # The estimator object to use as the basis for the training jobs.\n",
    "                                               objective_metric_name = 'validation:auc', # The metric used to compare trained models.\n",
    "                                               objective_type = 'Maximize', # Whether we wish to minimize or maximize the metric.\n",
    "                                               max_jobs = 100, # The total number of models to train\n",
    "                                               max_parallel_jobs = 10, # The number of models to train in parallel\n",
    "                                               hyperparameter_ranges = {\n",
    "                                                    'max_depth': IntegerParameter(3, 12),\n",
    "                                                    'eta'      : ContinuousParameter(0.01, 0.5),\n",
    "                                                    'min_child_weight': IntegerParameter(2, 8),\n",
    "                                                    'subsample': ContinuousParameter(0.5, 0.9),\n",
    "                                                    'gamma': ContinuousParameter(0, 10),\n",
    "                                                    'colsample_bytree': ContinuousParameter(0.5, 1),\n",
    "                                                   'alpha' : ContinuousParameter(1e-09, 1e-1),\n",
    "                                                   'lambda' : ContinuousParameter(1e-09, 1e-1)\n",
    "                                               })"
   ]
  },
  {
   "cell_type": "code",
   "execution_count": 191,
   "metadata": {},
   "outputs": [
    {
     "name": "stderr",
     "output_type": "stream",
     "text": [
      "WARNING:sagemaker:'s3_input' class will be renamed to 'TrainingInput' in SageMaker Python SDK v2.\n",
      "WARNING:sagemaker:'s3_input' class will be renamed to 'TrainingInput' in SageMaker Python SDK v2.\n"
     ]
    }
   ],
   "source": [
    "\n",
    "# This is a wrapper around the location of our train and validation data, to make sure that SageMaker\n",
    "# knows our data is in csv format.\n",
    "s3_input_train = sagemaker.s3_input(s3_data=train_location, content_type='csv')\n",
    "s3_input_validation = sagemaker.s3_input(s3_data=val_location, content_type='csv')\n",
    "\n",
    "xgb_hyperparameter_tuner.fit({'train': s3_input_train, 'validation': s3_input_validation})"
   ]
  },
  {
   "cell_type": "code",
   "execution_count": null,
   "metadata": {},
   "outputs": [
    {
     "name": "stdout",
     "output_type": "stream",
     "text": [
      "............................................................................."
     ]
    }
   ],
   "source": [
    "%%time\n",
    "xgb_hyperparameter_tuner.wait()"
   ]
  },
  {
   "cell_type": "markdown",
   "metadata": {},
   "source": [
    "## Select the best model"
   ]
  },
  {
   "cell_type": "code",
   "execution_count": null,
   "metadata": {},
   "outputs": [],
   "source": [
    "xgb_hyperparameter_tuner.best_training_job()"
   ]
  },
  {
   "cell_type": "code",
   "execution_count": null,
   "metadata": {
    "scrolled": true
   },
   "outputs": [],
   "source": [
    "xgb_attached = sagemaker.estimator.Estimator.attach(xgb_hyperparameter_tuner.best_training_job())"
   ]
  },
  {
   "cell_type": "markdown",
   "metadata": {},
   "source": [
    "## Predict the test"
   ]
  },
  {
   "cell_type": "code",
   "execution_count": null,
   "metadata": {},
   "outputs": [],
   "source": [
    "xgb_transformer = xgb_attached.transformer(instance_count = 1, instance_type = 'ml.m4.xlarge')"
   ]
  },
  {
   "cell_type": "code",
   "execution_count": null,
   "metadata": {},
   "outputs": [],
   "source": [
    "xgb_transformer.transform(test_location, content_type='text/csv', split_type='Line')"
   ]
  },
  {
   "cell_type": "code",
   "execution_count": null,
   "metadata": {},
   "outputs": [],
   "source": [
    "xgb_transformer.wait()"
   ]
  },
  {
   "cell_type": "code",
   "execution_count": null,
   "metadata": {},
   "outputs": [],
   "source": [
    "!aws s3 cp --recursive $xgb_transformer.output_path $data_dir"
   ]
  },
  {
   "cell_type": "code",
   "execution_count": null,
   "metadata": {},
   "outputs": [],
   "source": [
    "!cat $data_dir/test.csv.out | wc -l"
   ]
  },
  {
   "cell_type": "code",
   "execution_count": null,
   "metadata": {},
   "outputs": [],
   "source": [
    "test_preds = pd.read_csv(os.path.join(data_dir,\"test.csv.out\"),header=None)\n",
    "test_preds.columns =[ 'RESPONSE']\n",
    "test_preds['LNR'] = test.index.values\n",
    "test_preds = test_preds[['LNR','RESPONSE']]\n",
    "\n",
    "test_preds.to_csv(\"../submissions/xgboost_optimized.csv\",sep=\",\", index=False)"
   ]
  },
  {
   "cell_type": "code",
   "execution_count": null,
   "metadata": {},
   "outputs": [],
   "source": []
  }
 ],
 "metadata": {
  "kernelspec": {
   "display_name": "conda_tensorflow2_p36",
   "language": "python",
   "name": "conda_tensorflow2_p36"
  },
  "language_info": {
   "codemirror_mode": {
    "name": "ipython",
    "version": 3
   },
   "file_extension": ".py",
   "mimetype": "text/x-python",
   "name": "python",
   "nbconvert_exporter": "python",
   "pygments_lexer": "ipython3",
   "version": "3.6.10"
  }
 },
 "nbformat": 4,
 "nbformat_minor": 4
}
