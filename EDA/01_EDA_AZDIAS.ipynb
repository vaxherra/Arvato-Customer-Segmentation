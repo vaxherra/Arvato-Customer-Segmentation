{
 "cells": [
  {
   "cell_type": "markdown",
   "metadata": {},
   "source": [
    "# Exploratory Data Analysis **(EDA)** & Pre-processing steps\n",
    "\n",
    "## `AZIDAS` dataset:  Demographics data for the general population of Germany; 891 211 persons (rows) x 366 features (columns).\n",
    "\n",
    "This notebook performs Exploratory Data Analysis and pre-processing (data standarization and cleaning) of the `AZIDAS` dataset containing demographics for the general population of Germany."
   ]
  },
  {
   "cell_type": "markdown",
   "metadata": {},
   "source": [
    "# 00. Packages"
   ]
  },
  {
   "cell_type": "code",
   "execution_count": null,
   "metadata": {},
   "outputs": [],
   "source": [
    "import numpy as np\n",
    "import pandas as pd\n",
    "import matplotlib.pyplot as plt\n",
    "import seaborn as sns\n",
    "try:\n",
    "    from tqdm import tqdm\n",
    "except:\n",
    "    !pip install tqdm\n",
    "    from tqdm import tqdm    \n",
    "%matplotlib inline\n",
    "\n",
    "\n",
    "### my utils\n",
    "\n",
    "from eda_utils import *"
   ]
  },
  {
   "cell_type": "markdown",
   "metadata": {},
   "source": [
    "---"
   ]
  },
  {
   "cell_type": "markdown",
   "metadata": {},
   "source": [
    "# 01. Import dataset\n",
    "We know that the separator is a semicolon (;), and the first row contains the column names. Also, one of the columns 'LNR' is really the `ID` number, and should not be considered a standard \"feature\". "
   ]
  },
  {
   "cell_type": "code",
   "execution_count": 2,
   "metadata": {
    "scrolled": true
   },
   "outputs": [
    {
     "name": "stdout",
     "output_type": "stream",
     "text": [
      "LNR;AGER_TYP;AKT_DAT_KL;ALTER_HH;ALTER_KIND1;ALTER_KIND2;ALTER_KIND3;ALTER_KIND4;ALTERSKATEGORIE_FEIN;ANZ_HAUSHALTE_AKTIV;ANZ_HH_TITEL;ANZ_KINDER;ANZ_PERSONEN;ANZ_STATISTISCHE_HAUSHALTE;ANZ_TITEL;ARBEIT;BALLRAUM;CAMEO_DEU_2015;CAMEO_DEUG_2015;CAMEO_INTL_2015;CJT_GESAMTTYP;CJT_KATALOGNUTZER;CJT_TYP_1;CJT_TYP_2;CJT_TYP_3;CJT_TYP_4;CJT_TYP_5;CJT_TYP_6;D19_BANKEN_ANZ_12;D19_BANKEN_ANZ_24;D19_BANKEN_DATUM;D19_BANKEN_DIREKT;D19_BANKEN_GROSS;D19_BANKEN_LOKAL;D19_BANKEN_OFFLINE_DATUM;D19_BANKEN_ONLINE_DATUM;D19_BANKEN_ONLINE_QUOTE_12;D19_BANKEN_REST;D19_BEKLEIDUNG_GEH;D19_BEKLEIDUNG_REST;D19_BILDUNG;D19_BIO_OEKO;D19_BUCH_CD;D19_DIGIT_SERV;D19_DROGERIEARTIKEL;D19_ENERGIE;D19_FREIZEIT;D19_GARTEN;D19_GESAMT_ANZ_12;D19_GESAMT_ANZ_24;D19_GESAMT_DATUM;D19_GESAMT_OFFLINE_DATUM;D19_GESAMT_ONLINE_DATUM;D19_GESAMT_ONLINE_QUOTE_12;D19_HANDWERK;D19_HAUS_DEKO;D19_KINDERARTIKEL;D19_KONSUMTYP;D19_KONSUMTYP_MAX;D19_KOSMETIK;D19_LEBENSMITTEL;D19_LETZTER_KAUF_BRANCHE;D19_LOTTO;D19_NAHRUNGSERGAENZUNG;D19_RATGEBER;D19_REISEN;D19_SAMMELARTIKEL;D19_SCHUHE;D19_SONSTIGE;D19_SOZIALES;D19_TECHNIK;D19_TELKO_ANZ_12;D19_TELKO_ANZ_24;D19_TELKO_DATUM;D19_TELKO_MOBILE;D19_TELKO_OFFLINE_DATUM;D19_TELKO_ONLINE_DATUM;D19_TELKO_ONLINE_QUOTE_12;D19_TELKO_REST;D19_TIERARTIKEL;D19_VERSAND_ANZ_12;D19_VERSAND_ANZ_24;D19_VERSAND_DATUM;D19_VERSAND_OFFLINE_DATUM;D19_VERSAND_ONLINE_DATUM;D19_VERSAND_ONLINE_QUOTE_12;D19_VERSAND_REST;D19_VERSI_ANZ_12;D19_VERSI_ANZ_24;D19_VERSI_DATUM;D19_VERSI_OFFLINE_DATUM;D19_VERSI_ONLINE_DATUM;D19_VERSI_ONLINE_QUOTE_12;D19_VERSICHERUNGEN;D19_VOLLSORTIMENT;D19_WEIN_FEINKOST;DSL_FLAG;EINGEFUEGT_AM;EINGEZOGENAM_HH_JAHR;EWDICHTE;EXTSEL992;FINANZ_ANLEGER;FINANZ_HAUSBAUER;FINANZ_MINIMALIST;FINANZ_SPARER;FINANZ_UNAUFFAELLIGER;FINANZ_VORSORGER;FINANZTYP;FIRMENDICHTE;GEBAEUDETYP;GEBAEUDETYP_RASTER;GEBURTSJAHR;GEMEINDETYP;GFK_URLAUBERTYP;GREEN_AVANTGARDE;HEALTH_TYP;HH_DELTA_FLAG;HH_EINKOMMEN_SCORE;INNENSTADT;KBA05_ALTER1;KBA05_ALTER2;KBA05_ALTER3;KBA05_ALTER4;KBA05_ANHANG;KBA05_ANTG1;KBA05_ANTG2;KBA05_ANTG3;KBA05_ANTG4;KBA05_AUTOQUOT;KBA05_BAUMAX;KBA05_CCM1;KBA05_CCM2;KBA05_CCM3;KBA05_CCM4;KBA05_DIESEL;KBA05_FRAU;KBA05_GBZ;KBA05_HERST1;KBA05_HERST2;KBA05_HERST3;KBA05_HERST4;KBA05_HERST5;KBA05_HERSTTEMP;KBA05_KRSAQUOT;KBA05_KRSHERST1;KBA05_KRSHERST2;KBA05_KRSHERST3;KBA05_KRSKLEIN;KBA05_KRSOBER;KBA05_KRSVAN;KBA05_KRSZUL;KBA05_KW1;KBA05_KW2;KBA05_KW3;KBA05_MAXAH;KBA05_MAXBJ;KBA05_MAXHERST;KBA05_MAXSEG;KBA05_MAXVORB;KBA05_MOD1;KBA05_MOD2;KBA05_MOD3;KBA05_MOD4;KBA05_MOD8;KBA05_MODTEMP;KBA05_MOTOR;KBA05_MOTRAD;KBA05_SEG1;KBA05_SEG10;KBA05_SEG2;KBA05_SEG3;KBA05_SEG4;KBA05_SEG5;KBA05_SEG6;KBA05_SEG7;KBA05_SEG8;KBA05_SEG9;KBA05_VORB0;KBA05_VORB1;KBA05_VORB2;KBA05_ZUL1;KBA05_ZUL2;KBA05_ZUL3;KBA05_ZUL4;KBA13_ALTERHALTER_30;KBA13_ALTERHALTER_45;KBA13_ALTERHALTER_60;KBA13_ALTERHALTER_61;KBA13_ANTG1;KBA13_ANTG2;KBA13_ANTG3;KBA13_ANTG4;KBA13_ANZAHL_PKW;KBA13_AUDI;KBA13_AUTOQUOTE;KBA13_BAUMAX;KBA13_BJ_1999;KBA13_BJ_2000;KBA13_BJ_2004;KBA13_BJ_2006;KBA13_BJ_2008;KBA13_BJ_2009;KBA13_BMW;KBA13_CCM_0_1400;KBA13_CCM_1000;KBA13_CCM_1200;KBA13_CCM_1400;KBA13_CCM_1401_2500;KBA13_CCM_1500;KBA13_CCM_1600;KBA13_CCM_1800;KBA13_CCM_2000;KBA13_CCM_2500;KBA13_CCM_2501;KBA13_CCM_3000;KBA13_CCM_3001;KBA13_FAB_ASIEN;KBA13_FAB_SONSTIGE;KBA13_FIAT;KBA13_FORD;KBA13_GBZ;KBA13_HALTER_20;KBA13_HALTER_25;KBA13_HALTER_30;KBA13_HALTER_35;KBA13_HALTER_40;KBA13_HALTER_45;KBA13_HALTER_50;KBA13_HALTER_55;KBA13_HALTER_60;KBA13_HALTER_65;KBA13_HALTER_66;KBA13_HERST_ASIEN;KBA13_HERST_AUDI_VW;KBA13_HERST_BMW_BENZ;KBA13_HERST_EUROPA;KBA13_HERST_FORD_OPEL;KBA13_HERST_SONST;KBA13_HHZ;KBA13_KMH_0_140;KBA13_KMH_110;KBA13_KMH_140;KBA13_KMH_140_210;KBA13_KMH_180;KBA13_KMH_210;KBA13_KMH_211;KBA13_KMH_250;KBA13_KMH_251;KBA13_KRSAQUOT;KBA13_KRSHERST_AUDI_VW;KBA13_KRSHERST_BMW_BENZ;KBA13_KRSHERST_FORD_OPEL;KBA13_KRSSEG_KLEIN;KBA13_KRSSEG_OBER;KBA13_KRSSEG_VAN;KBA13_KRSZUL_NEU;KBA13_KW_0_60;KBA13_KW_110;KBA13_KW_120;KBA13_KW_121;KBA13_KW_30;KBA13_KW_40;KBA13_KW_50;KBA13_KW_60;KBA13_KW_61_120;KBA13_KW_70;KBA13_KW_80;KBA13_KW_90;KBA13_MAZDA;KBA13_MERCEDES;KBA13_MOTOR;KBA13_NISSAN;KBA13_OPEL;KBA13_PEUGEOT;KBA13_RENAULT;KBA13_SEG_GELAENDEWAGEN;KBA13_SEG_GROSSRAUMVANS;KBA13_SEG_KLEINST;KBA13_SEG_KLEINWAGEN;KBA13_SEG_KOMPAKTKLASSE;KBA13_SEG_MINIVANS;KBA13_SEG_MINIWAGEN;KBA13_SEG_MITTELKLASSE;KBA13_SEG_OBEREMITTELKLASSE;KBA13_SEG_OBERKLASSE;KBA13_SEG_SONSTIGE;KBA13_SEG_SPORTWAGEN;KBA13_SEG_UTILITIES;KBA13_SEG_VAN;KBA13_SEG_WOHNMOBILE;KBA13_SITZE_4;KBA13_SITZE_5;KBA13_SITZE_6;KBA13_TOYOTA;KBA13_VORB_0;KBA13_VORB_1;KBA13_VORB_1_2;KBA13_VORB_2;KBA13_VORB_3;KBA13_VW;KK_KUNDENTYP;KKK;KOMBIALTER;KONSUMNAEHE;KONSUMZELLE;LP_FAMILIE_FEIN;LP_FAMILIE_GROB;LP_LEBENSPHASE_FEIN;LP_LEBENSPHASE_GROB;LP_STATUS_FEIN;LP_STATUS_GROB;MIN_GEBAEUDEJAHR;MOBI_RASTER;MOBI_REGIO;NATIONALITAET_KZ;ONLINE_AFFINITAET;ORTSGR_KLS9;OST_WEST_KZ;PLZ8_ANTG1;PLZ8_ANTG2;PLZ8_ANTG3;PLZ8_ANTG4;PLZ8_BAUMAX;PLZ8_GBZ;PLZ8_HHZ;PRAEGENDE_JUGENDJAHRE;REGIOTYP;RELAT_AB;RETOURTYP_BK_S;RT_KEIN_ANREIZ;RT_SCHNAEPPCHEN;RT_UEBERGROESSE;SEMIO_DOM;SEMIO_ERL;SEMIO_FAM;SEMIO_KAEM;SEMIO_KRIT;SEMIO_KULT;SEMIO_LUST;SEMIO_MAT;SEMIO_PFLICHT;SEMIO_RAT;SEMIO_REL;SEMIO_SOZ;SEMIO_TRADV;SEMIO_VERT;SHOPPER_TYP;SOHO_KZ;STRUKTURTYP;TITEL_KZ;UMFELD_ALT;UMFELD_JUNG;UNGLEICHENN_FLAG;VERDICHTUNGSRAUM;VERS_TYP;VHA;VHN;VK_DHT4A;VK_DISTANZ;VK_ZG11;W_KEIT_KIND_HH;WOHNDAUER_2008;WOHNLAGE;ZABEOTYP;ANREDE_KZ;ALTERSKATEGORIE_GROB\n",
      "910215;-1;;;;;;;;;;;;;;;;;;;2;5;1;1;5;5;5;5;0;0;10;0;0;0;10;10;;0;0;0;0;0;0;0;0;0;0;0;0;0;10;10;10;;0;0;0;;9;0;0;\"NA\";;0;0;0;0;0;0;;0;0;0;10;0;10;10;;0;0;0;0;10;10;10;;0;0;0;10;10;10;;0;0;0;;;;;;5;3;3;4;5;3;4;;;;0;;10;0;-1;;2;;;;;;;;;;;;;;;;;;;;;;;;;;;;;;;;;;;;;;;;;;;;;;;;;;;;;;;;;;;;;;;;;;;;;;;;;;;;;;;;;;;;;;;;;;;;;;;;;;;;;;;;;;;;;;;;;;;;;;;;;;;;;;;;;;;;;;;;;;;;;;;;;;;;;;;;;;;;;;;;;;;;;;;;;;;;;;;;;;;;;;;;;9;;;2;2;15;4;1;1;;;;0;1;;;;;;;;;;0;;;5;1;4;1;6;3;6;6;7;3;5;5;5;4;7;2;3;1;-1;;;;;;;;-1;;;;;;;;;3;1;2\n"
     ]
    }
   ],
   "source": [
    "#plot raw header to inspect dataset\n",
    "!head -n 2 ../arvato_data/Udacity_AZDIAS_052018.csv"
   ]
  },
  {
   "cell_type": "code",
   "execution_count": 3,
   "metadata": {
    "scrolled": true
   },
   "outputs": [
    {
     "name": "stdout",
     "output_type": "stream",
     "text": [
      "366\n"
     ]
    }
   ],
   "source": [
    "# count features\n",
    "!head -n 1 ../arvato_data/Udacity_AZDIAS_052018.csv | tr \";\" \"\\n\" | wc -l"
   ]
  },
  {
   "cell_type": "code",
   "execution_count": 4,
   "metadata": {
    "scrolled": true
   },
   "outputs": [
    {
     "name": "stdout",
     "output_type": "stream",
     "text": [
      "AGER_TYP\n",
      "AKT_DAT_KL\n",
      "ALTER_HH\n",
      "ALTER_KIND1\n",
      "ALTER_KIND2\n",
      "ALTER_KIND3\n",
      "ALTER_KIND4\n",
      "ALTERSKATEGORIE_FEIN\n",
      "ALTERSKATEGORIE_GROB\n",
      "ANREDE_KZ\n",
      "ANZ_HAUSHALTE_AKTIV\n",
      "ANZ_HH_TITEL\n",
      "ANZ_KINDER\n",
      "ANZ_PERSONEN\n",
      "ANZ_STATISTISCHE_HAUSHALTE\n",
      "ANZ_TITEL\n",
      "ARBEIT\n",
      "BALLRAUM\n",
      "CAMEO_DEU_2015\n",
      "CAMEO_DEUG_2015\n",
      "CAMEO_INTL_2015\n",
      "CJT_GESAMTTYP\n",
      "CJT_KATALOGNUTZER\n",
      "CJT_TYP_1\n",
      "CJT_TYP_2\n",
      "CJT_TYP_3\n",
      "CJT_TYP_4\n",
      "CJT_TYP_5\n",
      "CJT_TYP_6\n",
      "D19_BANKEN_ANZ_12\n",
      "D19_BANKEN_ANZ_24\n",
      "D19_BANKEN_DATUM\n",
      "D19_BANKEN_DIREKT\n",
      "D19_BANKEN_GROSS\n",
      "D19_BANKEN_LOKAL\n",
      "D19_BANKEN_OFFLINE_DATUM\n",
      "D19_BANKEN_ONLINE_DATUM\n",
      "D19_BANKEN_ONLINE_QUOTE_12\n",
      "D19_BANKEN_REST\n",
      "D19_BEKLEIDUNG_GEH\n",
      "D19_BEKLEIDUNG_REST\n",
      "D19_BILDUNG\n",
      "D19_BIO_OEKO\n",
      "D19_BUCH_CD\n",
      "D19_DIGIT_SERV\n",
      "D19_DROGERIEARTIKEL\n",
      "D19_ENERGIE\n",
      "D19_FREIZEIT\n",
      "D19_GARTEN\n",
      "D19_GESAMT_ANZ_12\n",
      "D19_GESAMT_ANZ_24\n",
      "D19_GESAMT_DATUM\n",
      "D19_GESAMT_OFFLINE_DATUM\n",
      "D19_GESAMT_ONLINE_DATUM\n",
      "D19_GESAMT_ONLINE_QUOTE_12\n",
      "D19_HANDWERK\n",
      "D19_HAUS_DEKO\n",
      "D19_KINDERARTIKEL\n",
      "D19_KONSUMTYP\n",
      "D19_KONSUMTYP_MAX\n",
      "D19_KOSMETIK\n",
      "D19_LEBENSMITTEL\n",
      "D19_LETZTER_KAUF_BRANCHE\n",
      "D19_LOTTO\n",
      "D19_NAHRUNGSERGAENZUNG\n",
      "D19_RATGEBER\n",
      "D19_REISEN\n",
      "D19_SAMMELARTIKEL\n",
      "D19_SCHUHE\n",
      "D19_SONSTIGE\n",
      "D19_SOZIALES\n",
      "D19_TECHNIK\n",
      "D19_TELKO_ANZ_12\n",
      "D19_TELKO_ANZ_24\n",
      "D19_TELKO_DATUM\n",
      "D19_TELKO_MOBILE\n",
      "D19_TELKO_OFFLINE_DATUM\n",
      "D19_TELKO_ONLINE_DATUM\n",
      "D19_TELKO_ONLINE_QUOTE_12\n",
      "D19_TELKO_REST\n",
      "D19_TIERARTIKEL\n",
      "D19_VERSAND_ANZ_12\n",
      "D19_VERSAND_ANZ_24\n",
      "D19_VERSAND_DATUM\n",
      "D19_VERSAND_OFFLINE_DATUM\n",
      "D19_VERSAND_ONLINE_DATUM\n",
      "D19_VERSAND_ONLINE_QUOTE_12\n",
      "D19_VERSAND_REST\n",
      "D19_VERSI_ANZ_12\n",
      "D19_VERSI_ANZ_24\n",
      "D19_VERSICHERUNGEN\n",
      "D19_VERSI_DATUM\n",
      "D19_VERSI_OFFLINE_DATUM\n",
      "D19_VERSI_ONLINE_DATUM\n",
      "D19_VERSI_ONLINE_QUOTE_12\n",
      "D19_VOLLSORTIMENT\n",
      "D19_WEIN_FEINKOST\n",
      "DSL_FLAG\n",
      "EINGEFUEGT_AM\n",
      "EINGEZOGENAM_HH_JAHR\n",
      "EWDICHTE\n",
      "EXTSEL992\n",
      "FINANZ_ANLEGER\n",
      "FINANZ_HAUSBAUER\n",
      "FINANZ_MINIMALIST\n",
      "FINANZ_SPARER\n",
      "FINANZTYP\n",
      "FINANZ_UNAUFFAELLIGER\n",
      "FINANZ_VORSORGER\n",
      "FIRMENDICHTE\n",
      "GEBAEUDETYP\n",
      "GEBAEUDETYP_RASTER\n",
      "GEBURTSJAHR\n",
      "GEMEINDETYP\n",
      "GFK_URLAUBERTYP\n",
      "GREEN_AVANTGARDE\n",
      "HEALTH_TYP\n",
      "HH_DELTA_FLAG\n",
      "HH_EINKOMMEN_SCORE\n",
      "INNENSTADT\n",
      "KBA05_ALTER1\n",
      "KBA05_ALTER2\n",
      "KBA05_ALTER3\n",
      "KBA05_ALTER4\n",
      "KBA05_ANHANG\n",
      "KBA05_ANTG1\n",
      "KBA05_ANTG2\n",
      "KBA05_ANTG3\n",
      "KBA05_ANTG4\n",
      "KBA05_AUTOQUOT\n",
      "KBA05_BAUMAX\n",
      "KBA05_CCM1\n",
      "KBA05_CCM2\n",
      "KBA05_CCM3\n",
      "KBA05_CCM4\n",
      "KBA05_DIESEL\n",
      "KBA05_FRAU\n",
      "KBA05_GBZ\n",
      "KBA05_HERST1\n",
      "KBA05_HERST2\n",
      "KBA05_HERST3\n",
      "KBA05_HERST4\n",
      "KBA05_HERST5\n",
      "KBA05_HERSTTEMP\n",
      "KBA05_KRSAQUOT\n",
      "KBA05_KRSHERST1\n",
      "KBA05_KRSHERST2\n",
      "KBA05_KRSHERST3\n",
      "KBA05_KRSKLEIN\n",
      "KBA05_KRSOBER\n",
      "KBA05_KRSVAN\n",
      "KBA05_KRSZUL\n",
      "KBA05_KW1\n",
      "KBA05_KW2\n",
      "KBA05_KW3\n",
      "KBA05_MAXAH\n",
      "KBA05_MAXBJ\n",
      "KBA05_MAXHERST\n",
      "KBA05_MAXSEG\n",
      "KBA05_MAXVORB\n",
      "KBA05_MOD1\n",
      "KBA05_MOD2\n",
      "KBA05_MOD3\n",
      "KBA05_MOD4\n",
      "KBA05_MOD8\n",
      "KBA05_MODTEMP\n",
      "KBA05_MOTOR\n",
      "KBA05_MOTRAD\n",
      "KBA05_SEG1\n",
      "KBA05_SEG10\n",
      "KBA05_SEG2\n",
      "KBA05_SEG3\n",
      "KBA05_SEG4\n",
      "KBA05_SEG5\n",
      "KBA05_SEG6\n",
      "KBA05_SEG7\n",
      "KBA05_SEG8\n",
      "KBA05_SEG9\n",
      "KBA05_VORB0\n",
      "KBA05_VORB1\n",
      "KBA05_VORB2\n",
      "KBA05_ZUL1\n",
      "KBA05_ZUL2\n",
      "KBA05_ZUL3\n",
      "KBA05_ZUL4\n",
      "KBA13_ALTERHALTER_30\n",
      "KBA13_ALTERHALTER_45\n",
      "KBA13_ALTERHALTER_60\n",
      "KBA13_ALTERHALTER_61\n",
      "KBA13_ANTG1\n",
      "KBA13_ANTG2\n",
      "KBA13_ANTG3\n",
      "KBA13_ANTG4\n",
      "KBA13_ANZAHL_PKW\n",
      "KBA13_AUDI\n",
      "KBA13_AUTOQUOTE\n",
      "KBA13_BAUMAX\n",
      "KBA13_BJ_1999\n",
      "KBA13_BJ_2000\n",
      "KBA13_BJ_2004\n",
      "KBA13_BJ_2006\n",
      "KBA13_BJ_2008\n",
      "KBA13_BJ_2009\n",
      "KBA13_BMW\n",
      "KBA13_CCM_0_1400\n",
      "KBA13_CCM_1000\n",
      "KBA13_CCM_1200\n",
      "KBA13_CCM_1400\n",
      "KBA13_CCM_1401_2500\n",
      "KBA13_CCM_1500\n",
      "KBA13_CCM_1600\n",
      "KBA13_CCM_1800\n",
      "KBA13_CCM_2000\n",
      "KBA13_CCM_2500\n",
      "KBA13_CCM_2501\n",
      "KBA13_CCM_3000\n",
      "KBA13_CCM_3001\n",
      "KBA13_FAB_ASIEN\n",
      "KBA13_FAB_SONSTIGE\n",
      "KBA13_FIAT\n",
      "KBA13_FORD\n",
      "KBA13_GBZ\n",
      "KBA13_HALTER_20\n",
      "KBA13_HALTER_25\n",
      "KBA13_HALTER_30\n",
      "KBA13_HALTER_35\n",
      "KBA13_HALTER_40\n",
      "KBA13_HALTER_45\n",
      "KBA13_HALTER_50\n",
      "KBA13_HALTER_55\n",
      "KBA13_HALTER_60\n",
      "KBA13_HALTER_65\n",
      "KBA13_HALTER_66\n",
      "KBA13_HERST_ASIEN\n",
      "KBA13_HERST_AUDI_VW\n",
      "KBA13_HERST_BMW_BENZ\n",
      "KBA13_HERST_EUROPA\n",
      "KBA13_HERST_FORD_OPEL\n",
      "KBA13_HERST_SONST\n",
      "KBA13_HHZ\n",
      "KBA13_KMH_0_140\n",
      "KBA13_KMH_110\n",
      "KBA13_KMH_140\n",
      "KBA13_KMH_140_210\n",
      "KBA13_KMH_180\n",
      "KBA13_KMH_210\n",
      "KBA13_KMH_211\n",
      "KBA13_KMH_250\n",
      "KBA13_KMH_251\n",
      "KBA13_KRSAQUOT\n",
      "KBA13_KRSHERST_AUDI_VW\n",
      "KBA13_KRSHERST_BMW_BENZ\n",
      "KBA13_KRSHERST_FORD_OPEL\n",
      "KBA13_KRSSEG_KLEIN\n",
      "KBA13_KRSSEG_OBER\n",
      "KBA13_KRSSEG_VAN\n",
      "KBA13_KRSZUL_NEU\n",
      "KBA13_KW_0_60\n",
      "KBA13_KW_110\n",
      "KBA13_KW_120\n",
      "KBA13_KW_121\n",
      "KBA13_KW_30\n",
      "KBA13_KW_40\n",
      "KBA13_KW_50\n",
      "KBA13_KW_60\n",
      "KBA13_KW_61_120\n",
      "KBA13_KW_70\n",
      "KBA13_KW_80\n",
      "KBA13_KW_90\n",
      "KBA13_MAZDA\n",
      "KBA13_MERCEDES\n",
      "KBA13_MOTOR\n",
      "KBA13_NISSAN\n",
      "KBA13_OPEL\n",
      "KBA13_PEUGEOT\n",
      "KBA13_RENAULT\n",
      "KBA13_SEG_GELAENDEWAGEN\n",
      "KBA13_SEG_GROSSRAUMVANS\n",
      "KBA13_SEG_KLEINST\n",
      "KBA13_SEG_KLEINWAGEN\n",
      "KBA13_SEG_KOMPAKTKLASSE\n",
      "KBA13_SEG_MINIVANS\n",
      "KBA13_SEG_MINIWAGEN\n",
      "KBA13_SEG_MITTELKLASSE\n",
      "KBA13_SEG_OBEREMITTELKLASSE\n",
      "KBA13_SEG_OBERKLASSE\n",
      "KBA13_SEG_SONSTIGE\n",
      "KBA13_SEG_SPORTWAGEN\n",
      "KBA13_SEG_UTILITIES\n",
      "KBA13_SEG_VAN\n",
      "KBA13_SEG_WOHNMOBILE\n",
      "KBA13_SITZE_4\n",
      "KBA13_SITZE_5\n",
      "KBA13_SITZE_6\n",
      "KBA13_TOYOTA\n",
      "KBA13_VORB_0\n",
      "KBA13_VORB_1\n",
      "KBA13_VORB_1_2\n",
      "KBA13_VORB_2\n",
      "KBA13_VORB_3\n",
      "KBA13_VW\n",
      "KKK\n",
      "KK_KUNDENTYP\n",
      "KOMBIALTER\n",
      "KONSUMNAEHE\n",
      "KONSUMZELLE\n",
      "LNR\n",
      "LP_FAMILIE_FEIN\n",
      "LP_FAMILIE_GROB\n",
      "LP_LEBENSPHASE_FEIN\n",
      "LP_LEBENSPHASE_GROB\n",
      "LP_STATUS_FEIN\n",
      "LP_STATUS_GROB\n",
      "MIN_GEBAEUDEJAHR\n",
      "MOBI_RASTER\n",
      "MOBI_REGIO\n",
      "NATIONALITAET_KZ\n",
      "ONLINE_AFFINITAET\n",
      "ORTSGR_KLS9\n",
      "OST_WEST_KZ\n",
      "PLZ8_ANTG1\n",
      "PLZ8_ANTG2\n",
      "PLZ8_ANTG3\n",
      "PLZ8_ANTG4\n",
      "PLZ8_BAUMAX\n",
      "PLZ8_GBZ\n",
      "PLZ8_HHZ\n",
      "PRAEGENDE_JUGENDJAHRE\n",
      "REGIOTYP\n",
      "RELAT_AB\n",
      "RETOURTYP_BK_S\n",
      "RT_KEIN_ANREIZ\n",
      "RT_SCHNAEPPCHEN\n",
      "RT_UEBERGROESSE\n",
      "SEMIO_DOM\n",
      "SEMIO_ERL\n",
      "SEMIO_FAM\n",
      "SEMIO_KAEM\n",
      "SEMIO_KRIT\n",
      "SEMIO_KULT\n",
      "SEMIO_LUST\n",
      "SEMIO_MAT\n",
      "SEMIO_PFLICHT\n",
      "SEMIO_RAT\n",
      "SEMIO_REL\n",
      "SEMIO_SOZ\n",
      "SEMIO_TRADV\n",
      "SEMIO_VERT\n",
      "SHOPPER_TYP\n",
      "SOHO_KZ\n",
      "STRUKTURTYP\n",
      "TITEL_KZ\n",
      "UMFELD_ALT\n",
      "UMFELD_JUNG\n",
      "UNGLEICHENN_FLAG\n",
      "VERDICHTUNGSRAUM\n",
      "VERS_TYP\n",
      "VHA\n",
      "VHN\n",
      "VK_DHT4A\n",
      "VK_DISTANZ\n",
      "VK_ZG11\n",
      "W_KEIT_KIND_HH\n",
      "WOHNDAUER_2008\n",
      "WOHNLAGE\n",
      "ZABEOTYP\n"
     ]
    }
   ],
   "source": [
    "# show features\n",
    "!head -n 1 ../arvato_data/Udacity_AZDIAS_052018.csv | tr \";\" \"\\n\" | sort"
   ]
  },
  {
   "cell_type": "markdown",
   "metadata": {},
   "source": [
    "I have a machine with 32GB of `RAM`, so the dataset can be loaded and pre-processed in memory. Hence `low_memory = False`, allows for faster loads and better column type inference."
   ]
  },
  {
   "cell_type": "code",
   "execution_count": null,
   "metadata": {},
   "outputs": [],
   "source": [
    "%%time\n",
    "azdias = pd.read_csv('../arvato_data/Udacity_AZDIAS_052018.csv', sep=';', low_memory = False, index_col = 'LNR') \n",
    "azdias"
   ]
  },
  {
   "cell_type": "markdown",
   "metadata": {},
   "source": [
    "---"
   ]
  },
  {
   "cell_type": "markdown",
   "metadata": {},
   "source": [
    "# 02. Missing features"
   ]
  },
  {
   "cell_type": "markdown",
   "metadata": {},
   "source": [
    "## 02.01. Intro"
   ]
  },
  {
   "cell_type": "markdown",
   "metadata": {},
   "source": [
    "\n",
    "\n",
    "Before exploring the values contained in the cells, it is essential to understand how many missing values are present. I.e. values that were **not entered**, now \"unknown\" from the perspective of the data curator, the latter will come later."
   ]
  },
  {
   "cell_type": "code",
   "execution_count": null,
   "metadata": {},
   "outputs": [],
   "source": [
    "%%time\n",
    "empty_cells = pd.isnull(azdias).sum()*100.0/azdias.shape[0]\n",
    "empty_cells = empty_cells.sort_values(ascending=False)\n",
    "empty_cells[:50].plot(figsize=(20,3),kind='bar') # bar plot of first 50 most missing features"
   ]
  },
  {
   "cell_type": "markdown",
   "metadata": {},
   "source": [
    "(Above) a barplot showing 50 most missing features, ordered by the percentage of missing values.\n",
    "\n",
    "(Below) Histogram showing that most features have `NAs` less than 20% missing values:"
   ]
  },
  {
   "cell_type": "code",
   "execution_count": null,
   "metadata": {},
   "outputs": [],
   "source": [
    "plt.hist(empty_cells,bins=15)\n",
    "plt.plot()"
   ]
  },
  {
   "cell_type": "markdown",
   "metadata": {},
   "source": [
    "For subsequent steps in pre-processing, I will be establishing a cutoff threshold for a feature removal: called `missingness_threshold_percentage`. \n",
    "> If a feature is missing more or equal to `missingness_threshold_percentage`% of its entries, I am removing that feature from subsequent analysis. Since the data is describing general population, and high values of missingness might introduce a lot of spuriousness to the analysis. \n"
   ]
  },
  {
   "cell_type": "code",
   "execution_count": null,
   "metadata": {},
   "outputs": [],
   "source": [
    "missingness_threshold_percentage=30"
   ]
  },
  {
   "cell_type": "code",
   "execution_count": null,
   "metadata": {},
   "outputs": [],
   "source": [
    "np.sum(empty_cells>=missingness_threshold_percentage)"
   ]
  },
  {
   "cell_type": "markdown",
   "metadata": {},
   "source": [
    "For now, with 30% cut-off threshold I would remove **6 features**. But I will postpose this step for now to identify other entries annotated as \"missing/unknown\"."
   ]
  },
  {
   "cell_type": "markdown",
   "metadata": {},
   "source": [
    "## 02.02. Undefined features\n",
    "I am utilizing provided matadata file `DIAS Attributes - Values 2017.xlsx` to extract the possible value types for defined features (columns in `azidas` dataset).\n",
    "\n",
    "Due to the specific formatting, a forward-fill function is applied `ffill`. "
   ]
  },
  {
   "cell_type": "markdown",
   "metadata": {},
   "source": [
    "Upon manual inspection, the values for \"unknown\" are sometimes encoded as -1, sometimes as 0 or 9, and sometimes as both -1,9 or 0. But there are features in which for example 0 does not mean unknown. And there are features marked with string `...` indicating a **float values**, as opposed to a categorical one.\n",
    "\n",
    "In this step, I am going to count number of \"unknown\" entries per feature. The idea is that \"missing entries\" (point 02.01) and unknown entries \"02.02\" might have different sources, but inevitabely lead to the same conclusions for the sake of the analysis -> unavailable data.\n",
    "\n",
    "I am going to use the keyword \"unknown\" to match the values in the column \"meaning\", to extract a dataframe of attributes and its values defining unknown entries:"
   ]
  },
  {
   "cell_type": "markdown",
   "metadata": {},
   "source": [
    "And now I will change values in loaded dataset: `azdias` that match the missing values in specified attributes to `NANs`:"
   ]
  },
  {
   "cell_type": "code",
   "execution_count": null,
   "metadata": {
    "scrolled": true
   },
   "outputs": [],
   "source": [
    "metadata_attributes = r\"../arvato_data/DIAS Attributes - Values 2017.xlsx\"\n",
    "azdias,missing_metadata_annotations,not_present_features = unknown_to_nan(azdias, metadata_attributes , 'unknown|no transactions known') "
   ]
  },
  {
   "cell_type": "code",
   "execution_count": null,
   "metadata": {},
   "outputs": [],
   "source": [
    "print(\"{} dataset features lacking metadata information, while there are {} features not used by provided dataset. \".\\\n",
    "      format(  len(missing_metadata_annotations), len(not_present_features) ) )"
   ]
  },
  {
   "cell_type": "markdown",
   "metadata": {},
   "source": [
    "## 02.03. Features renaming & discussion\n",
    "To investigate, let's take **for example** features that have \"D19\" in their name from both dataset and metadata information:"
   ]
  },
  {
   "cell_type": "code",
   "execution_count": null,
   "metadata": {
    "scrolled": true
   },
   "outputs": [],
   "source": [
    "[x for x in  not_present_features if \"D19\" in x]"
   ]
  },
  {
   "cell_type": "code",
   "execution_count": null,
   "metadata": {
    "scrolled": true
   },
   "outputs": [],
   "source": [
    "[x for x in  missing_metadata_annotations if \"D19\" in x]"
   ]
  },
  {
   "cell_type": "markdown",
   "metadata": {},
   "source": [
    "It seems that there are examples, like:\n",
    "\n",
    "- `D19_TELKO_MOBILE` (present in `AZIDAS` dataset), but lacking metadata entry, however the `D19_TELKO_MOBILE_RZ` is defined in metadata.\n",
    "\n",
    "- `D19_BANKEN_GROSS` in the dataset, and `D19_BANKEN_GROSS_RZ` in metadata\n",
    "\n",
    "for this particular example, it is perhaps worth assuming that these features refer to the same concept. \n",
    "\n",
    "It is particularly important to reduce the number of data fields that lack metadata information, as we need to define a concept of missingness. For example `D19_TELKO_MOBILE_RZ` in provided metadata file defines the fields as: \"transactional activity based on the product group MOBILE COMMUNICATION\", and is described by several categories:\n",
    "\n",
    "```\n",
    "0\tno transaction known\n",
    "1\tMultibuyer 0-12 months\n",
    "2\tDoublebuyer 0-12 months\n",
    "3\tSinglebuyer 0-12 months\n",
    "4\tMulti-/Doublebuyer 13-24 months\n",
    "5\tSinglebuyer 13-24 months\n",
    "6\tBuyer > 24 months\n",
    "7\tProspects > 24 months\n",
    "```\n",
    "\n",
    "We might wonder what this `0` means really - this would be a question to the data curator. \n",
    "\n",
    "\n",
    "If 0 label (no known transation) is interpreted as a lack of knowledge, i.e. missing value, then this value **in reality** could be really one of the 1-7 classes. Thus 0 would be associated with uncertainity, i.e. missing value. Then we can either drop it, or try to impute it based on other features. But if we're certain that it indicates no transations, then it is a valid category in itself. \n",
    "\n",
    "One thing is that `D19_TELKO_MOBILE` feature does not hold any `NAs` values in the loaded dataframe:"
   ]
  },
  {
   "cell_type": "code",
   "execution_count": null,
   "metadata": {},
   "outputs": [],
   "source": [
    "np.sum(np.isnan(azdias['D19_TELKO_MOBILE']))"
   ]
  },
  {
   "cell_type": "code",
   "execution_count": null,
   "metadata": {},
   "outputs": [],
   "source": [
    "list(zip( np.unique(azdias['D19_TELKO_MOBILE'], return_counts=True)[0],np.unique(azdias['D19_TELKO_MOBILE'], return_counts=True)[1] ))"
   ]
  },
  {
   "cell_type": "markdown",
   "metadata": {},
   "source": [
    "while the `0` annotation is clearly the most frequently occuring one. I.e. if it were interpreted as missing, then we'd probably remove this column (feature) altogether."
   ]
  },
  {
   "cell_type": "markdown",
   "metadata": {},
   "source": [
    "In this apprach I will modify the provided metadata file: make a copy named `Amended Copy of DIAS Attributes - Values 2017.xlsx` that contains re-named features manually identified to reflect the same characteristic of the data. "
   ]
  },
  {
   "cell_type": "code",
   "execution_count": null,
   "metadata": {},
   "outputs": [],
   "source": [
    "np.unique(azdias['STRUKTURTYP'].dropna())"
   ]
  },
  {
   "cell_type": "markdown",
   "metadata": {},
   "source": [
    "## 02.04. Missing features: correction"
   ]
  },
  {
   "cell_type": "code",
   "execution_count": null,
   "metadata": {},
   "outputs": [],
   "source": [
    "print(\"{} dataset features lacking metadata information, while there are {} features not used by provided dataset. \".\\\n",
    "      format(  len(missing_metadata_annotations), len(not_present_features) ) )"
   ]
  },
  {
   "cell_type": "markdown",
   "metadata": {},
   "source": [
    "As we see in the cell output above there are a couple of non-common features between the dataset and the provided metadata, namely\n",
    "1. There are **93** feature names defined in the provided dataset that lack the exact definition in provided metadata.\n",
    "\n",
    "2. There are 8 entries in the metadata, that were not provided for the dataset.\n",
    "\n",
    "Whereas the (2) point is not that important (there might have been more features described, but they didn't make it to the final dataset for some reason) the first step requires some attention. If we're missing annotations for 93 features, then we're missing a source of the \"unknown/undefined/NA\", that could help us standardize the unknown tokens in the dataset."
   ]
  },
  {
   "cell_type": "markdown",
   "metadata": {},
   "source": [
    "I've prepared a file `azdias_corrected_features.tsv` that maps some of the column names in `azdias` dataset to metadata information stored in `DIAS Attributes - Values 2017.xlsx`. I've managed to manually correct **38** features, among them many with `D19` prefix discussed above. \n",
    "\n",
    "The same function can take an optinal argument `rename_columns` that takes in a tab-separated file (`.tsv`) with columns `data` and `metadata`, and maps (replaces only for complete cases) the columns in provided dataframe `azidas` from `data -> metadata`, so that now the loaded dataframe has renamed columns that match some of the identified entries in metadata."
   ]
  },
  {
   "cell_type": "code",
   "execution_count": null,
   "metadata": {
    "scrolled": true
   },
   "outputs": [],
   "source": [
    "metadata_attributes = r\"../arvato_data/DIAS Attributes - Values 2017.xlsx\"\n",
    "azdias,missing_metadata_annotations,not_present_features = unknown_to_nan(azdias, metadata_attributes , 'unknown|no transactions known',\n",
    "                                                                         rename_columns='azdias_corrected_features.tsv') "
   ]
  },
  {
   "cell_type": "code",
   "execution_count": null,
   "metadata": {},
   "outputs": [],
   "source": [
    "np.unique(azdias['D19_GESAMT_ONLINE_QUOTE_12'].dropna(),return_counts=True)"
   ]
  },
  {
   "cell_type": "code",
   "execution_count": null,
   "metadata": {
    "scrolled": true
   },
   "outputs": [],
   "source": [
    "print(\"{} dataset features lacking metadata information, while there are {} features not used by provided dataset. \".\\\n",
    "      format(  len(missing_metadata_annotations), len(not_present_features) ) )"
   ]
  },
  {
   "cell_type": "markdown",
   "metadata": {},
   "source": [
    "We see now that it has reduced substantially (by **38**, i.e. to 55) the number of features for which we don't have metadata information, while only 4 features in metadata remain unused."
   ]
  },
  {
   "cell_type": "code",
   "execution_count": null,
   "metadata": {},
   "outputs": [],
   "source": [
    "not_present_features"
   ]
  },
  {
   "cell_type": "markdown",
   "metadata": {},
   "source": [
    "Unfortunately, these four features couldn't be identified back to provided dataset `Azdias`, and hance would remain unused. Perhaps `customers` dataset would include them.\n",
    "\n",
    "Let's look back at our missingness information:"
   ]
  },
  {
   "cell_type": "markdown",
   "metadata": {},
   "source": [
    "---"
   ]
  },
  {
   "cell_type": "code",
   "execution_count": null,
   "metadata": {},
   "outputs": [],
   "source": [
    "%%time\n",
    "empty_cells = pd.isnull(azdias).sum()*100.0/azdias.shape[0]\n",
    "empty_cells = empty_cells.sort_values(ascending=False)\n",
    "empty_cells[:50].plot(figsize=(20,3),kind='bar') # bar plot of first 50 most missing features"
   ]
  },
  {
   "cell_type": "code",
   "execution_count": null,
   "metadata": {},
   "outputs": [],
   "source": [
    "np.sum(empty_cells>missingness_threshold_percentage)"
   ]
  },
  {
   "cell_type": "markdown",
   "metadata": {},
   "source": [
    "## 02.05. Feature Missingness filtering\n",
    "\n",
    "After identifying number of empty cells (`NaNs`, and converting unknown values to `NaNs` I'll filter (remove) features that exhibit missingnes above `missingness_threshold_percentage`"
   ]
  },
  {
   "cell_type": "code",
   "execution_count": null,
   "metadata": {},
   "outputs": [],
   "source": [
    "%%time\n",
    "features_to_drop =list( (empty_cells[empty_cells>missingness_threshold_percentage]).index.values)\n",
    "azdias.drop(labels=features_to_drop,inplace=True,axis='columns')"
   ]
  },
  {
   "cell_type": "markdown",
   "metadata": {},
   "source": [
    "We see that now more features have the `NA` values, previously encoded by various labels, like 0, -1, or 9. Hence an increase in overall missingness percentage. "
   ]
  },
  {
   "cell_type": "markdown",
   "metadata": {},
   "source": [
    "Plot again missingness after removal:"
   ]
  },
  {
   "cell_type": "code",
   "execution_count": null,
   "metadata": {},
   "outputs": [],
   "source": [
    "%%time\n",
    "empty_cells = pd.isnull(azdias).sum()*100.0/azdias.shape[0]\n",
    "empty_cells = empty_cells.sort_values(ascending=False)\n",
    "empty_cells[:50].plot(figsize=(20,3),kind='bar') # bar plot of first 50 most missing features"
   ]
  },
  {
   "cell_type": "markdown",
   "metadata": {},
   "source": [
    "---\n",
    "# 03. Missing rows\n",
    "\n",
    "After we've removed highly incomplete features of our dataset, we'd have to make sure that the individuals present in the dataset (row entries) don't exhibit high missingness. \n",
    "\n",
    "We must remove row entries (i.e. subjects) for which a substantial portion of information is missing. I am going to apply **different missingness** threshold `row_missingness_threshold_percentage` to filter entries (rows) - **defined at 50%**. The reason is that I'll be later imputing missing values based, and believe with 50% of entries present per subjects, and a big dataset of general population, I'll be able to successfully impute missing values with features having at most `missingness_threshold_percentage` (set to 30%) missing entries"
   ]
  },
  {
   "cell_type": "code",
   "execution_count": null,
   "metadata": {},
   "outputs": [],
   "source": [
    "%%time\n",
    "empty_rows = pd.isnull(azdias).sum(axis=1)*100.0/azdias.shape[1]\n",
    "empty_rows = empty_rows.sort_values(ascending=False)\n",
    "empty_rows[:50].plot(figsize=(20,3),kind='bar') # bar plot of first 50 most missing rows"
   ]
  },
  {
   "cell_type": "code",
   "execution_count": null,
   "metadata": {},
   "outputs": [],
   "source": [
    "row_missingness_threshold_percentage = 50"
   ]
  },
  {
   "cell_type": "code",
   "execution_count": null,
   "metadata": {},
   "outputs": [],
   "source": [
    "# How many percent of rows/entries/subjects were removed?\n",
    "sum(empty_rows>row_missingness_threshold_percentage)*100/azdias.shape[0]"
   ]
  },
  {
   "cell_type": "code",
   "execution_count": null,
   "metadata": {},
   "outputs": [],
   "source": [
    "plt.hist(empty_rows,bins=15)\n",
    "plt.plot()"
   ]
  },
  {
   "cell_type": "markdown",
   "metadata": {},
   "source": [
    "... and we see that for majority of cases the subjects have almost all features defined.\n",
    "\n",
    "If 50% missingness for rows is defines as a cutoff threshold, then around 11.22% of the rows/subjects are removed. "
   ]
  },
  {
   "cell_type": "code",
   "execution_count": null,
   "metadata": {},
   "outputs": [],
   "source": [
    "%%time\n",
    "samples_to_drop =list( (empty_rows[empty_rows>row_missingness_threshold_percentage]).index.values)\n",
    "azdias.drop(index=samples_to_drop,inplace=True,axis='index')"
   ]
  },
  {
   "cell_type": "code",
   "execution_count": null,
   "metadata": {},
   "outputs": [],
   "source": [
    "%%time\n",
    "empty_rows = pd.isnull(azdias).sum(axis=1)*100.0/azdias.shape[1]\n",
    "empty_rows = empty_rows.sort_values(ascending=False)\n",
    "empty_rows[:50].plot(figsize=(20,3),kind='bar') # bar plot of first 50 most missing features"
   ]
  },
  {
   "cell_type": "markdown",
   "metadata": {},
   "source": [
    "---\n",
    "# 04. Data types & Feature encoding\n",
    "\n",
    "We know (from inspecting metadata file ` DIAS Attributes - Values 2017.xlsx`) that some features are encoded as floats, some are presented as ordinal features (where relative order matters), and some are pure categorial features, for example gender. These features need to be properly encoded."
   ]
  },
  {
   "cell_type": "markdown",
   "metadata": {},
   "source": [
    "# Feature Encoding\n",
    "\n",
    "Features in the `Udacity_AZDIAS_052018`, and described in the provided metadata file `DIAS Attributes - Values 2017.xlsx` are encoded usually by integers, however **for the most part, the features are of ordinal or categorical nature**.\n",
    "\n"
   ]
  },
  {
   "cell_type": "markdown",
   "metadata": {},
   "source": [
    "## Features lacking metadata information\n",
    "\n",
    "First however, let's inspect the unique values the features which lack metadata information hold:"
   ]
  },
  {
   "cell_type": "code",
   "execution_count": null,
   "metadata": {
    "scrolled": true
   },
   "outputs": [],
   "source": [
    "# re-run previous function, to update the list of some deleted columns\n",
    "metadata_attributes = r\"../arvato_data/DIAS Attributes - Values 2017.xlsx\"\n",
    "azdias,missing_metadata_annotations,not_present_features = unknown_to_nan(azdias, metadata_attributes , 'unknown|no transactions known',\n",
    "                                                                         rename_columns='azdias_corrected_features.tsv') \n",
    "\n",
    "print(\"{} dataset features lacking metadata information, while there are {} features not used by provided dataset. \".\\\n",
    "      format(  len(missing_metadata_annotations), len(not_present_features) ) )"
   ]
  },
  {
   "cell_type": "markdown",
   "metadata": {},
   "source": [
    "Since we filtered some features based on missingness, the number of unused features for which we have metadata rose from 4 -> 31, reflecting 27 removed features, which is ok."
   ]
  },
  {
   "cell_type": "code",
   "execution_count": null,
   "metadata": {
    "scrolled": true
   },
   "outputs": [],
   "source": [
    "missing_metadata_feature_info =  {}\n",
    "missing_metadata_feature_info['Attribute'] = []\n",
    "missing_metadata_feature_info['unique_counts'] = []\n",
    "missing_metadata_feature_info['unique_vals'] = []\n",
    "\n",
    "for f in missing_metadata_annotations:\n",
    "    unique_vals =  np.unique(azdias[f].dropna() )\n",
    "    \n",
    "    missing_metadata_feature_info['Attribute'].append(f)\n",
    "    \n",
    "    missing_metadata_feature_info['unique_counts'].append(len(unique_vals))\n",
    "    missing_metadata_feature_info['unique_vals'].append(unique_vals)   \n",
    "    \n",
    "missing_metadata_feature_info = pd.DataFrame.from_dict(missing_metadata_feature_info)\n",
    "missing_metadata_feature_info.sort_values('unique_counts',ascending=False, inplace=True)\n",
    "missing_metadata_feature_info"
   ]
  },
  {
   "cell_type": "code",
   "execution_count": null,
   "metadata": {},
   "outputs": [],
   "source": [
    "missing_metadata_feature_info.shape"
   ]
  },
  {
   "cell_type": "markdown",
   "metadata": {},
   "source": [
    "Here I am sorting in an `ascending` manner the the number of unique values. \n",
    "\n",
    "Let's discuss some of the features (in order they appear in above table):\n",
    "\n",
    "`EINGEFUEGT_AM` [**to be removed**]:\n",
    "\n",
    "    - is some form of year encoding. Looking up the German translation it means \"entered\", so most likely when a particular user was entered into a database. But we're not sure. **I am going to drop this feature** however, if I had the opportunity to talk with some of the data curators, perhaps a feature could be engineered here. For example, how many years a particular client is staying with a \"us\" (a particular company). This could divide clients into new/established/old. But because we don't exactly know what it means, and the \"story\" behind the feature, it is better to drop it \n",
    "    \n",
    "- `ANZ_STATISTISCHE_HAUSHALTE` [**to be encoded as numerical**]:\n",
    "    - is some for of statistic (`STATISTICSCHE`) relating to the household (`HOUSHALTE`) and its  transation activity (from `ANZ` annotation in metadata file) \n",
    "    \n",
    "    \n",
    "- ... (remaining features with missing metadata) [**to be encoded as categorical**]:\n",
    "    - because we lack any information to the missing features, the only thing we can assume is that they represent some form of category. We cannot assume ordinal relationship, as it would introduce errors if the features represent ortogonal entities, such as choice, type, etc.. Hence all remaining features would be encoded as **categorical**."
   ]
  },
  {
   "cell_type": "code",
   "execution_count": null,
   "metadata": {
    "scrolled": true
   },
   "outputs": [],
   "source": [
    "missing_metadata_feature_info['Type']= 'categorical' # categorical as default\n",
    "\n",
    "##### dropping EINGEFUEGT_AM_idx \n",
    "\n",
    "### from `missing_metadata_feature_info`\n",
    "EINGEFUEGT_AM_idx = missing_metadata_feature_info.loc[missing_metadata_feature_info['Attribute']=='EINGEFUEGT_AM'].index.values\n",
    "missing_metadata_feature_info.drop(axis='index', inplace=True, index = EINGEFUEGT_AM_idx )\n",
    "\n",
    "\n",
    "EINGEFUEGT_AM_idx = missing_metadata_feature_info.loc[missing_metadata_feature_info['Attribute']=='EINGEFUEGT_AM'].index.values\n",
    "missing_metadata_feature_info.loc[missing_metadata_feature_info.Attribute=='ANZ_STATISTISCHE_HAUSHALTE', 'Type'] = 'numerical'\n",
    "\n",
    "### from AZDIAS\n",
    "try:\n",
    "    azdias.drop(columns='EINGEFUEGT_AM',inplace=True)\n",
    "except KeyError:\n",
    "    print(\"EINGEFUEGT_AM already deleted from AZDIAS\")\n",
    "\n",
    "    \n",
    "missing_metadata_feature_info"
   ]
  },
  {
   "cell_type": "markdown",
   "metadata": {},
   "source": [
    "---\n",
    "## Exploring feature types"
   ]
  },
  {
   "cell_type": "markdown",
   "metadata": {},
   "source": [
    "Secondly, let's visualize auto-inferred by pandas data types:"
   ]
  },
  {
   "cell_type": "code",
   "execution_count": null,
   "metadata": {},
   "outputs": [],
   "source": [
    "plt.hist([str(x) for x in (azdias.dtypes).to_numpy().squeeze()])"
   ]
  },
  {
   "cell_type": "markdown",
   "metadata": {},
   "source": [
    "Pandas tries best, but since all categorical/ordinal/numerical features are encoded as numbers, they are some form of a number: integer or float.\n",
    "\n",
    "Interestingly there are some 5 features that are encoded as objects:"
   ]
  },
  {
   "cell_type": "code",
   "execution_count": null,
   "metadata": {},
   "outputs": [],
   "source": [
    "azdias.loc[:,azdias.dtypes==\"object\" ].head()"
   ]
  },
  {
   "cell_type": "markdown",
   "metadata": {},
   "source": [
    "Upon inspection, they are encoded as such, because they usually contain a mix of (**auto-inferred**) types: integer and string. \n",
    "\n",
    "\n",
    "Ok, so now let's encode the features properly:"
   ]
  },
  {
   "cell_type": "markdown",
   "metadata": {},
   "source": [
    "**Manual inspection.**\n",
    "I went over manually over the provided metadata informaiton: `DIAS Attributes - Values 2017` and based on descriptions and provided feature values, encoded each variable type as either:\n",
    "- categorical\n",
    "- numerical\n",
    "- ordinal\n",
    "\n",
    "Combining this information (stored in `metadata_feature_types.tsv`) with assumed types of features that lack the metadata annotations (dataframe `missing_metadata_feature_info`) I create a lookup table of expected feature types:\n"
   ]
  },
  {
   "cell_type": "code",
   "execution_count": null,
   "metadata": {},
   "outputs": [],
   "source": [
    "missing_metadata_feature_info = missing_metadata_feature_info[['Attribute','Type']]\n",
    "\n",
    "all_feature_types = pd.read_csv('metadata_feature_types.tsv',sep=\"\\t\").dropna()\n",
    "all_feature_types = pd.concat([all_feature_types,missing_metadata_feature_info])\n",
    "\n",
    "# must be in Azdias\n",
    "all_feature_types.index = all_feature_types['Attribute']\n",
    "# features that have filtered AZDIAS entry\n",
    "all_feature_types = all_feature_types.loc[ set(all_feature_types['Attribute'] ).intersection( (set(azdias.columns  )))  ]\n",
    "\n",
    "plt.hist(all_feature_types['Type'])"
   ]
  },
  {
   "cell_type": "markdown",
   "metadata": {},
   "source": [
    "And now what remains is to encode these categories properly"
   ]
  },
  {
   "cell_type": "code",
   "execution_count": null,
   "metadata": {},
   "outputs": [],
   "source": [
    "np.unique(all_feature_types['Type'],return_counts=True)"
   ]
  },
  {
   "cell_type": "markdown",
   "metadata": {},
   "source": [
    "# SAVING "
   ]
  },
  {
   "cell_type": "code",
   "execution_count": null,
   "metadata": {},
   "outputs": [],
   "source": [
    "azdias.to_csv(\"../arvato_data_processed/azdias.csv\") \n",
    "all_feature_types.to_csv(\"../arvato_data_processed/azdias_feature_types.csv\") "
   ]
  },
  {
   "cell_type": "markdown",
   "metadata": {},
   "source": [
    "## TODO: remove below [EXPERIMENTS] \n",
    "Every feature"
   ]
  },
  {
   "cell_type": "raw",
   "metadata": {},
   "source": [
    "str_features = list(all_feature_types[all_feature_types['Type']!='numerical']['Attribute'])"
   ]
  },
  {
   "cell_type": "raw",
   "metadata": {},
   "source": [
    "# data[\"Salary\"]= data[\"Salary\"].astype(int) \n",
    "azdias_encoded = pd.DataFrame.copy(azdias)\n",
    "\n",
    "azdias_encoded[str_features] = azdias[str_features].astype('category')"
   ]
  },
  {
   "cell_type": "raw",
   "metadata": {},
   "source": [
    "azdias_encoded.to_csv(\"../arvato_data_processed/azdias_encoded.csv\")  # df.to_csv('out.zip', index=False,"
   ]
  },
  {
   "cell_type": "raw",
   "metadata": {},
   "source": [
    "empty_cells = pd.isnull(azdias_encoded).sum()*100.0/azdias.shape[0]\n",
    "empty_cells = empty_cells.sort_values(ascending=False)\n",
    "empty_cells[:50].plot(figsize=(20,3),kind='bar') # bar plot of first 50 most missing features"
   ]
  },
  {
   "cell_type": "raw",
   "metadata": {},
   "source": [
    "empty_cells = pd.isnull(azdias).sum()*100.0/azdias.shape[0]\n",
    "empty_cells = empty_cells.sort_values(ascending=False)\n",
    "empty_cells[:50].plot(figsize=(20,3),kind='bar') # bar plot of first 50 most missing features"
   ]
  },
  {
   "cell_type": "raw",
   "metadata": {},
   "source": [
    "plt.hist([str(x) for x in (azdias_encoded.dtypes).to_numpy().squeeze()])"
   ]
  },
  {
   "cell_type": "raw",
   "metadata": {},
   "source": [
    "try:\n",
    "    import prince\n",
    "except:\n",
    "    !pip install prince"
   ]
  },
  {
   "cell_type": "raw",
   "metadata": {},
   "source": [
    "azdias_encoded = azdias_encoded.dropna()\n",
    "azdias_encoded.head(5)"
   ]
  },
  {
   "cell_type": "markdown",
   "metadata": {},
   "source": [
    "Optional! As XGBOOst can handle missing data, and perhaps it is worth applying a very loose threshold"
   ]
  },
  {
   "cell_type": "markdown",
   "metadata": {},
   "source": [
    "# NEXT STEPS\n",
    "\n",
    "# TODO [remove]\n",
    "\n",
    "\n",
    "0. Feature correlation - Kruskal's lambda;\n",
    "\n",
    "1. Feature engineering\n",
    "\n",
    " \n",
    "    \n",
    "- encode `D19_LETZTER_KAUF_BRANCHE` as string, it is a nice category, be sure to keep the NAN as NAN\n",
    "- need to drop some unknown date encoded `EINGEFUEGT_AM`\n",
    "\n",
    "> `PRAEGENDE_JUGENDJAHR`E - combines information on three dimensions: generation by decade, movement (mainstream vs. avantgarde), and nation (east vs. west). While there aren't enough levels to disentangle east from west, two new variables will be created to capture the other two dimensions: an interval-type variable for decade, and a binary variable for movement.\n",
    "\n",
    "> `CAMEO_INTL_2015` - combines information on two axes: wealth and life stage. The two-digit codes will be broken by their 'tens'-place and 'ones'-place digits into two new ordinal variables (which, for the purposes of this project, is equivalent to just treating them as their raw numeric values).\n",
    "\n",
    "\n",
    "2. Encode categorical values as strings, or categories\n",
    "    - check pandas function for types encoding\n",
    "    - prepare a table: feature -> data types: numerical, categorical or ordinal\n",
    "    \n",
    "    \n",
    "3. prepare `customers` file in the same way\n",
    "4. concatenate `azdias` and `customers` together\n",
    "    - analyze intersecting columns\n",
    "    - select common set of columns/features\n",
    "    \n",
    "5. Dimensionality reduction: \n",
    "    a. Prince + FAMD. https://github.com/MaxHalford/prince#factor-analysis-of-mixed-data-famd\n",
    "    b. PCA although wrong\n",
    "\n",
    "or mca: https://pypi.org/project/mca/"
   ]
  },
  {
   "cell_type": "code",
   "execution_count": null,
   "metadata": {},
   "outputs": [],
   "source": []
  }
 ],
 "metadata": {
  "kernelspec": {
   "display_name": "conda_amazonei_mxnet_p36",
   "language": "python",
   "name": "conda_amazonei_mxnet_p36"
  },
  "language_info": {
   "codemirror_mode": {
    "name": "ipython",
    "version": 3
   },
   "file_extension": ".py",
   "mimetype": "text/x-python",
   "name": "python",
   "nbconvert_exporter": "python",
   "pygments_lexer": "ipython3",
   "version": "3.6.10"
  }
 },
 "nbformat": 4,
 "nbformat_minor": 4
}
