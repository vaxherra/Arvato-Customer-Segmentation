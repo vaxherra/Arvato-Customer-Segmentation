{
 "cells": [
  {
   "cell_type": "markdown",
   "metadata": {},
   "source": [
    "# `AZDIAS` + `CUSTOMERS` dataset"
   ]
  },
  {
   "cell_type": "markdown",
   "metadata": {},
   "source": [
    "# 00. Importing packages"
   ]
  },
  {
   "cell_type": "code",
   "execution_count": 1,
   "metadata": {},
   "outputs": [],
   "source": [
    "import numpy as np\n",
    "import pandas as pd\n",
    "import matplotlib.pyplot as plt\n",
    "import seaborn as sns\n",
    "try:\n",
    "    from tqdm import tqdm\n",
    "except:\n",
    "    !pip install tqdm\n",
    "    from tqdm import tqdm    \n",
    "%matplotlib inline\n",
    "\n",
    "\n",
    "### my utils\n",
    "from sklearn.preprocessing import OrdinalEncoder\n",
    "from eda_utils import *"
   ]
  },
  {
   "cell_type": "markdown",
   "metadata": {},
   "source": [
    "# 01. Loading datasets"
   ]
  },
  {
   "cell_type": "code",
   "execution_count": 2,
   "metadata": {},
   "outputs": [
    {
     "name": "stdout",
     "output_type": "stream",
     "text": [
      "(333, 2) (332, 2)\n"
     ]
    }
   ],
   "source": [
    "customers = pd.read_csv(\"../arvato_data_processed/customers.csv\", low_memory = False, index_col = 'LNR')\n",
    "azdias = pd.read_csv(\"../arvato_data_processed/azdias.csv\", low_memory = False, index_col = 'LNR')\n",
    "\n",
    "customers_feature_types =  pd.read_csv(\"../arvato_data_processed/customers_feature_types.csv\", low_memory = False,index_col='Attribute' )\n",
    "azdias_feature_types =  pd.read_csv(\"../arvato_data_processed/azdias_feature_types.csv\", low_memory = False,index_col='Attribute' )\n",
    "\n",
    "print(customers_feature_types.shape,azdias_feature_types.shape)\n",
    "\n",
    "customers_features = set(customers_feature_types['Attribute.1'])\n",
    "azdias_features = set(azdias_feature_types['Attribute.1']) "
   ]
  },
  {
   "cell_type": "markdown",
   "metadata": {},
   "source": [
    "# 02. Common features"
   ]
  },
  {
   "cell_type": "code",
   "execution_count": 3,
   "metadata": {},
   "outputs": [
    {
     "data": {
      "text/plain": [
       "330"
      ]
     },
     "execution_count": 3,
     "metadata": {},
     "output_type": "execute_result"
    }
   ],
   "source": [
    "common_features=  customers_features.intersection(azdias_features)\n",
    "len(common_features)"
   ]
  },
  {
   "cell_type": "markdown",
   "metadata": {},
   "source": [
    "We have 330 features in common, let's see what features are missing. We know from previous notebooks that `customers` initially had 3 more features than `azdias` dataset:"
   ]
  },
  {
   "cell_type": "code",
   "execution_count": 4,
   "metadata": {},
   "outputs": [
    {
     "data": {
      "text/plain": [
       "{'CUSTOMER_GROUP', 'ONLINE_PURCHASE', 'PRODUCT_GROUP'}"
      ]
     },
     "execution_count": 4,
     "metadata": {},
     "output_type": "execute_result"
    }
   ],
   "source": [
    "customers_features.difference(azdias_features)"
   ]
  },
  {
   "cell_type": "code",
   "execution_count": 5,
   "metadata": {},
   "outputs": [
    {
     "data": {
      "text/plain": [
       "{'KKK', 'REGIOTYP'}"
      ]
     },
     "execution_count": 5,
     "metadata": {},
     "output_type": "execute_result"
    }
   ],
   "source": [
    "azdias_features.difference(customers_features)"
   ]
  },
  {
   "cell_type": "markdown",
   "metadata": {},
   "source": [
    "So, after applying filtering for missingness in `azdias` and `customers` we have 330 common features.\n",
    "\n",
    "Three features present in `customers` are lacking entires in `azdias`:\n",
    "1. `CUSTOMER_GROUP`\n",
    "2. `ONLINE_PURCHASE`\n",
    "3. `PRODUCT_GROUP`\n",
    "\n",
    "These features are related to the customer-related information for which we **naturally don't have general population equivalent**: 1. what is the group of the customer (single/multiple buyer), 2. whether it bought something online from us, 3. what category of product was it"
   ]
  },
  {
   "cell_type": "markdown",
   "metadata": {},
   "source": [
    "Whereas customers lack two features present in general population:\n",
    "\n",
    "1. `KKK` - purchasing power\n",
    "2. `REGIOTYP` - neighbourhood, one of several possible classes: unknown, upper class, conservatives, upper middle class, middle class, lower middle class, traditional workers, marginal groups"
   ]
  },
  {
   "cell_type": "code",
   "execution_count": 6,
   "metadata": {},
   "outputs": [],
   "source": [
    "azdias = azdias[common_features]\n",
    "customers = customers[common_features]"
   ]
  },
  {
   "cell_type": "code",
   "execution_count": 7,
   "metadata": {},
   "outputs": [],
   "source": [
    "customers['dataset'] = 'customers'\n",
    "azdias['dataset'] = 'azdias'"
   ]
  },
  {
   "cell_type": "code",
   "execution_count": 8,
   "metadata": {},
   "outputs": [
    {
     "data": {
      "text/html": [
       "<div>\n",
       "<style scoped>\n",
       "    .dataframe tbody tr th:only-of-type {\n",
       "        vertical-align: middle;\n",
       "    }\n",
       "\n",
       "    .dataframe tbody tr th {\n",
       "        vertical-align: top;\n",
       "    }\n",
       "\n",
       "    .dataframe thead th {\n",
       "        text-align: right;\n",
       "    }\n",
       "</style>\n",
       "<table border=\"1\" class=\"dataframe\">\n",
       "  <thead>\n",
       "    <tr style=\"text-align: right;\">\n",
       "      <th></th>\n",
       "      <th>D19_VERSI_DATUM</th>\n",
       "      <th>KBA13_HERST_EUROPA</th>\n",
       "      <th>KBA05_VORB0</th>\n",
       "      <th>GEBURTSJAHR</th>\n",
       "      <th>D19_SAMMELARTIKEL_RZ</th>\n",
       "      <th>CJT_TYP_6</th>\n",
       "      <th>KBA05_ZUL3</th>\n",
       "      <th>KBA13_AUDI</th>\n",
       "      <th>KBA05_ANTG2</th>\n",
       "      <th>SEMIO_PFLICHT</th>\n",
       "      <th>...</th>\n",
       "      <th>KBA13_CCM_3000</th>\n",
       "      <th>RELAT_AB</th>\n",
       "      <th>KBA13_KRSHERST_FORD_OPEL</th>\n",
       "      <th>KBA13_KRSZUL_NEU</th>\n",
       "      <th>D19_NAHRUNGSERGAENZUNG_RZ</th>\n",
       "      <th>KBA13_SEG_VAN</th>\n",
       "      <th>KBA05_HERST3</th>\n",
       "      <th>KBA13_VORB_0</th>\n",
       "      <th>KBA05_ANHANG</th>\n",
       "      <th>dataset</th>\n",
       "    </tr>\n",
       "    <tr>\n",
       "      <th>LNR</th>\n",
       "      <th></th>\n",
       "      <th></th>\n",
       "      <th></th>\n",
       "      <th></th>\n",
       "      <th></th>\n",
       "      <th></th>\n",
       "      <th></th>\n",
       "      <th></th>\n",
       "      <th></th>\n",
       "      <th></th>\n",
       "      <th></th>\n",
       "      <th></th>\n",
       "      <th></th>\n",
       "      <th></th>\n",
       "      <th></th>\n",
       "      <th></th>\n",
       "      <th></th>\n",
       "      <th></th>\n",
       "      <th></th>\n",
       "      <th></th>\n",
       "      <th></th>\n",
       "    </tr>\n",
       "  </thead>\n",
       "  <tbody>\n",
       "    <tr>\n",
       "      <th>9626</th>\n",
       "      <td>10</td>\n",
       "      <td>2.0</td>\n",
       "      <td>4.0</td>\n",
       "      <td>0</td>\n",
       "      <td>6</td>\n",
       "      <td>5.0</td>\n",
       "      <td>2.0</td>\n",
       "      <td>4.0</td>\n",
       "      <td>2.0</td>\n",
       "      <td>2</td>\n",
       "      <td>...</td>\n",
       "      <td>3.0</td>\n",
       "      <td>1.0</td>\n",
       "      <td>3.0</td>\n",
       "      <td>3.0</td>\n",
       "      <td>0</td>\n",
       "      <td>4.0</td>\n",
       "      <td>3.0</td>\n",
       "      <td>4.0</td>\n",
       "      <td>1.0</td>\n",
       "      <td>customers</td>\n",
       "    </tr>\n",
       "    <tr>\n",
       "      <th>143872</th>\n",
       "      <td>10</td>\n",
       "      <td>4.0</td>\n",
       "      <td>4.0</td>\n",
       "      <td>0</td>\n",
       "      <td>6</td>\n",
       "      <td>5.0</td>\n",
       "      <td>3.0</td>\n",
       "      <td>4.0</td>\n",
       "      <td>2.0</td>\n",
       "      <td>4</td>\n",
       "      <td>...</td>\n",
       "      <td>5.0</td>\n",
       "      <td>3.0</td>\n",
       "      <td>1.0</td>\n",
       "      <td>3.0</td>\n",
       "      <td>0</td>\n",
       "      <td>3.0</td>\n",
       "      <td>1.0</td>\n",
       "      <td>4.0</td>\n",
       "      <td>3.0</td>\n",
       "      <td>customers</td>\n",
       "    </tr>\n",
       "    <tr>\n",
       "      <th>143873</th>\n",
       "      <td>9</td>\n",
       "      <td>5.0</td>\n",
       "      <td>3.0</td>\n",
       "      <td>0</td>\n",
       "      <td>0</td>\n",
       "      <td>5.0</td>\n",
       "      <td>4.0</td>\n",
       "      <td>2.0</td>\n",
       "      <td>0.0</td>\n",
       "      <td>3</td>\n",
       "      <td>...</td>\n",
       "      <td>3.0</td>\n",
       "      <td>1.0</td>\n",
       "      <td>1.0</td>\n",
       "      <td>1.0</td>\n",
       "      <td>5</td>\n",
       "      <td>4.0</td>\n",
       "      <td>3.0</td>\n",
       "      <td>4.0</td>\n",
       "      <td>3.0</td>\n",
       "      <td>customers</td>\n",
       "    </tr>\n",
       "    <tr>\n",
       "      <th>143874</th>\n",
       "      <td>10</td>\n",
       "      <td>4.0</td>\n",
       "      <td>2.0</td>\n",
       "      <td>1960</td>\n",
       "      <td>6</td>\n",
       "      <td>3.0</td>\n",
       "      <td>3.0</td>\n",
       "      <td>2.0</td>\n",
       "      <td>3.0</td>\n",
       "      <td>5</td>\n",
       "      <td>...</td>\n",
       "      <td>4.0</td>\n",
       "      <td>1.0</td>\n",
       "      <td>3.0</td>\n",
       "      <td>2.0</td>\n",
       "      <td>0</td>\n",
       "      <td>4.0</td>\n",
       "      <td>3.0</td>\n",
       "      <td>3.0</td>\n",
       "      <td>0.0</td>\n",
       "      <td>customers</td>\n",
       "    </tr>\n",
       "    <tr>\n",
       "      <th>143888</th>\n",
       "      <td>10</td>\n",
       "      <td>3.0</td>\n",
       "      <td>5.0</td>\n",
       "      <td>0</td>\n",
       "      <td>0</td>\n",
       "      <td>5.0</td>\n",
       "      <td>4.0</td>\n",
       "      <td>3.0</td>\n",
       "      <td>2.0</td>\n",
       "      <td>3</td>\n",
       "      <td>...</td>\n",
       "      <td>4.0</td>\n",
       "      <td>5.0</td>\n",
       "      <td>2.0</td>\n",
       "      <td>3.0</td>\n",
       "      <td>0</td>\n",
       "      <td>3.0</td>\n",
       "      <td>1.0</td>\n",
       "      <td>4.0</td>\n",
       "      <td>0.0</td>\n",
       "      <td>customers</td>\n",
       "    </tr>\n",
       "  </tbody>\n",
       "</table>\n",
       "<p>5 rows × 331 columns</p>\n",
       "</div>"
      ],
      "text/plain": [
       "        D19_VERSI_DATUM  KBA13_HERST_EUROPA  KBA05_VORB0  GEBURTSJAHR  \\\n",
       "LNR                                                                     \n",
       "9626                 10                 2.0          4.0            0   \n",
       "143872               10                 4.0          4.0            0   \n",
       "143873                9                 5.0          3.0            0   \n",
       "143874               10                 4.0          2.0         1960   \n",
       "143888               10                 3.0          5.0            0   \n",
       "\n",
       "        D19_SAMMELARTIKEL_RZ  CJT_TYP_6  KBA05_ZUL3  KBA13_AUDI  KBA05_ANTG2  \\\n",
       "LNR                                                                            \n",
       "9626                       6        5.0         2.0         4.0          2.0   \n",
       "143872                     6        5.0         3.0         4.0          2.0   \n",
       "143873                     0        5.0         4.0         2.0          0.0   \n",
       "143874                     6        3.0         3.0         2.0          3.0   \n",
       "143888                     0        5.0         4.0         3.0          2.0   \n",
       "\n",
       "        SEMIO_PFLICHT  ...  KBA13_CCM_3000  RELAT_AB  \\\n",
       "LNR                    ...                             \n",
       "9626                2  ...             3.0       1.0   \n",
       "143872              4  ...             5.0       3.0   \n",
       "143873              3  ...             3.0       1.0   \n",
       "143874              5  ...             4.0       1.0   \n",
       "143888              3  ...             4.0       5.0   \n",
       "\n",
       "        KBA13_KRSHERST_FORD_OPEL  KBA13_KRSZUL_NEU  D19_NAHRUNGSERGAENZUNG_RZ  \\\n",
       "LNR                                                                             \n",
       "9626                         3.0               3.0                          0   \n",
       "143872                       1.0               3.0                          0   \n",
       "143873                       1.0               1.0                          5   \n",
       "143874                       3.0               2.0                          0   \n",
       "143888                       2.0               3.0                          0   \n",
       "\n",
       "        KBA13_SEG_VAN  KBA05_HERST3  KBA13_VORB_0  KBA05_ANHANG    dataset  \n",
       "LNR                                                                         \n",
       "9626              4.0           3.0           4.0           1.0  customers  \n",
       "143872            3.0           1.0           4.0           3.0  customers  \n",
       "143873            4.0           3.0           4.0           3.0  customers  \n",
       "143874            4.0           3.0           3.0           0.0  customers  \n",
       "143888            3.0           1.0           4.0           0.0  customers  \n",
       "\n",
       "[5 rows x 331 columns]"
      ]
     },
     "execution_count": 8,
     "metadata": {},
     "output_type": "execute_result"
    }
   ],
   "source": [
    "joint_dataset = pd.concat([customers,azdias])\n",
    "assert customers.shape[0]+azdias.shape[0]==joint_dataset.shape[0]\n",
    "\n",
    "joint_dataset.head(5)"
   ]
  },
  {
   "cell_type": "markdown",
   "metadata": {},
   "source": [
    "# 03. Features\n",
    "\n",
    "## 03.01. Standardizing features\n",
    "\n",
    "Upon inspecting metadata attributes in `DIAS Attributes - Values 2017.xlsx` I've found that there are a couple of features that need re-encoding:\n",
    "\n",
    "- `LP_FAMILIE_GROB` must be standardized. As initially there are multiple labels that refer to the same class!\n",
    "    - from documentation: \n",
    "     ```\n",
    "     1 -> single\n",
    "     2 - > couple\n",
    "     3,4,5 -> single parent\n",
    "     6,7,8 -> family\n",
    "     9,10,11 -> multiperson household\n",
    "     \n",
    "     ```\n",
    "     \n",
    "     \n",
    "I will replace all secondary values for a class with the first value of a class. Also, there seems to be a value `0` present, but for which we don't have any information, I'll replace `0` with NA"
   ]
  },
  {
   "cell_type": "code",
   "execution_count": 9,
   "metadata": {},
   "outputs": [
    {
     "name": "stdout",
     "output_type": "stream",
     "text": [
      "Before standarization we have classes: [0. 1. 2. 3. 4. 5.]\n",
      "After standarization we have classes: [1. 2. 3.]\n"
     ]
    }
   ],
   "source": [
    "\n",
    "print(\"Before standarization we have classes: {}\".format(np.unique(joint_dataset['LP_FAMILIE_GROB'].dropna())))\n",
    "\n",
    "\n",
    "joint_dataset['LP_FAMILIE_GROB'].replace(4,3,inplace=True)\n",
    "joint_dataset['LP_FAMILIE_GROB'].replace(5,3,inplace=True)\n",
    "\n",
    "joint_dataset['LP_FAMILIE_GROB'].replace(7,6,inplace=True)\n",
    "joint_dataset['LP_FAMILIE_GROB'].replace(8,6,inplace=True)\n",
    "\n",
    "joint_dataset['LP_FAMILIE_GROB'].replace(10,9,inplace=True)\n",
    "joint_dataset['LP_FAMILIE_GROB'].replace(11,9,inplace=True)\n",
    "\n",
    "joint_dataset['LP_FAMILIE_GROB'].replace(0,np.nan,inplace=True)\n",
    "\n",
    "\n",
    "print(\"After standarization we have classes: {}\".format(np.unique(joint_dataset['LP_FAMILIE_GROB'].dropna())))\n"
   ]
  },
  {
   "cell_type": "markdown",
   "metadata": {},
   "source": [
    "- `LP_STATUS_GROB` is a feature that encodes the same class with different labels. From the provided metadata in Exel file we know:\n",
    "   ```\n",
    "   1,2 - > low-income earners\n",
    "   3,4,5 -> average,erners\n",
    "   6,7 -> independants\n",
    "   8,9 -> houseowners\n",
    "   10 -> top earners\n",
    "   \n",
    "   ```\n",
    "   "
   ]
  },
  {
   "cell_type": "code",
   "execution_count": 10,
   "metadata": {},
   "outputs": [
    {
     "name": "stdout",
     "output_type": "stream",
     "text": [
      "Before standarization we have classes: [1. 2. 3. 4. 5.]\n",
      "After standarization we have classes: [1. 3.]\n"
     ]
    }
   ],
   "source": [
    "print(\"Before standarization we have classes: {}\".format(np.unique(joint_dataset['LP_STATUS_GROB'].dropna())))\n",
    "\n",
    "joint_dataset['LP_STATUS_GROB'].replace(2,1,inplace=True)\n",
    "\n",
    "joint_dataset['LP_STATUS_GROB'].replace(4,3,inplace=True)\n",
    "joint_dataset['LP_STATUS_GROB'].replace(5,3,inplace=True)\n",
    "\n",
    "joint_dataset['LP_STATUS_GROB'].replace(7,6,inplace=True)\n",
    "\n",
    "joint_dataset['LP_STATUS_GROB'].replace(9,8,inplace=True)\n",
    "\n",
    "print(\"After standarization we have classes: {}\".format(np.unique(joint_dataset['LP_STATUS_GROB'].dropna())))\n"
   ]
  },
  {
   "cell_type": "markdown",
   "metadata": {},
   "source": [
    "- `PRAEGENDE_JUGENDJAHRE` could be simplified, thus I create a new feature: `PRAEGENDE_JUGENDJAHRE_SIM` to collapse a couple of classes together based on metadata:\n",
    "\n",
    "\n",
    "initial classes:\n",
    "```\n",
    "1\t40ies - war years (Mainstream, O+W)\n",
    "2\t40ies - reconstruction years (Avantgarde, O+W)\n",
    "3\t50ies - economic miracle (Mainstream, O+W)\n",
    "4\t50ies - milk bar / Individualisation (Avantgarde, O+W)\n",
    "5\t60ies - economic miracle (Mainstream, O+W)\n",
    "6\t60ies - generation 68 / student protestors (Avantgarde, W)\n",
    "7\t60ies - opponents to the building of the Wall (Avantgarde, O)\n",
    "8\t70ies - family orientation (Mainstream, O+W)\n",
    "9\t70ies - peace movement (Avantgarde, O+W)\n",
    "10\t80ies - Generation Golf (Mainstream, W)\n",
    "11\t80ies - ecological awareness (Avantgarde, W)\n",
    "12\t80ies - FDJ / communist party youth organisation (Mainstream, O)\n",
    "13\t80ies - Swords into ploughshares (Avantgarde, O)\n",
    "14\t90ies - digital media kids (Mainstream, O+W)\n",
    "15\t90ies - ecological awareness (Avantgarde, O+W)\n",
    "```\n",
    "simplified classes:\n",
    "\n",
    "```\n",
    "    1,2 -> 40ies\n",
    "    3,4 -> 50ies\n",
    "    5,6,7 -> 60ies\n",
    "    8,9 -> 70ies\n",
    "    10,11,12,13 -: 80ies\n",
    "    14,15 -> 90ies\n",
    "\n",
    "```\n"
   ]
  },
  {
   "cell_type": "code",
   "execution_count": null,
   "metadata": {},
   "outputs": [],
   "source": []
  },
  {
   "cell_type": "code",
   "execution_count": 11,
   "metadata": {},
   "outputs": [
    {
     "name": "stdout",
     "output_type": "stream",
     "text": [
      "Before standarization we have classes: [ 1.  2.  3.  4.  5.  6.  7.  8.  9. 10. 11. 12. 13. 14. 15.]\n",
      "After standarization we have classes: [ 1.  3.  5.  8. 10. 14.]\n"
     ]
    }
   ],
   "source": [
    "joint_dataset['PRAEGENDE_JUGENDJAHRE_SIM']= joint_dataset['PRAEGENDE_JUGENDJAHRE']\n",
    "\n",
    "print(\"Before standarization we have classes: {}\".format(np.unique(joint_dataset['PRAEGENDE_JUGENDJAHRE'].dropna())))\n",
    "\n",
    "joint_dataset['PRAEGENDE_JUGENDJAHRE_SIM'].replace(2,1,inplace=True)\n",
    "\n",
    "joint_dataset['PRAEGENDE_JUGENDJAHRE_SIM'].replace(4,3,inplace=True)\n",
    "\n",
    "joint_dataset['PRAEGENDE_JUGENDJAHRE_SIM'].replace([6,7],5,inplace=True)\n",
    " \n",
    "joint_dataset['PRAEGENDE_JUGENDJAHRE_SIM'].replace(9,8,inplace=True)\n",
    "\n",
    "\n",
    "joint_dataset['PRAEGENDE_JUGENDJAHRE_SIM'].replace([11,12,13],10,inplace=True)\n",
    " \n",
    "\n",
    "joint_dataset['PRAEGENDE_JUGENDJAHRE_SIM'].replace(15,14,inplace=True)\n",
    "\n",
    "print(\"After standarization we have classes: {}\".format(np.unique(joint_dataset['PRAEGENDE_JUGENDJAHRE_SIM'].dropna())))\n"
   ]
  },
  {
   "cell_type": "markdown",
   "metadata": {},
   "source": [
    "- `CAMEO_DEUINTL_2015` can be also generalized/simplified: to `CAMEO_DEUINTL_2015_SIM`\n",
    "\n",
    "original annotations\n",
    "```\n",
    "11\tWealthy Households-Pre-Family Couples & Singles\n",
    "12\tWealthy Households-Young Couples With Children\n",
    "13\tWealthy Households-Families With School Age Children\n",
    "14\tWealthy Households-Older Families &  Mature Couples\n",
    "15\tWealthy Households-Elders In Retirement\n",
    "21\tProsperous Households-Pre-Family Couples & Singles\n",
    "22\tProsperous Households-Young Couples With Children\n",
    "23\tProsperous Households-Families With School Age Children\n",
    "24\tProsperous Households-Older Families & Mature Couples\n",
    "25\tProsperous Households-Elders In Retirement\n",
    "31\tComfortable Households-Pre-Family Couples & Singles\n",
    "32\tComfortable Households-Young Couples With Children\n",
    "33\tComfortable Households-Families With School Age Children\n",
    "34\tComfortable Households-Older Families & Mature Couples\n",
    "35\tComfortable Households-Elders In Retirement\n",
    "41\tLess Affluent Households-Pre-Family Couples & Singles\n",
    "42\tLess Affluent Households-Young Couples With Children\n",
    "43\tLess Affluent Households-Families With School Age Children\n",
    "44\tLess Affluent Households-Older Families & Mature Couples\n",
    "45\tLess Affluent Households-Elders In Retirement\n",
    "51\tPoorer Households-Pre-Family Couples & Singles\n",
    "52\tPoorer Households-Young Couples With Children\n",
    "53\tPoorer Households-Families With School Age Children\n",
    "54\tPoorer Households-Older Families & Mature Couples\n",
    "55\tPoorer Households-Elders In Retirement\n",
    "\n",
    "```\n",
    "\n",
    "simplified:\n",
    "\n",
    "```\n",
    "11,12,13,14,15 -> wealthy\n",
    "\n",
    "21,22,23,24,25 -> prosperous\n",
    "\n",
    "31,32,33,34,35 -> comfortable\n",
    "\n",
    "41,42,43,44,45 -> less affluent\n",
    "\n",
    "51,52,53,54,55 -> poorer\n",
    "\n",
    "```\n",
    "\n",
    "also, the `XX` is replaced as unknown:"
   ]
  },
  {
   "cell_type": "code",
   "execution_count": 12,
   "metadata": {},
   "outputs": [
    {
     "name": "stdout",
     "output_type": "stream",
     "text": [
      "Before standarization we have classes: ['12' '13' '14' '15' '22' '23' '24' '25' '31' '32' '33' '34' '35' '41'\n",
      " '43' '44' '45' '51' '52' '54' '55' 'XX']\n",
      "After standarization we have classes: ['12' '13' '14' '15' '22' '23' '24' '25' '31' '32' '33' '34' '35' '41'\n",
      " '43' '44' '45' '51' '52' '54' '55']\n"
     ]
    }
   ],
   "source": [
    "joint_dataset['CAMEO_DEUINTL_2015_SIM'] = joint_dataset['CAMEO_DEUINTL_2015']\n",
    "\n",
    " \n",
    "print(\"Before standarization we have classes: {}\".format(np.unique(joint_dataset['CAMEO_DEUINTL_2015_SIM'].dropna())))\n",
    "\n",
    "joint_dataset['CAMEO_DEUINTL_2015_SIM'].replace([12,13,14,15],11,inplace=True)\n",
    " \n",
    "joint_dataset['CAMEO_DEUINTL_2015_SIM'].replace([22,223,24,25],21,inplace=True)\n",
    " \n",
    "joint_dataset['CAMEO_DEUINTL_2015_SIM'].replace([32,33,34,35],31,inplace=True)\n",
    "\n",
    "joint_dataset['CAMEO_DEUINTL_2015_SIM'].replace([42,43,44,45],41,inplace=True)\n",
    "\n",
    "joint_dataset['CAMEO_DEUINTL_2015_SIM'].replace([52,53,54,55],51,inplace=True)\n",
    "    \n",
    "joint_dataset['CAMEO_DEUINTL_2015_SIM'].replace('XX',np.nan,inplace=True)    \n",
    "    \n",
    "print(\"After standarization we have classes: {}\".format(np.unique(joint_dataset['CAMEO_DEUINTL_2015_SIM'].dropna())))\n"
   ]
  },
  {
   "cell_type": "markdown",
   "metadata": {},
   "source": [
    "- encode (check types)\n",
    "- impute\n",
    "- correlate\n",
    "- save independent?"
   ]
  },
  {
   "cell_type": "markdown",
   "metadata": {},
   "source": [
    "## 03.02 Impute features"
   ]
  },
  {
   "cell_type": "code",
   "execution_count": 13,
   "metadata": {},
   "outputs": [
    {
     "ename": "ImportError",
     "evalue": "cannot import name 'IterativeImputer'",
     "output_type": "error",
     "traceback": [
      "\u001b[0;31m---------------------------------------------------------------------------\u001b[0m",
      "\u001b[0;31mImportError\u001b[0m                               Traceback (most recent call last)",
      "\u001b[0;32m<ipython-input-13-1e6251cb7183>\u001b[0m in \u001b[0;36m<module>\u001b[0;34m\u001b[0m\n\u001b[0;32m----> 1\u001b[0;31m \u001b[0;32mfrom\u001b[0m \u001b[0msklearn\u001b[0m\u001b[0;34m.\u001b[0m\u001b[0mimpute\u001b[0m \u001b[0;32mimport\u001b[0m \u001b[0mIterativeImputer\u001b[0m\u001b[0;34m\u001b[0m\u001b[0;34m\u001b[0m\u001b[0m\n\u001b[0m",
      "\u001b[0;31mImportError\u001b[0m: cannot import name 'IterativeImputer'"
     ]
    }
   ],
   "source": [
    "from sklearn.impute import IterativeImputer"
   ]
  },
  {
   "cell_type": "markdown",
   "metadata": {},
   "source": [
    "## 03.02. Encode Features\n",
    "\n",
    "joint dataset comprises of three types of features: \n",
    "\n",
    "1. numerical - will be left unchanged\n",
    "2. ordinal - will be encoded with label encoder\n",
    "3. categorical -> will be encoded with label encoder\n",
    "\n",
    "\n",
    "I will encode ordinal and categorical features as standardized integers. As seen above some classes comprise of high-value numbers."
   ]
  },
  {
   "cell_type": "code",
   "execution_count": null,
   "metadata": {},
   "outputs": [],
   "source": [
    "# Assert that the feature types in AZDIAS and Customers are the same for ALL\n",
    "common_features = pd.merge(customers_feature_types,azdias_feature_types,on='Attribute.1')\n",
    "assert common_features[common_features['Type_x']!=common_features[\"Type_y\"]].shape[0]==0\n"
   ]
  },
  {
   "cell_type": "code",
   "execution_count": null,
   "metadata": {},
   "outputs": [],
   "source": [
    "str_features = list(common_features[common_features['Type_x']!='numerical']['Attribute.1'])"
   ]
  },
  {
   "cell_type": "code",
   "execution_count": null,
   "metadata": {},
   "outputs": [],
   "source": [
    "OE = OrdinalEncoder()"
   ]
  },
  {
   "cell_type": "code",
   "execution_count": null,
   "metadata": {},
   "outputs": [],
   "source": [
    "joint_dataset[str_features]  = OE.fit_transform( joint_dataset[str_features]  )"
   ]
  },
  {
   "cell_type": "code",
   "execution_count": null,
   "metadata": {},
   "outputs": [],
   "source": []
  }
 ],
 "metadata": {
  "kernelspec": {
   "display_name": "conda_amazonei_mxnet_p36",
   "language": "python",
   "name": "conda_amazonei_mxnet_p36"
  },
  "language_info": {
   "codemirror_mode": {
    "name": "ipython",
    "version": 3
   },
   "file_extension": ".py",
   "mimetype": "text/x-python",
   "name": "python",
   "nbconvert_exporter": "python",
   "pygments_lexer": "ipython3",
   "version": "3.6.10"
  }
 },
 "nbformat": 4,
 "nbformat_minor": 4
}
