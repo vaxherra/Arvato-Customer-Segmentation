{
 "cells": [
  {
   "cell_type": "markdown",
   "metadata": {},
   "source": [
    "# Exploratory Data Analysis **(EDA)** & Pre-processing steps\n",
    "\n",
    "## `AZIDAS` dataset:  Demographics data for the general population of Germany; 891 211 persons (rows) x 366 features (columns).\n",
    "\n",
    "This notebook performs Exploratory Data Analysis and pre-processing (data standarization and cleaning) of the `AZIDAS` dataset containing demographics for the general population of Germany."
   ]
  },
  {
   "cell_type": "markdown",
   "metadata": {},
   "source": [
    "# 00. Packages"
   ]
  },
  {
   "cell_type": "code",
   "execution_count": 1,
   "metadata": {},
   "outputs": [],
   "source": [
    "import numpy as np\n",
    "import pandas as pd\n",
    "import matplotlib.pyplot as plt\n",
    "import seaborn as sns\n",
    "try:\n",
    "    from tqdm import tqdm\n",
    "except:\n",
    "    !pip install tqdm\n",
    "    from tqdm import tqdm    \n",
    "%matplotlib inline\n",
    "\n",
    "\n",
    "### my utils\n",
    "\n",
    "from eda_utils import *"
   ]
  },
  {
   "cell_type": "markdown",
   "metadata": {},
   "source": [
    "---"
   ]
  },
  {
   "cell_type": "markdown",
   "metadata": {},
   "source": [
    "# 01. Import dataset\n",
    "We know that the separator is a semicolon (;), and the first row contains the column names. Also, one of the columns 'LNR' is really the `ID` number, and should not be considered a standard \"feature\". "
   ]
  },
  {
   "cell_type": "code",
   "execution_count": 2,
   "metadata": {
    "scrolled": true
   },
   "outputs": [
    {
     "name": "stdout",
     "output_type": "stream",
     "text": [
      "LNR;AGER_TYP;AKT_DAT_KL;ALTER_HH;ALTER_KIND1;ALTER_KIND2;ALTER_KIND3;ALTER_KIND4;ALTERSKATEGORIE_FEIN;ANZ_HAUSHALTE_AKTIV;ANZ_HH_TITEL;ANZ_KINDER;ANZ_PERSONEN;ANZ_STATISTISCHE_HAUSHALTE;ANZ_TITEL;ARBEIT;BALLRAUM;CAMEO_DEU_2015;CAMEO_DEUG_2015;CAMEO_INTL_2015;CJT_GESAMTTYP;CJT_KATALOGNUTZER;CJT_TYP_1;CJT_TYP_2;CJT_TYP_3;CJT_TYP_4;CJT_TYP_5;CJT_TYP_6;D19_BANKEN_ANZ_12;D19_BANKEN_ANZ_24;D19_BANKEN_DATUM;D19_BANKEN_DIREKT;D19_BANKEN_GROSS;D19_BANKEN_LOKAL;D19_BANKEN_OFFLINE_DATUM;D19_BANKEN_ONLINE_DATUM;D19_BANKEN_ONLINE_QUOTE_12;D19_BANKEN_REST;D19_BEKLEIDUNG_GEH;D19_BEKLEIDUNG_REST;D19_BILDUNG;D19_BIO_OEKO;D19_BUCH_CD;D19_DIGIT_SERV;D19_DROGERIEARTIKEL;D19_ENERGIE;D19_FREIZEIT;D19_GARTEN;D19_GESAMT_ANZ_12;D19_GESAMT_ANZ_24;D19_GESAMT_DATUM;D19_GESAMT_OFFLINE_DATUM;D19_GESAMT_ONLINE_DATUM;D19_GESAMT_ONLINE_QUOTE_12;D19_HANDWERK;D19_HAUS_DEKO;D19_KINDERARTIKEL;D19_KONSUMTYP;D19_KONSUMTYP_MAX;D19_KOSMETIK;D19_LEBENSMITTEL;D19_LETZTER_KAUF_BRANCHE;D19_LOTTO;D19_NAHRUNGSERGAENZUNG;D19_RATGEBER;D19_REISEN;D19_SAMMELARTIKEL;D19_SCHUHE;D19_SONSTIGE;D19_SOZIALES;D19_TECHNIK;D19_TELKO_ANZ_12;D19_TELKO_ANZ_24;D19_TELKO_DATUM;D19_TELKO_MOBILE;D19_TELKO_OFFLINE_DATUM;D19_TELKO_ONLINE_DATUM;D19_TELKO_ONLINE_QUOTE_12;D19_TELKO_REST;D19_TIERARTIKEL;D19_VERSAND_ANZ_12;D19_VERSAND_ANZ_24;D19_VERSAND_DATUM;D19_VERSAND_OFFLINE_DATUM;D19_VERSAND_ONLINE_DATUM;D19_VERSAND_ONLINE_QUOTE_12;D19_VERSAND_REST;D19_VERSI_ANZ_12;D19_VERSI_ANZ_24;D19_VERSI_DATUM;D19_VERSI_OFFLINE_DATUM;D19_VERSI_ONLINE_DATUM;D19_VERSI_ONLINE_QUOTE_12;D19_VERSICHERUNGEN;D19_VOLLSORTIMENT;D19_WEIN_FEINKOST;DSL_FLAG;EINGEFUEGT_AM;EINGEZOGENAM_HH_JAHR;EWDICHTE;EXTSEL992;FINANZ_ANLEGER;FINANZ_HAUSBAUER;FINANZ_MINIMALIST;FINANZ_SPARER;FINANZ_UNAUFFAELLIGER;FINANZ_VORSORGER;FINANZTYP;FIRMENDICHTE;GEBAEUDETYP;GEBAEUDETYP_RASTER;GEBURTSJAHR;GEMEINDETYP;GFK_URLAUBERTYP;GREEN_AVANTGARDE;HEALTH_TYP;HH_DELTA_FLAG;HH_EINKOMMEN_SCORE;INNENSTADT;KBA05_ALTER1;KBA05_ALTER2;KBA05_ALTER3;KBA05_ALTER4;KBA05_ANHANG;KBA05_ANTG1;KBA05_ANTG2;KBA05_ANTG3;KBA05_ANTG4;KBA05_AUTOQUOT;KBA05_BAUMAX;KBA05_CCM1;KBA05_CCM2;KBA05_CCM3;KBA05_CCM4;KBA05_DIESEL;KBA05_FRAU;KBA05_GBZ;KBA05_HERST1;KBA05_HERST2;KBA05_HERST3;KBA05_HERST4;KBA05_HERST5;KBA05_HERSTTEMP;KBA05_KRSAQUOT;KBA05_KRSHERST1;KBA05_KRSHERST2;KBA05_KRSHERST3;KBA05_KRSKLEIN;KBA05_KRSOBER;KBA05_KRSVAN;KBA05_KRSZUL;KBA05_KW1;KBA05_KW2;KBA05_KW3;KBA05_MAXAH;KBA05_MAXBJ;KBA05_MAXHERST;KBA05_MAXSEG;KBA05_MAXVORB;KBA05_MOD1;KBA05_MOD2;KBA05_MOD3;KBA05_MOD4;KBA05_MOD8;KBA05_MODTEMP;KBA05_MOTOR;KBA05_MOTRAD;KBA05_SEG1;KBA05_SEG10;KBA05_SEG2;KBA05_SEG3;KBA05_SEG4;KBA05_SEG5;KBA05_SEG6;KBA05_SEG7;KBA05_SEG8;KBA05_SEG9;KBA05_VORB0;KBA05_VORB1;KBA05_VORB2;KBA05_ZUL1;KBA05_ZUL2;KBA05_ZUL3;KBA05_ZUL4;KBA13_ALTERHALTER_30;KBA13_ALTERHALTER_45;KBA13_ALTERHALTER_60;KBA13_ALTERHALTER_61;KBA13_ANTG1;KBA13_ANTG2;KBA13_ANTG3;KBA13_ANTG4;KBA13_ANZAHL_PKW;KBA13_AUDI;KBA13_AUTOQUOTE;KBA13_BAUMAX;KBA13_BJ_1999;KBA13_BJ_2000;KBA13_BJ_2004;KBA13_BJ_2006;KBA13_BJ_2008;KBA13_BJ_2009;KBA13_BMW;KBA13_CCM_0_1400;KBA13_CCM_1000;KBA13_CCM_1200;KBA13_CCM_1400;KBA13_CCM_1401_2500;KBA13_CCM_1500;KBA13_CCM_1600;KBA13_CCM_1800;KBA13_CCM_2000;KBA13_CCM_2500;KBA13_CCM_2501;KBA13_CCM_3000;KBA13_CCM_3001;KBA13_FAB_ASIEN;KBA13_FAB_SONSTIGE;KBA13_FIAT;KBA13_FORD;KBA13_GBZ;KBA13_HALTER_20;KBA13_HALTER_25;KBA13_HALTER_30;KBA13_HALTER_35;KBA13_HALTER_40;KBA13_HALTER_45;KBA13_HALTER_50;KBA13_HALTER_55;KBA13_HALTER_60;KBA13_HALTER_65;KBA13_HALTER_66;KBA13_HERST_ASIEN;KBA13_HERST_AUDI_VW;KBA13_HERST_BMW_BENZ;KBA13_HERST_EUROPA;KBA13_HERST_FORD_OPEL;KBA13_HERST_SONST;KBA13_HHZ;KBA13_KMH_0_140;KBA13_KMH_110;KBA13_KMH_140;KBA13_KMH_140_210;KBA13_KMH_180;KBA13_KMH_210;KBA13_KMH_211;KBA13_KMH_250;KBA13_KMH_251;KBA13_KRSAQUOT;KBA13_KRSHERST_AUDI_VW;KBA13_KRSHERST_BMW_BENZ;KBA13_KRSHERST_FORD_OPEL;KBA13_KRSSEG_KLEIN;KBA13_KRSSEG_OBER;KBA13_KRSSEG_VAN;KBA13_KRSZUL_NEU;KBA13_KW_0_60;KBA13_KW_110;KBA13_KW_120;KBA13_KW_121;KBA13_KW_30;KBA13_KW_40;KBA13_KW_50;KBA13_KW_60;KBA13_KW_61_120;KBA13_KW_70;KBA13_KW_80;KBA13_KW_90;KBA13_MAZDA;KBA13_MERCEDES;KBA13_MOTOR;KBA13_NISSAN;KBA13_OPEL;KBA13_PEUGEOT;KBA13_RENAULT;KBA13_SEG_GELAENDEWAGEN;KBA13_SEG_GROSSRAUMVANS;KBA13_SEG_KLEINST;KBA13_SEG_KLEINWAGEN;KBA13_SEG_KOMPAKTKLASSE;KBA13_SEG_MINIVANS;KBA13_SEG_MINIWAGEN;KBA13_SEG_MITTELKLASSE;KBA13_SEG_OBEREMITTELKLASSE;KBA13_SEG_OBERKLASSE;KBA13_SEG_SONSTIGE;KBA13_SEG_SPORTWAGEN;KBA13_SEG_UTILITIES;KBA13_SEG_VAN;KBA13_SEG_WOHNMOBILE;KBA13_SITZE_4;KBA13_SITZE_5;KBA13_SITZE_6;KBA13_TOYOTA;KBA13_VORB_0;KBA13_VORB_1;KBA13_VORB_1_2;KBA13_VORB_2;KBA13_VORB_3;KBA13_VW;KK_KUNDENTYP;KKK;KOMBIALTER;KONSUMNAEHE;KONSUMZELLE;LP_FAMILIE_FEIN;LP_FAMILIE_GROB;LP_LEBENSPHASE_FEIN;LP_LEBENSPHASE_GROB;LP_STATUS_FEIN;LP_STATUS_GROB;MIN_GEBAEUDEJAHR;MOBI_RASTER;MOBI_REGIO;NATIONALITAET_KZ;ONLINE_AFFINITAET;ORTSGR_KLS9;OST_WEST_KZ;PLZ8_ANTG1;PLZ8_ANTG2;PLZ8_ANTG3;PLZ8_ANTG4;PLZ8_BAUMAX;PLZ8_GBZ;PLZ8_HHZ;PRAEGENDE_JUGENDJAHRE;REGIOTYP;RELAT_AB;RETOURTYP_BK_S;RT_KEIN_ANREIZ;RT_SCHNAEPPCHEN;RT_UEBERGROESSE;SEMIO_DOM;SEMIO_ERL;SEMIO_FAM;SEMIO_KAEM;SEMIO_KRIT;SEMIO_KULT;SEMIO_LUST;SEMIO_MAT;SEMIO_PFLICHT;SEMIO_RAT;SEMIO_REL;SEMIO_SOZ;SEMIO_TRADV;SEMIO_VERT;SHOPPER_TYP;SOHO_KZ;STRUKTURTYP;TITEL_KZ;UMFELD_ALT;UMFELD_JUNG;UNGLEICHENN_FLAG;VERDICHTUNGSRAUM;VERS_TYP;VHA;VHN;VK_DHT4A;VK_DISTANZ;VK_ZG11;W_KEIT_KIND_HH;WOHNDAUER_2008;WOHNLAGE;ZABEOTYP;ANREDE_KZ;ALTERSKATEGORIE_GROB\n",
      "910215;-1;;;;;;;;;;;;;;;;;;;2;5;1;1;5;5;5;5;0;0;10;0;0;0;10;10;;0;0;0;0;0;0;0;0;0;0;0;0;0;10;10;10;;0;0;0;;9;0;0;\"NA\";;0;0;0;0;0;0;;0;0;0;10;0;10;10;;0;0;0;0;10;10;10;;0;0;0;10;10;10;;0;0;0;;;;;;5;3;3;4;5;3;4;;;;0;;10;0;-1;;2;;;;;;;;;;;;;;;;;;;;;;;;;;;;;;;;;;;;;;;;;;;;;;;;;;;;;;;;;;;;;;;;;;;;;;;;;;;;;;;;;;;;;;;;;;;;;;;;;;;;;;;;;;;;;;;;;;;;;;;;;;;;;;;;;;;;;;;;;;;;;;;;;;;;;;;;;;;;;;;;;;;;;;;;;;;;;;;;;;;;;;;;;9;;;2;2;15;4;1;1;;;;0;1;;;;;;;;;;0;;;5;1;4;1;6;3;6;6;7;3;5;5;5;4;7;2;3;1;-1;;;;;;;;-1;;;;;;;;;3;1;2\n"
     ]
    }
   ],
   "source": [
    "#plot raw header to inspect dataset\n",
    "!head -n 2 ../arvato_data/Udacity_AZDIAS_052018.csv"
   ]
  },
  {
   "cell_type": "markdown",
   "metadata": {},
   "source": [
    "I have a machine with 32GB of `RAM`, so the dataset can be loaded and pre-processed in memory. Hence `low_memory = False`, allows for faster loads and better column type inference."
   ]
  },
  {
   "cell_type": "code",
   "execution_count": 3,
   "metadata": {},
   "outputs": [
    {
     "name": "stdout",
     "output_type": "stream",
     "text": [
      "CPU times: user 49.7 s, sys: 4.74 s, total: 54.4 s\n",
      "Wall time: 54.4 s\n"
     ]
    },
    {
     "data": {
      "text/html": [
       "<div>\n",
       "<style scoped>\n",
       "    .dataframe tbody tr th:only-of-type {\n",
       "        vertical-align: middle;\n",
       "    }\n",
       "\n",
       "    .dataframe tbody tr th {\n",
       "        vertical-align: top;\n",
       "    }\n",
       "\n",
       "    .dataframe thead th {\n",
       "        text-align: right;\n",
       "    }\n",
       "</style>\n",
       "<table border=\"1\" class=\"dataframe\">\n",
       "  <thead>\n",
       "    <tr style=\"text-align: right;\">\n",
       "      <th></th>\n",
       "      <th>AGER_TYP</th>\n",
       "      <th>AKT_DAT_KL</th>\n",
       "      <th>ALTER_HH</th>\n",
       "      <th>ALTER_KIND1</th>\n",
       "      <th>ALTER_KIND2</th>\n",
       "      <th>ALTER_KIND3</th>\n",
       "      <th>ALTER_KIND4</th>\n",
       "      <th>ALTERSKATEGORIE_FEIN</th>\n",
       "      <th>ANZ_HAUSHALTE_AKTIV</th>\n",
       "      <th>ANZ_HH_TITEL</th>\n",
       "      <th>...</th>\n",
       "      <th>VHN</th>\n",
       "      <th>VK_DHT4A</th>\n",
       "      <th>VK_DISTANZ</th>\n",
       "      <th>VK_ZG11</th>\n",
       "      <th>W_KEIT_KIND_HH</th>\n",
       "      <th>WOHNDAUER_2008</th>\n",
       "      <th>WOHNLAGE</th>\n",
       "      <th>ZABEOTYP</th>\n",
       "      <th>ANREDE_KZ</th>\n",
       "      <th>ALTERSKATEGORIE_GROB</th>\n",
       "    </tr>\n",
       "    <tr>\n",
       "      <th>LNR</th>\n",
       "      <th></th>\n",
       "      <th></th>\n",
       "      <th></th>\n",
       "      <th></th>\n",
       "      <th></th>\n",
       "      <th></th>\n",
       "      <th></th>\n",
       "      <th></th>\n",
       "      <th></th>\n",
       "      <th></th>\n",
       "      <th></th>\n",
       "      <th></th>\n",
       "      <th></th>\n",
       "      <th></th>\n",
       "      <th></th>\n",
       "      <th></th>\n",
       "      <th></th>\n",
       "      <th></th>\n",
       "      <th></th>\n",
       "      <th></th>\n",
       "      <th></th>\n",
       "    </tr>\n",
       "  </thead>\n",
       "  <tbody>\n",
       "    <tr>\n",
       "      <th>910215</th>\n",
       "      <td>-1</td>\n",
       "      <td>NaN</td>\n",
       "      <td>NaN</td>\n",
       "      <td>NaN</td>\n",
       "      <td>NaN</td>\n",
       "      <td>NaN</td>\n",
       "      <td>NaN</td>\n",
       "      <td>NaN</td>\n",
       "      <td>NaN</td>\n",
       "      <td>NaN</td>\n",
       "      <td>...</td>\n",
       "      <td>NaN</td>\n",
       "      <td>NaN</td>\n",
       "      <td>NaN</td>\n",
       "      <td>NaN</td>\n",
       "      <td>NaN</td>\n",
       "      <td>NaN</td>\n",
       "      <td>NaN</td>\n",
       "      <td>3</td>\n",
       "      <td>1</td>\n",
       "      <td>2</td>\n",
       "    </tr>\n",
       "    <tr>\n",
       "      <th>910220</th>\n",
       "      <td>-1</td>\n",
       "      <td>9.0</td>\n",
       "      <td>0.0</td>\n",
       "      <td>NaN</td>\n",
       "      <td>NaN</td>\n",
       "      <td>NaN</td>\n",
       "      <td>NaN</td>\n",
       "      <td>21.0</td>\n",
       "      <td>11.0</td>\n",
       "      <td>0.0</td>\n",
       "      <td>...</td>\n",
       "      <td>4.0</td>\n",
       "      <td>8.0</td>\n",
       "      <td>11.0</td>\n",
       "      <td>10.0</td>\n",
       "      <td>3.0</td>\n",
       "      <td>9.0</td>\n",
       "      <td>4.0</td>\n",
       "      <td>5</td>\n",
       "      <td>2</td>\n",
       "      <td>1</td>\n",
       "    </tr>\n",
       "    <tr>\n",
       "      <th>910225</th>\n",
       "      <td>-1</td>\n",
       "      <td>9.0</td>\n",
       "      <td>17.0</td>\n",
       "      <td>NaN</td>\n",
       "      <td>NaN</td>\n",
       "      <td>NaN</td>\n",
       "      <td>NaN</td>\n",
       "      <td>17.0</td>\n",
       "      <td>10.0</td>\n",
       "      <td>0.0</td>\n",
       "      <td>...</td>\n",
       "      <td>2.0</td>\n",
       "      <td>9.0</td>\n",
       "      <td>9.0</td>\n",
       "      <td>6.0</td>\n",
       "      <td>3.0</td>\n",
       "      <td>9.0</td>\n",
       "      <td>2.0</td>\n",
       "      <td>5</td>\n",
       "      <td>2</td>\n",
       "      <td>3</td>\n",
       "    </tr>\n",
       "    <tr>\n",
       "      <th>910226</th>\n",
       "      <td>2</td>\n",
       "      <td>1.0</td>\n",
       "      <td>13.0</td>\n",
       "      <td>NaN</td>\n",
       "      <td>NaN</td>\n",
       "      <td>NaN</td>\n",
       "      <td>NaN</td>\n",
       "      <td>13.0</td>\n",
       "      <td>1.0</td>\n",
       "      <td>0.0</td>\n",
       "      <td>...</td>\n",
       "      <td>0.0</td>\n",
       "      <td>7.0</td>\n",
       "      <td>10.0</td>\n",
       "      <td>11.0</td>\n",
       "      <td>NaN</td>\n",
       "      <td>9.0</td>\n",
       "      <td>7.0</td>\n",
       "      <td>3</td>\n",
       "      <td>2</td>\n",
       "      <td>4</td>\n",
       "    </tr>\n",
       "    <tr>\n",
       "      <th>910241</th>\n",
       "      <td>-1</td>\n",
       "      <td>1.0</td>\n",
       "      <td>20.0</td>\n",
       "      <td>NaN</td>\n",
       "      <td>NaN</td>\n",
       "      <td>NaN</td>\n",
       "      <td>NaN</td>\n",
       "      <td>14.0</td>\n",
       "      <td>3.0</td>\n",
       "      <td>0.0</td>\n",
       "      <td>...</td>\n",
       "      <td>2.0</td>\n",
       "      <td>3.0</td>\n",
       "      <td>5.0</td>\n",
       "      <td>4.0</td>\n",
       "      <td>2.0</td>\n",
       "      <td>9.0</td>\n",
       "      <td>3.0</td>\n",
       "      <td>4</td>\n",
       "      <td>1</td>\n",
       "      <td>3</td>\n",
       "    </tr>\n",
       "    <tr>\n",
       "      <th>...</th>\n",
       "      <td>...</td>\n",
       "      <td>...</td>\n",
       "      <td>...</td>\n",
       "      <td>...</td>\n",
       "      <td>...</td>\n",
       "      <td>...</td>\n",
       "      <td>...</td>\n",
       "      <td>...</td>\n",
       "      <td>...</td>\n",
       "      <td>...</td>\n",
       "      <td>...</td>\n",
       "      <td>...</td>\n",
       "      <td>...</td>\n",
       "      <td>...</td>\n",
       "      <td>...</td>\n",
       "      <td>...</td>\n",
       "      <td>...</td>\n",
       "      <td>...</td>\n",
       "      <td>...</td>\n",
       "      <td>...</td>\n",
       "      <td>...</td>\n",
       "    </tr>\n",
       "    <tr>\n",
       "      <th>825761</th>\n",
       "      <td>-1</td>\n",
       "      <td>5.0</td>\n",
       "      <td>17.0</td>\n",
       "      <td>NaN</td>\n",
       "      <td>NaN</td>\n",
       "      <td>NaN</td>\n",
       "      <td>NaN</td>\n",
       "      <td>17.0</td>\n",
       "      <td>15.0</td>\n",
       "      <td>0.0</td>\n",
       "      <td>...</td>\n",
       "      <td>2.0</td>\n",
       "      <td>4.0</td>\n",
       "      <td>7.0</td>\n",
       "      <td>8.0</td>\n",
       "      <td>3.0</td>\n",
       "      <td>4.0</td>\n",
       "      <td>3.0</td>\n",
       "      <td>4</td>\n",
       "      <td>2</td>\n",
       "      <td>3</td>\n",
       "    </tr>\n",
       "    <tr>\n",
       "      <th>825771</th>\n",
       "      <td>-1</td>\n",
       "      <td>9.0</td>\n",
       "      <td>16.0</td>\n",
       "      <td>NaN</td>\n",
       "      <td>NaN</td>\n",
       "      <td>NaN</td>\n",
       "      <td>NaN</td>\n",
       "      <td>16.0</td>\n",
       "      <td>11.0</td>\n",
       "      <td>0.0</td>\n",
       "      <td>...</td>\n",
       "      <td>4.0</td>\n",
       "      <td>6.0</td>\n",
       "      <td>9.0</td>\n",
       "      <td>6.0</td>\n",
       "      <td>6.0</td>\n",
       "      <td>9.0</td>\n",
       "      <td>5.0</td>\n",
       "      <td>6</td>\n",
       "      <td>1</td>\n",
       "      <td>2</td>\n",
       "    </tr>\n",
       "    <tr>\n",
       "      <th>825772</th>\n",
       "      <td>-1</td>\n",
       "      <td>1.0</td>\n",
       "      <td>17.0</td>\n",
       "      <td>NaN</td>\n",
       "      <td>NaN</td>\n",
       "      <td>NaN</td>\n",
       "      <td>NaN</td>\n",
       "      <td>17.0</td>\n",
       "      <td>3.0</td>\n",
       "      <td>0.0</td>\n",
       "      <td>...</td>\n",
       "      <td>2.0</td>\n",
       "      <td>7.0</td>\n",
       "      <td>10.0</td>\n",
       "      <td>8.0</td>\n",
       "      <td>NaN</td>\n",
       "      <td>5.0</td>\n",
       "      <td>7.0</td>\n",
       "      <td>4</td>\n",
       "      <td>2</td>\n",
       "      <td>2</td>\n",
       "    </tr>\n",
       "    <tr>\n",
       "      <th>825776</th>\n",
       "      <td>-1</td>\n",
       "      <td>9.0</td>\n",
       "      <td>0.0</td>\n",
       "      <td>17.0</td>\n",
       "      <td>NaN</td>\n",
       "      <td>NaN</td>\n",
       "      <td>NaN</td>\n",
       "      <td>20.0</td>\n",
       "      <td>7.0</td>\n",
       "      <td>0.0</td>\n",
       "      <td>...</td>\n",
       "      <td>4.0</td>\n",
       "      <td>9.0</td>\n",
       "      <td>8.0</td>\n",
       "      <td>5.0</td>\n",
       "      <td>1.0</td>\n",
       "      <td>9.0</td>\n",
       "      <td>5.0</td>\n",
       "      <td>5</td>\n",
       "      <td>1</td>\n",
       "      <td>1</td>\n",
       "    </tr>\n",
       "    <tr>\n",
       "      <th>825787</th>\n",
       "      <td>-1</td>\n",
       "      <td>1.0</td>\n",
       "      <td>0.0</td>\n",
       "      <td>NaN</td>\n",
       "      <td>NaN</td>\n",
       "      <td>NaN</td>\n",
       "      <td>NaN</td>\n",
       "      <td>NaN</td>\n",
       "      <td>10.0</td>\n",
       "      <td>0.0</td>\n",
       "      <td>...</td>\n",
       "      <td>3.0</td>\n",
       "      <td>8.0</td>\n",
       "      <td>10.0</td>\n",
       "      <td>7.0</td>\n",
       "      <td>6.0</td>\n",
       "      <td>3.0</td>\n",
       "      <td>4.0</td>\n",
       "      <td>3</td>\n",
       "      <td>1</td>\n",
       "      <td>4</td>\n",
       "    </tr>\n",
       "  </tbody>\n",
       "</table>\n",
       "<p>891221 rows × 365 columns</p>\n",
       "</div>"
      ],
      "text/plain": [
       "        AGER_TYP  AKT_DAT_KL  ALTER_HH  ALTER_KIND1  ALTER_KIND2  ALTER_KIND3  \\\n",
       "LNR                                                                             \n",
       "910215        -1         NaN       NaN          NaN          NaN          NaN   \n",
       "910220        -1         9.0       0.0          NaN          NaN          NaN   \n",
       "910225        -1         9.0      17.0          NaN          NaN          NaN   \n",
       "910226         2         1.0      13.0          NaN          NaN          NaN   \n",
       "910241        -1         1.0      20.0          NaN          NaN          NaN   \n",
       "...          ...         ...       ...          ...          ...          ...   \n",
       "825761        -1         5.0      17.0          NaN          NaN          NaN   \n",
       "825771        -1         9.0      16.0          NaN          NaN          NaN   \n",
       "825772        -1         1.0      17.0          NaN          NaN          NaN   \n",
       "825776        -1         9.0       0.0         17.0          NaN          NaN   \n",
       "825787        -1         1.0       0.0          NaN          NaN          NaN   \n",
       "\n",
       "        ALTER_KIND4  ALTERSKATEGORIE_FEIN  ANZ_HAUSHALTE_AKTIV  ANZ_HH_TITEL  \\\n",
       "LNR                                                                            \n",
       "910215          NaN                   NaN                  NaN           NaN   \n",
       "910220          NaN                  21.0                 11.0           0.0   \n",
       "910225          NaN                  17.0                 10.0           0.0   \n",
       "910226          NaN                  13.0                  1.0           0.0   \n",
       "910241          NaN                  14.0                  3.0           0.0   \n",
       "...             ...                   ...                  ...           ...   \n",
       "825761          NaN                  17.0                 15.0           0.0   \n",
       "825771          NaN                  16.0                 11.0           0.0   \n",
       "825772          NaN                  17.0                  3.0           0.0   \n",
       "825776          NaN                  20.0                  7.0           0.0   \n",
       "825787          NaN                   NaN                 10.0           0.0   \n",
       "\n",
       "        ...  VHN  VK_DHT4A  VK_DISTANZ  VK_ZG11  W_KEIT_KIND_HH  \\\n",
       "LNR     ...                                                       \n",
       "910215  ...  NaN       NaN         NaN      NaN             NaN   \n",
       "910220  ...  4.0       8.0        11.0     10.0             3.0   \n",
       "910225  ...  2.0       9.0         9.0      6.0             3.0   \n",
       "910226  ...  0.0       7.0        10.0     11.0             NaN   \n",
       "910241  ...  2.0       3.0         5.0      4.0             2.0   \n",
       "...     ...  ...       ...         ...      ...             ...   \n",
       "825761  ...  2.0       4.0         7.0      8.0             3.0   \n",
       "825771  ...  4.0       6.0         9.0      6.0             6.0   \n",
       "825772  ...  2.0       7.0        10.0      8.0             NaN   \n",
       "825776  ...  4.0       9.0         8.0      5.0             1.0   \n",
       "825787  ...  3.0       8.0        10.0      7.0             6.0   \n",
       "\n",
       "        WOHNDAUER_2008 WOHNLAGE ZABEOTYP ANREDE_KZ  ALTERSKATEGORIE_GROB  \n",
       "LNR                                                                       \n",
       "910215             NaN      NaN        3         1                     2  \n",
       "910220             9.0      4.0        5         2                     1  \n",
       "910225             9.0      2.0        5         2                     3  \n",
       "910226             9.0      7.0        3         2                     4  \n",
       "910241             9.0      3.0        4         1                     3  \n",
       "...                ...      ...      ...       ...                   ...  \n",
       "825761             4.0      3.0        4         2                     3  \n",
       "825771             9.0      5.0        6         1                     2  \n",
       "825772             5.0      7.0        4         2                     2  \n",
       "825776             9.0      5.0        5         1                     1  \n",
       "825787             3.0      4.0        3         1                     4  \n",
       "\n",
       "[891221 rows x 365 columns]"
      ]
     },
     "execution_count": 3,
     "metadata": {},
     "output_type": "execute_result"
    }
   ],
   "source": [
    "%%time\n",
    "azdias = pd.read_csv('../arvato_data/Udacity_AZDIAS_052018.csv', sep=';', low_memory = False, index_col = 'LNR') \n",
    "azdias"
   ]
  },
  {
   "cell_type": "markdown",
   "metadata": {},
   "source": [
    "---"
   ]
  },
  {
   "cell_type": "markdown",
   "metadata": {},
   "source": [
    "# 02. Basic data characteristics"
   ]
  },
  {
   "cell_type": "markdown",
   "metadata": {},
   "source": [
    "## 02. 01. Empty cells\n",
    "\n",
    "Before exploring the values contained in the cells, it is essential to understand how many missing values are present. I.e. values that were **not entered**, now \"unknown\" from the perspective of the data curator, the latter will come later."
   ]
  },
  {
   "cell_type": "code",
   "execution_count": 4,
   "metadata": {},
   "outputs": [
    {
     "name": "stdout",
     "output_type": "stream",
     "text": [
      "CPU times: user 1.08 s, sys: 300 ms, total: 1.38 s\n",
      "Wall time: 1.38 s\n"
     ]
    },
    {
     "data": {
      "text/plain": [
       "<matplotlib.axes._subplots.AxesSubplot at 0x7fbd71ca7240>"
      ]
     },
     "execution_count": 4,
     "metadata": {},
     "output_type": "execute_result"
    },
    {
     "data": {
      "image/png": "[encoded data removed]",
      "text/plain": [
       "<Figure size 1440x216 with 1 Axes>"
      ]
     },
     "metadata": {
      "needs_background": "light"
     },
     "output_type": "display_data"
    }
   ],
   "source": [
    "%%time\n",
    "empty_cells = pd.isnull(azdias).sum()*100.0/azdias.shape[0]\n",
    "empty_cells = empty_cells.sort_values(ascending=False)\n",
    "empty_cells[:50].plot(figsize=(20,3),kind='bar') # bar plot of first 50 most missing features"
   ]
  },
  {
   "cell_type": "markdown",
   "metadata": {},
   "source": [
    "(Above) a barplot showing 50 most missing features, ordered by the percentage of missing values.\n",
    "\n",
    "(Below) Histogram showing that most features have `NAs` less than 20% of the time:"
   ]
  },
  {
   "cell_type": "code",
   "execution_count": 5,
   "metadata": {},
   "outputs": [
    {
     "data": {
      "text/plain": [
       "[]"
      ]
     },
     "execution_count": 5,
     "metadata": {},
     "output_type": "execute_result"
    },
    {
     "data": {
      "image/png": "[encoded data removed]",
      "text/plain": [
       "<Figure size 432x288 with 1 Axes>"
      ]
     },
     "metadata": {
      "needs_background": "light"
     },
     "output_type": "display_data"
    }
   ],
   "source": [
    "plt.hist(empty_cells,bins=15)\n",
    "plt.plot()"
   ]
  },
  {
   "cell_type": "markdown",
   "metadata": {},
   "source": [
    "For subsequent steps in pre-processing, I will be establishing a cutoff threshold for a feature removal: called `missingness_threshold_percentage`. \n",
    "> If a feature is missing more or equal to `missingness_threshold_percentage`% of its entries, I am removing that feature from subsequent analysis. Since the data is describing general population, and high values of missingness might introduce a lot of spuriousness to the analysis. \n"
   ]
  },
  {
   "cell_type": "code",
   "execution_count": 6,
   "metadata": {},
   "outputs": [],
   "source": [
    "missingness_threshold_percentage=30"
   ]
  },
  {
   "cell_type": "code",
   "execution_count": 7,
   "metadata": {},
   "outputs": [
    {
     "data": {
      "text/plain": [
       "6"
      ]
     },
     "execution_count": 7,
     "metadata": {},
     "output_type": "execute_result"
    }
   ],
   "source": [
    "np.sum(empty_cells>=missingness_threshold_percentage)"
   ]
  },
  {
   "cell_type": "markdown",
   "metadata": {},
   "source": [
    "For now, with 30% cut-off threshold I would remove **6 features**. But I will postpose this step for now to identify other entries annotated as \"missing/unknown\"."
   ]
  },
  {
   "cell_type": "markdown",
   "metadata": {},
   "source": [
    "## 02.02. Undefined entries\n",
    "I am utilizing provided matadata file `DIAS Attributes - Values 2017.xlsx` to extract the possible value types for defined features (columns in `azidas` dataset).\n",
    "\n",
    "Due to the specific formatting, a forward-fill function is applied `ffill`. "
   ]
  },
  {
   "cell_type": "markdown",
   "metadata": {},
   "source": [
    "Upon manual inspection, the values for \"unknown\" are sometimes encoded as -1, sometimes as 0 or 9, and sometimes as both -1,9 or 0. But there are features in which for example 0 does not mean unknown. And there are features marked with string `...` indicating a **float values**, as opposed to a categorical one.\n",
    "\n",
    "In this step, I am going to count number of \"unknown\" entries per feature. The idea is that \"missing entries\" (point 02.01) and unknown entries \"02.02\" might have different sources, but inevitabely lead to the same conclusions for the sake of the analysis -> unavailable data.\n",
    "\n",
    "I am going to use the keyword \"unknown\" to match the values in the column \"meaning\", to extract a dataframe of attributes and its values defining unknown entries:"
   ]
  },
  {
   "cell_type": "markdown",
   "metadata": {},
   "source": [
    "And now I will change values in loaded dataset: `azdias` that match the missing values in specified attributes to `NANs`:"
   ]
  },
  {
   "cell_type": "code",
   "execution_count": 108,
   "metadata": {
    "scrolled": true
   },
   "outputs": [
    {
     "name": "stdout",
     "output_type": "stream",
     "text": [
      "Found [-1 '-1, 0' 0 10 '-1, 9' '-1'] unique combination of values indicating/encoding missing entries \n",
      "\n",
      "Warning! AKT_DAT_KL feature is missing metadata annotation!\n",
      "Warning! ALTER_KIND1 feature is missing metadata annotation!\n",
      "Warning! ALTER_KIND2 feature is missing metadata annotation!\n",
      "Warning! ALTER_KIND3 feature is missing metadata annotation!\n",
      "Warning! ALTER_KIND4 feature is missing metadata annotation!\n",
      "Warning! ALTERSKATEGORIE_FEIN feature is missing metadata annotation!\n",
      "Warning! ANZ_KINDER feature is missing metadata annotation!\n",
      "Warning! ANZ_STATISTISCHE_HAUSHALTE feature is missing metadata annotation!\n",
      "Warning! ARBEIT feature is missing metadata annotation!\n",
      "Warning! CAMEO_INTL_2015 feature is missing metadata annotation!\n",
      "Warning! CJT_KATALOGNUTZER feature is missing metadata annotation!\n",
      "Warning! CJT_TYP_1 feature is missing metadata annotation!\n",
      "Warning! CJT_TYP_2 feature is missing metadata annotation!\n",
      "Warning! CJT_TYP_3 feature is missing metadata annotation!\n",
      "Warning! CJT_TYP_4 feature is missing metadata annotation!\n",
      "Warning! CJT_TYP_5 feature is missing metadata annotation!\n",
      "Warning! CJT_TYP_6 feature is missing metadata annotation!\n",
      "Warning! D19_BANKEN_DIREKT feature is missing metadata annotation!\n",
      "Warning! D19_BANKEN_GROSS feature is missing metadata annotation!\n",
      "Warning! D19_BANKEN_LOKAL feature is missing metadata annotation!\n",
      "Warning! D19_BANKEN_REST feature is missing metadata annotation!\n",
      "Warning! D19_BEKLEIDUNG_GEH feature is missing metadata annotation!\n",
      "Warning! D19_BEKLEIDUNG_REST feature is missing metadata annotation!\n",
      "Warning! D19_BILDUNG feature is missing metadata annotation!\n",
      "Warning! D19_BIO_OEKO feature is missing metadata annotation!\n",
      "Warning! D19_BUCH_CD feature is missing metadata annotation!\n",
      "Warning! D19_DIGIT_SERV feature is missing metadata annotation!\n",
      "Warning! D19_DROGERIEARTIKEL feature is missing metadata annotation!\n",
      "Warning! D19_ENERGIE feature is missing metadata annotation!\n",
      "Warning! D19_FREIZEIT feature is missing metadata annotation!\n",
      "Warning! D19_GARTEN feature is missing metadata annotation!\n",
      "Warning! D19_HANDWERK feature is missing metadata annotation!\n",
      "Warning! D19_HAUS_DEKO feature is missing metadata annotation!\n",
      "Warning! D19_KINDERARTIKEL feature is missing metadata annotation!\n",
      "Warning! D19_KONSUMTYP_MAX feature is missing metadata annotation!\n",
      "Warning! D19_KOSMETIK feature is missing metadata annotation!\n",
      "Warning! D19_LEBENSMITTEL feature is missing metadata annotation!\n",
      "Warning! D19_LETZTER_KAUF_BRANCHE feature is missing metadata annotation!\n",
      "Warning! D19_LOTTO feature is missing metadata annotation!\n",
      "Warning! D19_NAHRUNGSERGAENZUNG feature is missing metadata annotation!\n",
      "Warning! D19_RATGEBER feature is missing metadata annotation!\n",
      "Warning! D19_REISEN feature is missing metadata annotation!\n",
      "Warning! D19_SAMMELARTIKEL feature is missing metadata annotation!\n",
      "Warning! D19_SCHUHE feature is missing metadata annotation!\n",
      "Warning! D19_SONSTIGE feature is missing metadata annotation!\n",
      "Warning! D19_SOZIALES feature is missing metadata annotation!\n",
      "Warning! D19_TECHNIK feature is missing metadata annotation!\n",
      "Warning! D19_TELKO_MOBILE feature is missing metadata annotation!\n",
      "Warning! D19_TELKO_ONLINE_QUOTE_12 feature is missing metadata annotation!\n",
      "Warning! D19_TELKO_REST feature is missing metadata annotation!\n",
      "Warning! D19_TIERARTIKEL feature is missing metadata annotation!\n",
      "Warning! D19_VERSAND_REST feature is missing metadata annotation!\n",
      "Warning! D19_VERSI_DATUM feature is missing metadata annotation!\n",
      "Warning! D19_VERSI_OFFLINE_DATUM feature is missing metadata annotation!\n",
      "Warning! D19_VERSI_ONLINE_DATUM feature is missing metadata annotation!\n",
      "Warning! D19_VERSI_ONLINE_QUOTE_12 feature is missing metadata annotation!\n",
      "Warning! D19_VERSICHERUNGEN feature is missing metadata annotation!\n",
      "Warning! D19_VOLLSORTIMENT feature is missing metadata annotation!\n",
      "Warning! D19_WEIN_FEINKOST feature is missing metadata annotation!\n",
      "Warning! DSL_FLAG feature is missing metadata annotation!\n",
      "Warning! EINGEFUEGT_AM feature is missing metadata annotation!\n",
      "Warning! EINGEZOGENAM_HH_JAHR feature is missing metadata annotation!\n",
      "Warning! EXTSEL992 feature is missing metadata annotation!\n",
      "Warning! FIRMENDICHTE feature is missing metadata annotation!\n",
      "Warning! GEMEINDETYP feature is missing metadata annotation!\n",
      "Warning! HH_DELTA_FLAG feature is missing metadata annotation!\n",
      "Warning! KBA13_ANTG1 feature is missing metadata annotation!\n",
      "Warning! KBA13_ANTG2 feature is missing metadata annotation!\n",
      "Warning! KBA13_ANTG3 feature is missing metadata annotation!\n",
      "Warning! KBA13_ANTG4 feature is missing metadata annotation!\n",
      "Warning! KBA13_BAUMAX feature is missing metadata annotation!\n",
      "Warning! KBA13_CCM_1401_2500 feature is missing metadata annotation!\n",
      "Warning! KBA13_GBZ feature is missing metadata annotation!\n",
      "Warning! KBA13_HHZ feature is missing metadata annotation!\n",
      "Warning! KBA13_KMH_210 feature is missing metadata annotation!\n",
      "Warning! KK_KUNDENTYP feature is missing metadata annotation!\n",
      "Warning! KOMBIALTER feature is missing metadata annotation!\n",
      "Warning! KONSUMZELLE feature is missing metadata annotation!\n",
      "Warning! MOBI_RASTER feature is missing metadata annotation!\n",
      "Warning! RT_KEIN_ANREIZ feature is missing metadata annotation!\n",
      "Warning! RT_SCHNAEPPCHEN feature is missing metadata annotation!\n",
      "Warning! RT_UEBERGROESSE feature is missing metadata annotation!\n",
      "Warning! SOHO_KZ feature is missing metadata annotation!\n",
      "Warning! STRUKTURTYP feature is missing metadata annotation!\n",
      "Warning! UMFELD_ALT feature is missing metadata annotation!\n",
      "Warning! UMFELD_JUNG feature is missing metadata annotation!\n",
      "Warning! UNGLEICHENN_FLAG feature is missing metadata annotation!\n",
      "Warning! VERDICHTUNGSRAUM feature is missing metadata annotation!\n",
      "Warning! VHA feature is missing metadata annotation!\n",
      "Warning! VHN feature is missing metadata annotation!\n",
      "Warning! VK_DHT4A feature is missing metadata annotation!\n",
      "Warning! VK_DISTANZ feature is missing metadata annotation!\n",
      "Warning! VK_ZG11 feature is missing metadata annotation!\n",
      "Info!: D19_GARTEN_RZ feature in metadata not present in target dataset\n",
      "Info!: D19_HAUS_DEKO_RZ feature in metadata not present in target dataset\n",
      "Info!: D19_LEBENSMITTEL_RZ feature in metadata not present in target dataset\n",
      "Info!: D19_TELKO_MOBILE_RZ feature in metadata not present in target dataset\n",
      "Info!: D19_BILDUNG_RZ feature in metadata not present in target dataset\n",
      "Info!: D19_VOLLSORTIMENT_RZ feature in metadata not present in target dataset\n",
      "Info!: D19_BEKLEIDUNG_GEH_RZ feature in metadata not present in target dataset\n",
      "Info!: HAUSHALTSSTRUKTUR feature in metadata not present in target dataset\n",
      "Info!: D19_BANKEN_LOKAL_RZ feature in metadata not present in target dataset\n",
      "Info!: D19_VERSAND_REST_RZ feature in metadata not present in target dataset\n",
      "Info!: D19_SAMMELARTIKEL_RZ feature in metadata not present in target dataset\n",
      "Info!: D19_LOTTO_RZ feature in metadata not present in target dataset\n",
      "Info!: D19_REISEN_RZ feature in metadata not present in target dataset\n",
      "Info!: D19_SCHUHE_RZ feature in metadata not present in target dataset\n",
      "Info!: D19_BANKEN_GROSS_RZ feature in metadata not present in target dataset\n",
      "Info!: KBA13_CCM_1400_2500 feature in metadata not present in target dataset\n",
      "Info!: D19_FREIZEIT_RZ feature in metadata not present in target dataset\n",
      "Info!: D19_WEIN_FEINKOST_RZ feature in metadata not present in target dataset\n",
      "Info!: D19_KOSMETIK_RZ feature in metadata not present in target dataset\n",
      "Info!: D19_TECHNIK_RZ feature in metadata not present in target dataset\n",
      "Info!: SOHO_FLAG feature in metadata not present in target dataset\n",
      "Info!: GEOSCORE_KLS7 feature in metadata not present in target dataset\n",
      "Info!: D19_DIGIT_SERV_RZ feature in metadata not present in target dataset\n",
      "Info!: D19_RATGEBER_RZ feature in metadata not present in target dataset\n",
      "Info!: D19_KK_KUNDENTYP feature in metadata not present in target dataset\n",
      "Info!: CAMEO_DEUINTL_2015 feature in metadata not present in target dataset\n",
      "Info!: WACHSTUMSGEBIET_NB feature in metadata not present in target dataset\n",
      "Info!: D19_NAHRUNGSERGAENZUNG_RZ feature in metadata not present in target dataset\n",
      "Info!: D19_KINDERARTIKEL_RZ feature in metadata not present in target dataset\n",
      "Info!: D19_BANKEN_REST_RZ feature in metadata not present in target dataset\n",
      "Info!: D19_BUCH_RZ feature in metadata not present in target dataset\n",
      "Info!: D19_DROGERIEARTIKEL_RZ feature in metadata not present in target dataset\n",
      "Info!: D19_BIO_OEKO_RZ feature in metadata not present in target dataset\n",
      "Info!: D19_ENERGIE_RZ feature in metadata not present in target dataset\n",
      "Info!: D19_TELKO_REST_RZ feature in metadata not present in target dataset\n",
      "Info!: D19_HANDWERK_RZ feature in metadata not present in target dataset\n",
      "Info!: D19_BEKLEIDUNG_REST_RZ feature in metadata not present in target dataset\n",
      "Info!: D19_TIERARTIKEL_RZ feature in metadata not present in target dataset\n",
      "Info!: D19_SONSTIGE_RZ feature in metadata not present in target dataset\n",
      "Info!: D19_BANKEN_DIREKT_RZ feature in metadata not present in target dataset\n",
      "Info!: D19_VERSICHERUNGEN_RZ feature in metadata not present in target dataset\n",
      "Info!: BIP_FLAG feature in metadata not present in target dataset\n"
     ]
    },
    {
     "ename": "ValueError",
     "evalue": "too many values to unpack (expected 3)",
     "output_type": "error",
     "traceback": [
      "\u001b[0;31m---------------------------------------------------------------------------\u001b[0m",
      "\u001b[0;31mValueError\u001b[0m                                Traceback (most recent call last)",
      "\u001b[0;32m<ipython-input-108-ef4c7853ee3e>\u001b[0m in \u001b[0;36m<module>\u001b[0;34m\u001b[0m\n\u001b[1;32m      1\u001b[0m \u001b[0mmetadata_attributes\u001b[0m \u001b[0;34m=\u001b[0m \u001b[0;34mr\"../arvato_data/DIAS Attributes - Values 2017.xlsx\"\u001b[0m\u001b[0;34m\u001b[0m\u001b[0;34m\u001b[0m\u001b[0m\n\u001b[0;32m----> 2\u001b[0;31m \u001b[0mazdias\u001b[0m\u001b[0;34m,\u001b[0m\u001b[0mmissing_metadata_annotations\u001b[0m\u001b[0;34m,\u001b[0m\u001b[0mnot_present_features\u001b[0m \u001b[0;34m=\u001b[0m \u001b[0munknown_to_nan\u001b[0m\u001b[0;34m(\u001b[0m\u001b[0mazdias\u001b[0m\u001b[0;34m,\u001b[0m \u001b[0mmetadata_attributes\u001b[0m \u001b[0;34m,\u001b[0m \u001b[0;34m'unknown|no transactions known'\u001b[0m\u001b[0;34m)\u001b[0m\u001b[0;34m\u001b[0m\u001b[0;34m\u001b[0m\u001b[0m\n\u001b[0m",
      "\u001b[0;31mValueError\u001b[0m: too many values to unpack (expected 3)"
     ]
    }
   ],
   "source": [
    "metadata_attributes = r\"../arvato_data/DIAS Attributes - Values 2017.xlsx\"\n",
    "azdias,missing_metadata_annotations,not_present_features = unknown_to_nan(azdias, metadata_attributes , 'unknown|no transactions known') "
   ]
  },
  {
   "cell_type": "code",
   "execution_count": 93,
   "metadata": {},
   "outputs": [
    {
     "name": "stdout",
     "output_type": "stream",
     "text": [
      "93 dataset features lacking metadata information, while there are 42 features not used by provided dataset. \n"
     ]
    }
   ],
   "source": [
    "print(\"{} dataset features lacking metadata information, while there are {} features not used by provided dataset. \".\\\n",
    "      format(  len(missing_metadata_annotations), len(not_present_features) ) )"
   ]
  },
  {
   "cell_type": "markdown",
   "metadata": {},
   "source": [
    "## 02.03. Features renaming [intro]\n",
    "To investigate, let's take **for example** features that have \"D19\" in their name from both dataset and metadata information:"
   ]
  },
  {
   "cell_type": "code",
   "execution_count": 78,
   "metadata": {
    "scrolled": true
   },
   "outputs": [
    {
     "data": {
      "text/plain": [
       "['D19_BANKEN_GROSS_RZ',\n",
       " 'D19_FREIZEIT_RZ',\n",
       " 'D19_WEIN_FEINKOST_RZ',\n",
       " 'D19_VOLLSORTIMENT_RZ',\n",
       " 'D19_NAHRUNGSERGAENZUNG_RZ',\n",
       " 'D19_GARTEN_RZ',\n",
       " 'D19_KINDERARTIKEL_RZ',\n",
       " 'D19_BEKLEIDUNG_GEH_RZ',\n",
       " 'D19_BANKEN_REST_RZ',\n",
       " 'D19_KOSMETIK_RZ',\n",
       " 'D19_TECHNIK_RZ',\n",
       " 'D19_BUCH_RZ',\n",
       " 'D19_DROGERIEARTIKEL_RZ',\n",
       " 'D19_BIO_OEKO_RZ',\n",
       " 'D19_ENERGIE_RZ',\n",
       " 'D19_HAUS_DEKO_RZ',\n",
       " 'D19_DIGIT_SERV_RZ',\n",
       " 'D19_BANKEN_LOKAL_RZ',\n",
       " 'D19_RATGEBER_RZ',\n",
       " 'D19_TELKO_REST_RZ',\n",
       " 'D19_VERSAND_REST_RZ',\n",
       " 'D19_HANDWERK_RZ',\n",
       " 'D19_BEKLEIDUNG_REST_RZ',\n",
       " 'D19_KK_KUNDENTYP',\n",
       " 'D19_SAMMELARTIKEL_RZ',\n",
       " 'D19_TIERARTIKEL_RZ',\n",
       " 'D19_SONSTIGE_RZ',\n",
       " 'D19_LOTTO_RZ',\n",
       " 'D19_BANKEN_DIREKT_RZ',\n",
       " 'D19_LEBENSMITTEL_RZ',\n",
       " 'D19_REISEN_RZ',\n",
       " 'D19_SCHUHE_RZ',\n",
       " 'D19_VERSICHERUNGEN_RZ',\n",
       " 'D19_TELKO_MOBILE_RZ',\n",
       " 'D19_BILDUNG_RZ']"
      ]
     },
     "execution_count": 78,
     "metadata": {},
     "output_type": "execute_result"
    }
   ],
   "source": [
    "[x for x in  not_present_features if \"D19\" in x]"
   ]
  },
  {
   "cell_type": "code",
   "execution_count": 77,
   "metadata": {
    "scrolled": true
   },
   "outputs": [
    {
     "data": {
      "text/plain": [
       "['D19_BEKLEIDUNG_GEH',\n",
       " 'D19_GARTEN',\n",
       " 'D19_WEIN_FEINKOST',\n",
       " 'D19_BANKEN_GROSS',\n",
       " 'D19_BUCH_CD',\n",
       " 'D19_DIGIT_SERV',\n",
       " 'D19_DROGERIEARTIKEL',\n",
       " 'D19_SAMMELARTIKEL',\n",
       " 'D19_LOTTO',\n",
       " 'D19_TELKO_ONLINE_QUOTE_12',\n",
       " 'D19_TELKO_REST',\n",
       " 'D19_RATGEBER',\n",
       " 'D19_BILDUNG',\n",
       " 'D19_BANKEN_DIREKT',\n",
       " 'D19_SONSTIGE',\n",
       " 'D19_ENERGIE',\n",
       " 'D19_BANKEN_REST',\n",
       " 'D19_VERSI_ONLINE_QUOTE_12',\n",
       " 'D19_KINDERARTIKEL',\n",
       " 'D19_VERSI_OFFLINE_DATUM',\n",
       " 'D19_VOLLSORTIMENT',\n",
       " 'D19_LEBENSMITTEL',\n",
       " 'D19_KOSMETIK',\n",
       " 'D19_TELKO_MOBILE',\n",
       " 'D19_VERSICHERUNGEN',\n",
       " 'D19_FREIZEIT',\n",
       " 'D19_BIO_OEKO',\n",
       " 'D19_TECHNIK',\n",
       " 'D19_HANDWERK',\n",
       " 'D19_VERSI_DATUM',\n",
       " 'D19_SOZIALES',\n",
       " 'D19_HAUS_DEKO',\n",
       " 'D19_NAHRUNGSERGAENZUNG',\n",
       " 'D19_TIERARTIKEL',\n",
       " 'D19_LETZTER_KAUF_BRANCHE',\n",
       " 'D19_KONSUMTYP_MAX',\n",
       " 'D19_BANKEN_LOKAL',\n",
       " 'D19_VERSI_ONLINE_DATUM',\n",
       " 'D19_BEKLEIDUNG_REST',\n",
       " 'D19_SCHUHE',\n",
       " 'D19_REISEN',\n",
       " 'D19_VERSAND_REST']"
      ]
     },
     "execution_count": 77,
     "metadata": {},
     "output_type": "execute_result"
    }
   ],
   "source": [
    "[x for x in  missing_metadata_annotations if \"D19\" in x]"
   ]
  },
  {
   "cell_type": "code",
   "execution_count": 91,
   "metadata": {},
   "outputs": [
    {
     "data": {
      "text/plain": [
       "LNR\n",
       "910215    0\n",
       "910220    0\n",
       "910225    0\n",
       "910226    0\n",
       "910241    1\n",
       "         ..\n",
       "825761    0\n",
       "825771    0\n",
       "825772    6\n",
       "825776    0\n",
       "825787    0\n",
       "Name: D19_BANKEN_DIREKT, Length: 891221, dtype: int64"
      ]
     },
     "execution_count": 91,
     "metadata": {},
     "output_type": "execute_result"
    }
   ],
   "source": [
    "azdias['D19_BANKEN_DIREKT']"
   ]
  },
  {
   "cell_type": "markdown",
   "metadata": {},
   "source": [
    "It seems that there are examples, like:\n",
    "\n",
    "- `D19_TELKO_MOBILE` (present in `AZIDAS` dataset), but lacking metadata entry, however the `D19_TELKO_MOBILE_RZ` is defined in metadata.\n",
    "\n",
    "- `D19_BANKEN_GROSS` in the dataset, and `D19_BANKEN_GROSS_RZ` in metadata\n",
    "\n",
    "for this particular example, it is perhaps worth assuming that these features refer to the same concept. \n",
    "\n",
    "It is particularly important to reduce the number of data fields that lack metadata information, as we need to define a concept of missingness. For example `D19_TELKO_MOBILE_RZ` in provided metadata file defines the fields as: \"transactional activity based on the product group MOBILE COMMUNICATION\", and is described by several categories:\n",
    "\n",
    "```\n",
    "0\tno transaction known\n",
    "1\tMultibuyer 0-12 months\n",
    "2\tDoublebuyer 0-12 months\n",
    "3\tSinglebuyer 0-12 months\n",
    "4\tMulti-/Doublebuyer 13-24 months\n",
    "5\tSinglebuyer 13-24 months\n",
    "6\tBuyer > 24 months\n",
    "7\tProspects > 24 months\n",
    "```\n",
    "\n",
    "We might wonder what this `0` means really - this would be a question to the data curator. \n",
    "\n",
    "\n",
    "If 0 label (no known transation) is interpreted as a lack of knowledge, i.e. missing value, then this value **in reality** could be really one of the 1-7 classes. Thus 0 would be associated with uncertainity, i.e. missing value. Then we can either drop it, or try to impute it based on other features. But if we're certain that it indicates no transations, then it is a valid category in itself. \n",
    "\n",
    "One thing is that `D19_TELKO_MOBILE` feature does not hold any `NAs` values in the loaded dataframe:"
   ]
  },
  {
   "cell_type": "code",
   "execution_count": 86,
   "metadata": {},
   "outputs": [
    {
     "data": {
      "text/plain": [
       "0"
      ]
     },
     "execution_count": 86,
     "metadata": {},
     "output_type": "execute_result"
    }
   ],
   "source": [
    "np.sum(np.isnan(azdias['D19_TELKO_MOBILE']))"
   ]
  },
  {
   "cell_type": "code",
   "execution_count": 44,
   "metadata": {
    "scrolled": true
   },
   "outputs": [
    {
     "data": {
      "text/plain": [
       "array([ 2.,  3.,  4.,  5.,  6.,  7.,  8.,  9., 10., 11., 12., 13., 14.,\n",
       "       15., 16., 17., 18.])"
      ]
     },
     "execution_count": 44,
     "metadata": {},
     "output_type": "execute_result"
    }
   ],
   "source": [
    "np.unique(azdias['ALTER_KIND1'].dropna())"
   ]
  },
  {
   "cell_type": "markdown",
   "metadata": {},
   "source": [
    "As we see in the cell output above there are a couple of non-common features between the dataset and the provided metadata, namely\n",
    "1. There are **93** feature names defined in the provided dataset that lack the exact definition in provided metadata.\n",
    "\n",
    "2. There are 8 entries in the metadata, that were not provided for the dataset.\n",
    "\n",
    "Whereas the (2) point is not that important (there might have been more features described, but they didn't make it to the final dataset for some reason) the first step requires some attention. If we're missing annotations for 93 features, then we're missing a source of the \"unknown/undefined/NA\", that could help us standardize the unknown tokens in the dataset."
   ]
  },
  {
   "cell_type": "markdown",
   "metadata": {},
   "source": [
    "Let's take as an example feature `D19_TELKO_MOBILE` defined in `AZDIAS` dataset, but not present exactly in the metadata file `DIAS Attributes - Values 2017.xlsx`. There I find a field `D19_TELKO_MOBILE_RZ` that seems to correspond to that field."
   ]
  },
  {
   "cell_type": "code",
   "execution_count": 9,
   "metadata": {},
   "outputs": [
    {
     "data": {
      "text/plain": [
       "array([ 0.,  1.,  2.,  3.,  4.,  5.,  6.,  7.,  8.,  9., 10., 11., 12.,\n",
       "       13., 14., 15., 16., 17., 18., 19., 20., 21., 22., 23., 24., 25.,\n",
       "       26., 27., 28., 29., 30., 31., 32., 33., 34., 35., 36., 37., 38.,\n",
       "       39., 40., 41., 42., 43., 44., 45.])"
      ]
     },
     "execution_count": 9,
     "metadata": {},
     "output_type": "execute_result"
    }
   ],
   "source": [
    "np.unique((azdias['VERDICHTUNGSRAUM']).dropna())"
   ]
  },
  {
   "cell_type": "code",
   "execution_count": 10,
   "metadata": {},
   "outputs": [
    {
     "data": {
      "text/plain": [
       "8.247000463409188"
      ]
     },
     "execution_count": 10,
     "metadata": {},
     "output_type": "execute_result"
    }
   ],
   "source": [
    "sum((azdias['AKT_DAT_KL']).isna()*100)/azdias.shape[0]"
   ]
  },
  {
   "cell_type": "code",
   "execution_count": 11,
   "metadata": {},
   "outputs": [
    {
     "name": "stdout",
     "output_type": "stream",
     "text": [
      "CPU times: user 1.83 s, sys: 1.47 s, total: 3.3 s\n",
      "Wall time: 3.3 s\n"
     ]
    },
    {
     "data": {
      "text/plain": [
       "<matplotlib.axes._subplots.AxesSubplot at 0x7fbcfc89bc88>"
      ]
     },
     "execution_count": 11,
     "metadata": {},
     "output_type": "execute_result"
    },
    {
     "data": {
      "image/png": "[encoded data removed]",
      "text/plain": [
       "<Figure size 1440x216 with 1 Axes>"
      ]
     },
     "metadata": {
      "needs_background": "light"
     },
     "output_type": "display_data"
    }
   ],
   "source": [
    "%%time\n",
    "empty_cells = pd.isnull(azdias).sum()*100.0/azdias.shape[0]\n",
    "empty_cells = empty_cells.sort_values(ascending=False)\n",
    "empty_cells[:50].plot(figsize=(20,3),kind='bar') # bar plot of first 50 most missing features"
   ]
  },
  {
   "cell_type": "code",
   "execution_count": 12,
   "metadata": {},
   "outputs": [
    {
     "data": {
      "text/plain": [
       "[]"
      ]
     },
     "execution_count": 12,
     "metadata": {},
     "output_type": "execute_result"
    },
    {
     "data": {
      "image/png": "[encoded data removed]",
      "text/plain": [
       "<Figure size 432x288 with 1 Axes>"
      ]
     },
     "metadata": {
      "needs_background": "light"
     },
     "output_type": "display_data"
    }
   ],
   "source": [
    "plt.hist(empty_cells,bins=15)\n",
    "plt.plot()"
   ]
  },
  {
   "cell_type": "code",
   "execution_count": 13,
   "metadata": {},
   "outputs": [
    {
     "data": {
      "text/plain": [
       "10"
      ]
     },
     "execution_count": 13,
     "metadata": {},
     "output_type": "execute_result"
    }
   ],
   "source": [
    "np.sum(empty_cells>missingness_threshold_percentage)"
   ]
  },
  {
   "cell_type": "markdown",
   "metadata": {},
   "source": [
    "We see that with inclusion of \"unknown\" data labels as not available, we obtain 7 features that exceed the arbitrary `missingness_threshold_percentage` I set to 30%, i.e. one more if I didn't standardize the m\n",
    "\n",
    "Moreover, all the missing/unavailable/unknown entries are now jointly encoded as a `NaN` (**standarization step**)."
   ]
  },
  {
   "cell_type": "markdown",
   "metadata": {},
   "source": [
    "---"
   ]
  },
  {
   "cell_type": "markdown",
   "metadata": {},
   "source": [
    "## 02.03. Missingness filtering\n",
    "\n",
    "After identifying number of empty cells (`NaNs`, and convering unknown values to `NaNs` I'll filter (remove) features that exhibit missingnes above `missingness_threshold_percentage`"
   ]
  },
  {
   "cell_type": "code",
   "execution_count": null,
   "metadata": {},
   "outputs": [],
   "source": []
  }
 ],
 "metadata": {
  "kernelspec": {
   "display_name": "conda_amazonei_mxnet_p36",
   "language": "python",
   "name": "conda_amazonei_mxnet_p36"
  },
  "language_info": {
   "codemirror_mode": {
    "name": "ipython",
    "version": 3
   },
   "file_extension": ".py",
   "mimetype": "text/x-python",
   "name": "python",
   "nbconvert_exporter": "python",
   "pygments_lexer": "ipython3",
   "version": "3.6.10"
  }
 },
 "nbformat": 4,
 "nbformat_minor": 4
}
